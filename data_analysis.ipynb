{
  "nbformat": 4,
  "nbformat_minor": 0,
  "metadata": {
    "colab": {
      "provenance": []
    },
    "kernelspec": {
      "name": "python3",
      "display_name": "Python 3"
    },
    "language_info": {
      "name": "python"
    }
  },
  "cells": [
    {
      "cell_type": "markdown",
      "source": [
        "In the **data_acquisition** notebook, we gathered data from three different data sources and then processed it to create tables in the database. We created three tables and populated those using SQL queries in the database. Therefore, our database is complete and can be accessed for the analysis purpose. "
      ],
      "metadata": {
        "id": "OUapCjmm0qU-"
      }
    },
    {
      "cell_type": "markdown",
      "source": [
        "In this notebook, we will be using the database to analyze the data in order to reach a conclusion for our central question. We will use SQL queries to obtain the required data from the tables in the database and then transform it to pandas dataframe, so that we can pefrom further operations on the dataframe as needed. Then, we will visually represent the data through graphs for better understanding of the data."
      ],
      "metadata": {
        "id": "SzOESORC6jyv"
      }
    },
    {
      "cell_type": "markdown",
      "source": [
        "**FYI: After running all the cells for the first time, please proceed to the second code cell and run it again in order to establish a connection to the database. After that you may run the cells.**"
      ],
      "metadata": {
        "id": "WbGe1Ejt30El"
      }
    },
    {
      "cell_type": "markdown",
      "source": [
        "Importing the necessary libraries."
      ],
      "metadata": {
        "id": "oMC6NOfkz7Ly"
      }
    },
    {
      "cell_type": "code",
      "execution_count": 17,
      "metadata": {
        "id": "8IRW2r27giph"
      },
      "outputs": [],
      "source": [
        "import pandas as pd\n",
        "import numpy as np \n",
        "import sqlite3\n",
        "import plotly.express as px\n",
        "import plotly.graph_objects as go\n",
        "import warnings \n",
        "warnings.filterwarnings('ignore') "
      ]
    },
    {
      "cell_type": "markdown",
      "source": [
        "We use our first table in the database, which contains the **Covid-19 data**, to create a dataframe. To do this, we first create a connection to our database using `sqlite3.connect()`. Then we write a SQL query to obtain the specific columns from the table and then read that SQL query into dataframe using the `read_sql_query()` function. "
      ],
      "metadata": {
        "id": "4wvYNzY-_mAW"
      }
    },
    {
      "cell_type": "code",
      "source": [
        "conn = sqlite3.connect(\"covid.db\")\n",
        "\n",
        "table_1 = 'covid_data'\n",
        "cols = 'country, [Tot\\xa0Cases/1M pop], [Deaths/1M pop]'\n",
        "\n",
        "qry = f\"SELECT {cols} FROM {table_1}\"\n",
        "\n",
        "df = pd.read_sql_query(qry, conn) "
      ],
      "metadata": {
        "id": "mNvRZZG280Z2"
      },
      "execution_count": 18,
      "outputs": []
    },
    {
      "cell_type": "markdown",
      "source": [
        "To make the dataframe display more precise, we used the `set_index()` to set the index as **country**. Then with the use of `replace` and `fillna` we fill all the missing data with the value 0 to indicate the absence of value. We also drop the unnecessary row and then displayed our first dataframe.\n",
        "\n",
        "This dataframe displays all the countries in its index and two columns: **Tot Cases(Covid)/1M pop**\tand **Deaths(Covid)/1M pop**, which we chose specifically for the plotting purpose. "
      ],
      "metadata": {
        "id": "FFFn0NMaC5Bi"
      }
    },
    {
      "cell_type": "code",
      "source": [
        "df = df.set_index(\"country\")\n",
        "df = df.replace('', np.nan).fillna(0)\n",
        "df = df.drop(['Total:'])\n",
        "df"
      ],
      "metadata": {
        "colab": {
          "base_uri": "https://localhost:8080/",
          "height": 455
        },
        "id": "hDqKLj9m9jbV",
        "outputId": "5a0c0d68-b3a6-4744-c549-79f103e6358e"
      },
      "execution_count": 19,
      "outputs": [
        {
          "output_type": "execute_result",
          "data": {
            "text/plain": [
              "               Tot Cases/1M pop Deaths/1M pop\n",
              "country                                      \n",
              "World                    83,898         854.4\n",
              "USA                     302,728         3,315\n",
              "India                    31,761           377\n",
              "France                  587,268         2,438\n",
              "Germany                 438,214         1,895\n",
              "...                         ...           ...\n",
              "Niue                    117,756             0\n",
              "Vatican City             36,295             0\n",
              "Western Sahara               16             2\n",
              "MS Zaandam                    0             0\n",
              "China                       252             4\n",
              "\n",
              "[231 rows x 2 columns]"
            ],
            "text/html": [
              "\n",
              "  <div id=\"df-5f1da3a9-d07e-41dc-b9e6-62e4fbbeb875\">\n",
              "    <div class=\"colab-df-container\">\n",
              "      <div>\n",
              "<style scoped>\n",
              "    .dataframe tbody tr th:only-of-type {\n",
              "        vertical-align: middle;\n",
              "    }\n",
              "\n",
              "    .dataframe tbody tr th {\n",
              "        vertical-align: top;\n",
              "    }\n",
              "\n",
              "    .dataframe thead th {\n",
              "        text-align: right;\n",
              "    }\n",
              "</style>\n",
              "<table border=\"1\" class=\"dataframe\">\n",
              "  <thead>\n",
              "    <tr style=\"text-align: right;\">\n",
              "      <th></th>\n",
              "      <th>Tot Cases/1M pop</th>\n",
              "      <th>Deaths/1M pop</th>\n",
              "    </tr>\n",
              "    <tr>\n",
              "      <th>country</th>\n",
              "      <th></th>\n",
              "      <th></th>\n",
              "    </tr>\n",
              "  </thead>\n",
              "  <tbody>\n",
              "    <tr>\n",
              "      <th>World</th>\n",
              "      <td>83,898</td>\n",
              "      <td>854.4</td>\n",
              "    </tr>\n",
              "    <tr>\n",
              "      <th>USA</th>\n",
              "      <td>302,728</td>\n",
              "      <td>3,315</td>\n",
              "    </tr>\n",
              "    <tr>\n",
              "      <th>India</th>\n",
              "      <td>31,761</td>\n",
              "      <td>377</td>\n",
              "    </tr>\n",
              "    <tr>\n",
              "      <th>France</th>\n",
              "      <td>587,268</td>\n",
              "      <td>2,438</td>\n",
              "    </tr>\n",
              "    <tr>\n",
              "      <th>Germany</th>\n",
              "      <td>438,214</td>\n",
              "      <td>1,895</td>\n",
              "    </tr>\n",
              "    <tr>\n",
              "      <th>...</th>\n",
              "      <td>...</td>\n",
              "      <td>...</td>\n",
              "    </tr>\n",
              "    <tr>\n",
              "      <th>Niue</th>\n",
              "      <td>117,756</td>\n",
              "      <td>0</td>\n",
              "    </tr>\n",
              "    <tr>\n",
              "      <th>Vatican City</th>\n",
              "      <td>36,295</td>\n",
              "      <td>0</td>\n",
              "    </tr>\n",
              "    <tr>\n",
              "      <th>Western Sahara</th>\n",
              "      <td>16</td>\n",
              "      <td>2</td>\n",
              "    </tr>\n",
              "    <tr>\n",
              "      <th>MS Zaandam</th>\n",
              "      <td>0</td>\n",
              "      <td>0</td>\n",
              "    </tr>\n",
              "    <tr>\n",
              "      <th>China</th>\n",
              "      <td>252</td>\n",
              "      <td>4</td>\n",
              "    </tr>\n",
              "  </tbody>\n",
              "</table>\n",
              "<p>231 rows × 2 columns</p>\n",
              "</div>\n",
              "      <button class=\"colab-df-convert\" onclick=\"convertToInteractive('df-5f1da3a9-d07e-41dc-b9e6-62e4fbbeb875')\"\n",
              "              title=\"Convert this dataframe to an interactive table.\"\n",
              "              style=\"display:none;\">\n",
              "        \n",
              "  <svg xmlns=\"http://www.w3.org/2000/svg\" height=\"24px\"viewBox=\"0 0 24 24\"\n",
              "       width=\"24px\">\n",
              "    <path d=\"M0 0h24v24H0V0z\" fill=\"none\"/>\n",
              "    <path d=\"M18.56 5.44l.94 2.06.94-2.06 2.06-.94-2.06-.94-.94-2.06-.94 2.06-2.06.94zm-11 1L8.5 8.5l.94-2.06 2.06-.94-2.06-.94L8.5 2.5l-.94 2.06-2.06.94zm10 10l.94 2.06.94-2.06 2.06-.94-2.06-.94-.94-2.06-.94 2.06-2.06.94z\"/><path d=\"M17.41 7.96l-1.37-1.37c-.4-.4-.92-.59-1.43-.59-.52 0-1.04.2-1.43.59L10.3 9.45l-7.72 7.72c-.78.78-.78 2.05 0 2.83L4 21.41c.39.39.9.59 1.41.59.51 0 1.02-.2 1.41-.59l7.78-7.78 2.81-2.81c.8-.78.8-2.07 0-2.86zM5.41 20L4 18.59l7.72-7.72 1.47 1.35L5.41 20z\"/>\n",
              "  </svg>\n",
              "      </button>\n",
              "      \n",
              "  <style>\n",
              "    .colab-df-container {\n",
              "      display:flex;\n",
              "      flex-wrap:wrap;\n",
              "      gap: 12px;\n",
              "    }\n",
              "\n",
              "    .colab-df-convert {\n",
              "      background-color: #E8F0FE;\n",
              "      border: none;\n",
              "      border-radius: 50%;\n",
              "      cursor: pointer;\n",
              "      display: none;\n",
              "      fill: #1967D2;\n",
              "      height: 32px;\n",
              "      padding: 0 0 0 0;\n",
              "      width: 32px;\n",
              "    }\n",
              "\n",
              "    .colab-df-convert:hover {\n",
              "      background-color: #E2EBFA;\n",
              "      box-shadow: 0px 1px 2px rgba(60, 64, 67, 0.3), 0px 1px 3px 1px rgba(60, 64, 67, 0.15);\n",
              "      fill: #174EA6;\n",
              "    }\n",
              "\n",
              "    [theme=dark] .colab-df-convert {\n",
              "      background-color: #3B4455;\n",
              "      fill: #D2E3FC;\n",
              "    }\n",
              "\n",
              "    [theme=dark] .colab-df-convert:hover {\n",
              "      background-color: #434B5C;\n",
              "      box-shadow: 0px 1px 3px 1px rgba(0, 0, 0, 0.15);\n",
              "      filter: drop-shadow(0px 1px 2px rgba(0, 0, 0, 0.3));\n",
              "      fill: #FFFFFF;\n",
              "    }\n",
              "  </style>\n",
              "\n",
              "      <script>\n",
              "        const buttonEl =\n",
              "          document.querySelector('#df-5f1da3a9-d07e-41dc-b9e6-62e4fbbeb875 button.colab-df-convert');\n",
              "        buttonEl.style.display =\n",
              "          google.colab.kernel.accessAllowed ? 'block' : 'none';\n",
              "\n",
              "        async function convertToInteractive(key) {\n",
              "          const element = document.querySelector('#df-5f1da3a9-d07e-41dc-b9e6-62e4fbbeb875');\n",
              "          const dataTable =\n",
              "            await google.colab.kernel.invokeFunction('convertToInteractive',\n",
              "                                                     [key], {});\n",
              "          if (!dataTable) return;\n",
              "\n",
              "          const docLinkHtml = 'Like what you see? Visit the ' +\n",
              "            '<a target=\"_blank\" href=https://colab.research.google.com/notebooks/data_table.ipynb>data table notebook</a>'\n",
              "            + ' to learn more about interactive tables.';\n",
              "          element.innerHTML = '';\n",
              "          dataTable['output_type'] = 'display_data';\n",
              "          await google.colab.output.renderOutput(dataTable, element);\n",
              "          const docLink = document.createElement('div');\n",
              "          docLink.innerHTML = docLinkHtml;\n",
              "          element.appendChild(docLink);\n",
              "        }\n",
              "      </script>\n",
              "    </div>\n",
              "  </div>\n",
              "  "
            ]
          },
          "metadata": {},
          "execution_count": 19
        }
      ]
    },
    {
      "cell_type": "markdown",
      "source": [
        "We use our second table in the database, which contains the **GDP (worldwide) from 2019**, to create a dataframe. First we write a SQL query to obtain the specific columns from the table and then read that SQL query into dataframe using the `read_sql_query()` function. "
      ],
      "metadata": {
        "id": "01KND1VHFIMg"
      }
    },
    {
      "cell_type": "code",
      "source": [
        "table_2 = 'gdp2019'\n",
        "cols = '[Country/Territory],[GDP(US$million)]'\n",
        "\n",
        "qry = f\"SELECT {cols} FROM {table_2}\"\n",
        "\n",
        "df1 = pd.read_sql_query(qry, conn)"
      ],
      "metadata": {
        "id": "iFaqiuhm85tc"
      },
      "execution_count": 20,
      "outputs": []
    },
    {
      "cell_type": "markdown",
      "source": [
        "We did some changes in the display of the dataframe. To allign the index name with the first dataframe, we used `rename()` to change the name of the first column to **country** and then set the name of couple of countries as needed. Then we used the `set_index()` to set the index as **country** and displayed our second dataframe.\n",
        "\n",
        "This dataframe shows all the countries in its index and next to the index, it displays the **GDP (US$million) from 2019** of all the listed countries. This data will also be used for further analysis."
      ],
      "metadata": {
        "id": "UuakhtRE8WGl"
      }
    },
    {
      "cell_type": "code",
      "source": [
        "df1.rename(columns = {\"Country/Territory\":\"country\"}, inplace = True)\n",
        "df1['country'][1] = 'USA'\n",
        "df1['country'][2] = 'China'\n",
        "df1 = df1.set_index(\"country\") \n",
        "df1 "
      ],
      "metadata": {
        "colab": {
          "base_uri": "https://localhost:8080/",
          "height": 455
        },
        "id": "SdoeAV3hGbYu",
        "outputId": "732519fc-a8c8-460f-e10f-c3a15ca2c911"
      },
      "execution_count": 21,
      "outputs": [
        {
          "output_type": "execute_result",
          "data": {
            "text/plain": [
              "                        GDP(US$million)\n",
              "country                                \n",
              "World                        87,751,541\n",
              "USA                          21,427,700\n",
              "China                        14,342,903\n",
              "Japan                         5,081,770\n",
              "Germany                       3,845,630\n",
              "...                                 ...\n",
              "Palau (2018)                        284\n",
              "Marshall Islands (2018)             221\n",
              "Kiribati                            195\n",
              "Nauru                               118\n",
              "Tuvalu                               47\n",
              "\n",
              "[191 rows x 1 columns]"
            ],
            "text/html": [
              "\n",
              "  <div id=\"df-3a200144-10ed-4926-8ef3-876e37ac4f2d\">\n",
              "    <div class=\"colab-df-container\">\n",
              "      <div>\n",
              "<style scoped>\n",
              "    .dataframe tbody tr th:only-of-type {\n",
              "        vertical-align: middle;\n",
              "    }\n",
              "\n",
              "    .dataframe tbody tr th {\n",
              "        vertical-align: top;\n",
              "    }\n",
              "\n",
              "    .dataframe thead th {\n",
              "        text-align: right;\n",
              "    }\n",
              "</style>\n",
              "<table border=\"1\" class=\"dataframe\">\n",
              "  <thead>\n",
              "    <tr style=\"text-align: right;\">\n",
              "      <th></th>\n",
              "      <th>GDP(US$million)</th>\n",
              "    </tr>\n",
              "    <tr>\n",
              "      <th>country</th>\n",
              "      <th></th>\n",
              "    </tr>\n",
              "  </thead>\n",
              "  <tbody>\n",
              "    <tr>\n",
              "      <th>World</th>\n",
              "      <td>87,751,541</td>\n",
              "    </tr>\n",
              "    <tr>\n",
              "      <th>USA</th>\n",
              "      <td>21,427,700</td>\n",
              "    </tr>\n",
              "    <tr>\n",
              "      <th>China</th>\n",
              "      <td>14,342,903</td>\n",
              "    </tr>\n",
              "    <tr>\n",
              "      <th>Japan</th>\n",
              "      <td>5,081,770</td>\n",
              "    </tr>\n",
              "    <tr>\n",
              "      <th>Germany</th>\n",
              "      <td>3,845,630</td>\n",
              "    </tr>\n",
              "    <tr>\n",
              "      <th>...</th>\n",
              "      <td>...</td>\n",
              "    </tr>\n",
              "    <tr>\n",
              "      <th>Palau (2018)</th>\n",
              "      <td>284</td>\n",
              "    </tr>\n",
              "    <tr>\n",
              "      <th>Marshall Islands (2018)</th>\n",
              "      <td>221</td>\n",
              "    </tr>\n",
              "    <tr>\n",
              "      <th>Kiribati</th>\n",
              "      <td>195</td>\n",
              "    </tr>\n",
              "    <tr>\n",
              "      <th>Nauru</th>\n",
              "      <td>118</td>\n",
              "    </tr>\n",
              "    <tr>\n",
              "      <th>Tuvalu</th>\n",
              "      <td>47</td>\n",
              "    </tr>\n",
              "  </tbody>\n",
              "</table>\n",
              "<p>191 rows × 1 columns</p>\n",
              "</div>\n",
              "      <button class=\"colab-df-convert\" onclick=\"convertToInteractive('df-3a200144-10ed-4926-8ef3-876e37ac4f2d')\"\n",
              "              title=\"Convert this dataframe to an interactive table.\"\n",
              "              style=\"display:none;\">\n",
              "        \n",
              "  <svg xmlns=\"http://www.w3.org/2000/svg\" height=\"24px\"viewBox=\"0 0 24 24\"\n",
              "       width=\"24px\">\n",
              "    <path d=\"M0 0h24v24H0V0z\" fill=\"none\"/>\n",
              "    <path d=\"M18.56 5.44l.94 2.06.94-2.06 2.06-.94-2.06-.94-.94-2.06-.94 2.06-2.06.94zm-11 1L8.5 8.5l.94-2.06 2.06-.94-2.06-.94L8.5 2.5l-.94 2.06-2.06.94zm10 10l.94 2.06.94-2.06 2.06-.94-2.06-.94-.94-2.06-.94 2.06-2.06.94z\"/><path d=\"M17.41 7.96l-1.37-1.37c-.4-.4-.92-.59-1.43-.59-.52 0-1.04.2-1.43.59L10.3 9.45l-7.72 7.72c-.78.78-.78 2.05 0 2.83L4 21.41c.39.39.9.59 1.41.59.51 0 1.02-.2 1.41-.59l7.78-7.78 2.81-2.81c.8-.78.8-2.07 0-2.86zM5.41 20L4 18.59l7.72-7.72 1.47 1.35L5.41 20z\"/>\n",
              "  </svg>\n",
              "      </button>\n",
              "      \n",
              "  <style>\n",
              "    .colab-df-container {\n",
              "      display:flex;\n",
              "      flex-wrap:wrap;\n",
              "      gap: 12px;\n",
              "    }\n",
              "\n",
              "    .colab-df-convert {\n",
              "      background-color: #E8F0FE;\n",
              "      border: none;\n",
              "      border-radius: 50%;\n",
              "      cursor: pointer;\n",
              "      display: none;\n",
              "      fill: #1967D2;\n",
              "      height: 32px;\n",
              "      padding: 0 0 0 0;\n",
              "      width: 32px;\n",
              "    }\n",
              "\n",
              "    .colab-df-convert:hover {\n",
              "      background-color: #E2EBFA;\n",
              "      box-shadow: 0px 1px 2px rgba(60, 64, 67, 0.3), 0px 1px 3px 1px rgba(60, 64, 67, 0.15);\n",
              "      fill: #174EA6;\n",
              "    }\n",
              "\n",
              "    [theme=dark] .colab-df-convert {\n",
              "      background-color: #3B4455;\n",
              "      fill: #D2E3FC;\n",
              "    }\n",
              "\n",
              "    [theme=dark] .colab-df-convert:hover {\n",
              "      background-color: #434B5C;\n",
              "      box-shadow: 0px 1px 3px 1px rgba(0, 0, 0, 0.15);\n",
              "      filter: drop-shadow(0px 1px 2px rgba(0, 0, 0, 0.3));\n",
              "      fill: #FFFFFF;\n",
              "    }\n",
              "  </style>\n",
              "\n",
              "      <script>\n",
              "        const buttonEl =\n",
              "          document.querySelector('#df-3a200144-10ed-4926-8ef3-876e37ac4f2d button.colab-df-convert');\n",
              "        buttonEl.style.display =\n",
              "          google.colab.kernel.accessAllowed ? 'block' : 'none';\n",
              "\n",
              "        async function convertToInteractive(key) {\n",
              "          const element = document.querySelector('#df-3a200144-10ed-4926-8ef3-876e37ac4f2d');\n",
              "          const dataTable =\n",
              "            await google.colab.kernel.invokeFunction('convertToInteractive',\n",
              "                                                     [key], {});\n",
              "          if (!dataTable) return;\n",
              "\n",
              "          const docLinkHtml = 'Like what you see? Visit the ' +\n",
              "            '<a target=\"_blank\" href=https://colab.research.google.com/notebooks/data_table.ipynb>data table notebook</a>'\n",
              "            + ' to learn more about interactive tables.';\n",
              "          element.innerHTML = '';\n",
              "          dataTable['output_type'] = 'display_data';\n",
              "          await google.colab.output.renderOutput(dataTable, element);\n",
              "          const docLink = document.createElement('div');\n",
              "          docLink.innerHTML = docLinkHtml;\n",
              "          element.appendChild(docLink);\n",
              "        }\n",
              "      </script>\n",
              "    </div>\n",
              "  </div>\n",
              "  "
            ]
          },
          "metadata": {},
          "execution_count": 21
        }
      ]
    },
    {
      "cell_type": "markdown",
      "source": [
        "We use our third table in the database, which contains the **GDP (worldwide) from 1960-2020**, to create a dataframe. First we write a SQL query to obtain the specific columns from the table and then read that SQL query into dataframe using the `read_sql_query()` function. We close the connection to our database using `conn.close()`."
      ],
      "metadata": {
        "id": "-JndSzHKHERL"
      }
    },
    {
      "cell_type": "code",
      "source": [
        "table_3 = 'gdpall'\n",
        "cols = '[Country Name], [2019], [2020]'\n",
        "\n",
        "qry = f\"SELECT {cols} FROM {table_3}\"\n",
        "\n",
        "df2 = pd.read_sql_query(qry, conn)\n",
        "\n",
        "conn.close()"
      ],
      "metadata": {
        "id": "kGlqDqad86Pv"
      },
      "execution_count": 22,
      "outputs": []
    },
    {
      "cell_type": "markdown",
      "source": [
        "We did some changes in the display of the dataframe. To allign the index name with the first dataframe, we used `rename()` to change the name of the first column to **country**. Then with the use of `replace` and `fillna` we fill all the missing data with the value 0 to indicate the absence of value. After that we display our dataframe.\n",
        "\n",
        "This dataframe shows all the countries in its first column and the other two columns displays the **GDP of 2019 and 2020.** This data will also be used for further analysis and in the plotting."
      ],
      "metadata": {
        "id": "Q_wuuxgZAF7y"
      }
    },
    {
      "cell_type": "code",
      "source": [
        "df2.rename(columns = {\"Country Name\":\"country\"}, inplace = True)\n",
        "df2 = df2.replace('', np.nan).fillna(0)\n",
        "df2['country'][251] = 'USA'\n",
        "df2"
      ],
      "metadata": {
        "colab": {
          "base_uri": "https://localhost:8080/",
          "height": 424
        },
        "id": "xc2SLhhd-FgX",
        "outputId": "87370da6-2fd0-43f2-cd25-c47b14c6dda4"
      },
      "execution_count": 23,
      "outputs": [
        {
          "output_type": "execute_result",
          "data": {
            "text/plain": [
              "                         country      2019      2020\n",
              "0                          Aruba  0.000000  0.000000\n",
              "1    Africa Eastern and Southern  2.077898 -2.939186\n",
              "2                    Afghanistan  3.911603 -2.351101\n",
              "3     Africa Western and Central  3.190336 -0.884981\n",
              "4                         Angola -0.624644 -5.399987\n",
              "..                           ...       ...       ...\n",
              "261                       Kosovo  4.756831 -5.340275\n",
              "262                  Yemen, Rep.  0.000000  0.000000\n",
              "263                 South Africa  0.113054 -6.431975\n",
              "264                       Zambia  1.441306 -2.785055\n",
              "265                     Zimbabwe -6.144236 -6.248748\n",
              "\n",
              "[266 rows x 3 columns]"
            ],
            "text/html": [
              "\n",
              "  <div id=\"df-1cd75656-0cf8-4603-a279-5a4871ffa8f6\">\n",
              "    <div class=\"colab-df-container\">\n",
              "      <div>\n",
              "<style scoped>\n",
              "    .dataframe tbody tr th:only-of-type {\n",
              "        vertical-align: middle;\n",
              "    }\n",
              "\n",
              "    .dataframe tbody tr th {\n",
              "        vertical-align: top;\n",
              "    }\n",
              "\n",
              "    .dataframe thead th {\n",
              "        text-align: right;\n",
              "    }\n",
              "</style>\n",
              "<table border=\"1\" class=\"dataframe\">\n",
              "  <thead>\n",
              "    <tr style=\"text-align: right;\">\n",
              "      <th></th>\n",
              "      <th>country</th>\n",
              "      <th>2019</th>\n",
              "      <th>2020</th>\n",
              "    </tr>\n",
              "  </thead>\n",
              "  <tbody>\n",
              "    <tr>\n",
              "      <th>0</th>\n",
              "      <td>Aruba</td>\n",
              "      <td>0.000000</td>\n",
              "      <td>0.000000</td>\n",
              "    </tr>\n",
              "    <tr>\n",
              "      <th>1</th>\n",
              "      <td>Africa Eastern and Southern</td>\n",
              "      <td>2.077898</td>\n",
              "      <td>-2.939186</td>\n",
              "    </tr>\n",
              "    <tr>\n",
              "      <th>2</th>\n",
              "      <td>Afghanistan</td>\n",
              "      <td>3.911603</td>\n",
              "      <td>-2.351101</td>\n",
              "    </tr>\n",
              "    <tr>\n",
              "      <th>3</th>\n",
              "      <td>Africa Western and Central</td>\n",
              "      <td>3.190336</td>\n",
              "      <td>-0.884981</td>\n",
              "    </tr>\n",
              "    <tr>\n",
              "      <th>4</th>\n",
              "      <td>Angola</td>\n",
              "      <td>-0.624644</td>\n",
              "      <td>-5.399987</td>\n",
              "    </tr>\n",
              "    <tr>\n",
              "      <th>...</th>\n",
              "      <td>...</td>\n",
              "      <td>...</td>\n",
              "      <td>...</td>\n",
              "    </tr>\n",
              "    <tr>\n",
              "      <th>261</th>\n",
              "      <td>Kosovo</td>\n",
              "      <td>4.756831</td>\n",
              "      <td>-5.340275</td>\n",
              "    </tr>\n",
              "    <tr>\n",
              "      <th>262</th>\n",
              "      <td>Yemen, Rep.</td>\n",
              "      <td>0.000000</td>\n",
              "      <td>0.000000</td>\n",
              "    </tr>\n",
              "    <tr>\n",
              "      <th>263</th>\n",
              "      <td>South Africa</td>\n",
              "      <td>0.113054</td>\n",
              "      <td>-6.431975</td>\n",
              "    </tr>\n",
              "    <tr>\n",
              "      <th>264</th>\n",
              "      <td>Zambia</td>\n",
              "      <td>1.441306</td>\n",
              "      <td>-2.785055</td>\n",
              "    </tr>\n",
              "    <tr>\n",
              "      <th>265</th>\n",
              "      <td>Zimbabwe</td>\n",
              "      <td>-6.144236</td>\n",
              "      <td>-6.248748</td>\n",
              "    </tr>\n",
              "  </tbody>\n",
              "</table>\n",
              "<p>266 rows × 3 columns</p>\n",
              "</div>\n",
              "      <button class=\"colab-df-convert\" onclick=\"convertToInteractive('df-1cd75656-0cf8-4603-a279-5a4871ffa8f6')\"\n",
              "              title=\"Convert this dataframe to an interactive table.\"\n",
              "              style=\"display:none;\">\n",
              "        \n",
              "  <svg xmlns=\"http://www.w3.org/2000/svg\" height=\"24px\"viewBox=\"0 0 24 24\"\n",
              "       width=\"24px\">\n",
              "    <path d=\"M0 0h24v24H0V0z\" fill=\"none\"/>\n",
              "    <path d=\"M18.56 5.44l.94 2.06.94-2.06 2.06-.94-2.06-.94-.94-2.06-.94 2.06-2.06.94zm-11 1L8.5 8.5l.94-2.06 2.06-.94-2.06-.94L8.5 2.5l-.94 2.06-2.06.94zm10 10l.94 2.06.94-2.06 2.06-.94-2.06-.94-.94-2.06-.94 2.06-2.06.94z\"/><path d=\"M17.41 7.96l-1.37-1.37c-.4-.4-.92-.59-1.43-.59-.52 0-1.04.2-1.43.59L10.3 9.45l-7.72 7.72c-.78.78-.78 2.05 0 2.83L4 21.41c.39.39.9.59 1.41.59.51 0 1.02-.2 1.41-.59l7.78-7.78 2.81-2.81c.8-.78.8-2.07 0-2.86zM5.41 20L4 18.59l7.72-7.72 1.47 1.35L5.41 20z\"/>\n",
              "  </svg>\n",
              "      </button>\n",
              "      \n",
              "  <style>\n",
              "    .colab-df-container {\n",
              "      display:flex;\n",
              "      flex-wrap:wrap;\n",
              "      gap: 12px;\n",
              "    }\n",
              "\n",
              "    .colab-df-convert {\n",
              "      background-color: #E8F0FE;\n",
              "      border: none;\n",
              "      border-radius: 50%;\n",
              "      cursor: pointer;\n",
              "      display: none;\n",
              "      fill: #1967D2;\n",
              "      height: 32px;\n",
              "      padding: 0 0 0 0;\n",
              "      width: 32px;\n",
              "    }\n",
              "\n",
              "    .colab-df-convert:hover {\n",
              "      background-color: #E2EBFA;\n",
              "      box-shadow: 0px 1px 2px rgba(60, 64, 67, 0.3), 0px 1px 3px 1px rgba(60, 64, 67, 0.15);\n",
              "      fill: #174EA6;\n",
              "    }\n",
              "\n",
              "    [theme=dark] .colab-df-convert {\n",
              "      background-color: #3B4455;\n",
              "      fill: #D2E3FC;\n",
              "    }\n",
              "\n",
              "    [theme=dark] .colab-df-convert:hover {\n",
              "      background-color: #434B5C;\n",
              "      box-shadow: 0px 1px 3px 1px rgba(0, 0, 0, 0.15);\n",
              "      filter: drop-shadow(0px 1px 2px rgba(0, 0, 0, 0.3));\n",
              "      fill: #FFFFFF;\n",
              "    }\n",
              "  </style>\n",
              "\n",
              "      <script>\n",
              "        const buttonEl =\n",
              "          document.querySelector('#df-1cd75656-0cf8-4603-a279-5a4871ffa8f6 button.colab-df-convert');\n",
              "        buttonEl.style.display =\n",
              "          google.colab.kernel.accessAllowed ? 'block' : 'none';\n",
              "\n",
              "        async function convertToInteractive(key) {\n",
              "          const element = document.querySelector('#df-1cd75656-0cf8-4603-a279-5a4871ffa8f6');\n",
              "          const dataTable =\n",
              "            await google.colab.kernel.invokeFunction('convertToInteractive',\n",
              "                                                     [key], {});\n",
              "          if (!dataTable) return;\n",
              "\n",
              "          const docLinkHtml = 'Like what you see? Visit the ' +\n",
              "            '<a target=\"_blank\" href=https://colab.research.google.com/notebooks/data_table.ipynb>data table notebook</a>'\n",
              "            + ' to learn more about interactive tables.';\n",
              "          element.innerHTML = '';\n",
              "          dataTable['output_type'] = 'display_data';\n",
              "          await google.colab.output.renderOutput(dataTable, element);\n",
              "          const docLink = document.createElement('div');\n",
              "          docLink.innerHTML = docLinkHtml;\n",
              "          element.appendChild(docLink);\n",
              "        }\n",
              "      </script>\n",
              "    </div>\n",
              "  </div>\n",
              "  "
            ]
          },
          "metadata": {},
          "execution_count": 23
        }
      ]
    },
    {
      "cell_type": "markdown",
      "source": [
        "Now, we created a function `merge_tables()` which takes in parameters: `table1`, `table2`, `merge_column` and then returned it using `pd.merge()` which merge two dataframe objects and returns a new dataframe, whereas, the source dataframe objects are unchanged.\n",
        "\n",
        "After that we call the function `merge_tables()` to merge the first and the third dataframe and set the `merge_column` as **country**. Then we renamed two of the columns from the third dataframe in order to make the dataframe more understandable. Finally, we displayed our merged dataframe.\n",
        "\n"
      ],
      "metadata": {
        "id": "0f_kGdP3G4Sw"
      }
    },
    {
      "cell_type": "code",
      "source": [
        "def merge_tables(table1, table2, merge_column):\n",
        "  return pd.merge(table1, table2, on=merge_column)\n",
        "\n",
        "merged_df =  merge_tables(df,df2,\"country\")\n",
        "merged_df.rename(columns = {\"2019\":\"gdp 2019\"}, inplace = True)\n",
        "merged_df.rename(columns = {\"2020\":\"gdp 2020\"}, inplace = True)\n",
        "merged_df "
      ],
      "metadata": {
        "id": "90Ex1-Qu-VKy",
        "colab": {
          "base_uri": "https://localhost:8080/",
          "height": 424
        },
        "outputId": "31050732-0f68-49c5-e0dc-66dcd61a2d7c"
      },
      "execution_count": 24,
      "outputs": [
        {
          "output_type": "execute_result",
          "data": {
            "text/plain": [
              "      country Tot Cases/1M pop Deaths/1M pop  gdp 2019  gdp 2020\n",
              "0       World           83,898         854.4  2.600878 -3.293497\n",
              "1         USA          302,728         3,315  2.161177 -3.404592\n",
              "2       India           31,761           377  4.041554 -7.251755\n",
              "3      France          587,268         2,438  1.842972 -7.855256\n",
              "4     Germany          438,214         1,895  1.055508 -4.569617\n",
              "..        ...              ...           ...       ...       ...\n",
              "173     Palau          323,370           384 -1.896243 -9.737418\n",
              "174     Nauru          423,828            92  0.000000  1.149425\n",
              "175  Kiribati           27,792           105  3.926445 -1.947557\n",
              "176    Tuvalu          232,471             0  9.756098  4.400000\n",
              "177     China              252             4  5.949714  2.347514\n",
              "\n",
              "[178 rows x 5 columns]"
            ],
            "text/html": [
              "\n",
              "  <div id=\"df-b99933c7-6827-4276-a64b-306aff5255ad\">\n",
              "    <div class=\"colab-df-container\">\n",
              "      <div>\n",
              "<style scoped>\n",
              "    .dataframe tbody tr th:only-of-type {\n",
              "        vertical-align: middle;\n",
              "    }\n",
              "\n",
              "    .dataframe tbody tr th {\n",
              "        vertical-align: top;\n",
              "    }\n",
              "\n",
              "    .dataframe thead th {\n",
              "        text-align: right;\n",
              "    }\n",
              "</style>\n",
              "<table border=\"1\" class=\"dataframe\">\n",
              "  <thead>\n",
              "    <tr style=\"text-align: right;\">\n",
              "      <th></th>\n",
              "      <th>country</th>\n",
              "      <th>Tot Cases/1M pop</th>\n",
              "      <th>Deaths/1M pop</th>\n",
              "      <th>gdp 2019</th>\n",
              "      <th>gdp 2020</th>\n",
              "    </tr>\n",
              "  </thead>\n",
              "  <tbody>\n",
              "    <tr>\n",
              "      <th>0</th>\n",
              "      <td>World</td>\n",
              "      <td>83,898</td>\n",
              "      <td>854.4</td>\n",
              "      <td>2.600878</td>\n",
              "      <td>-3.293497</td>\n",
              "    </tr>\n",
              "    <tr>\n",
              "      <th>1</th>\n",
              "      <td>USA</td>\n",
              "      <td>302,728</td>\n",
              "      <td>3,315</td>\n",
              "      <td>2.161177</td>\n",
              "      <td>-3.404592</td>\n",
              "    </tr>\n",
              "    <tr>\n",
              "      <th>2</th>\n",
              "      <td>India</td>\n",
              "      <td>31,761</td>\n",
              "      <td>377</td>\n",
              "      <td>4.041554</td>\n",
              "      <td>-7.251755</td>\n",
              "    </tr>\n",
              "    <tr>\n",
              "      <th>3</th>\n",
              "      <td>France</td>\n",
              "      <td>587,268</td>\n",
              "      <td>2,438</td>\n",
              "      <td>1.842972</td>\n",
              "      <td>-7.855256</td>\n",
              "    </tr>\n",
              "    <tr>\n",
              "      <th>4</th>\n",
              "      <td>Germany</td>\n",
              "      <td>438,214</td>\n",
              "      <td>1,895</td>\n",
              "      <td>1.055508</td>\n",
              "      <td>-4.569617</td>\n",
              "    </tr>\n",
              "    <tr>\n",
              "      <th>...</th>\n",
              "      <td>...</td>\n",
              "      <td>...</td>\n",
              "      <td>...</td>\n",
              "      <td>...</td>\n",
              "      <td>...</td>\n",
              "    </tr>\n",
              "    <tr>\n",
              "      <th>173</th>\n",
              "      <td>Palau</td>\n",
              "      <td>323,370</td>\n",
              "      <td>384</td>\n",
              "      <td>-1.896243</td>\n",
              "      <td>-9.737418</td>\n",
              "    </tr>\n",
              "    <tr>\n",
              "      <th>174</th>\n",
              "      <td>Nauru</td>\n",
              "      <td>423,828</td>\n",
              "      <td>92</td>\n",
              "      <td>0.000000</td>\n",
              "      <td>1.149425</td>\n",
              "    </tr>\n",
              "    <tr>\n",
              "      <th>175</th>\n",
              "      <td>Kiribati</td>\n",
              "      <td>27,792</td>\n",
              "      <td>105</td>\n",
              "      <td>3.926445</td>\n",
              "      <td>-1.947557</td>\n",
              "    </tr>\n",
              "    <tr>\n",
              "      <th>176</th>\n",
              "      <td>Tuvalu</td>\n",
              "      <td>232,471</td>\n",
              "      <td>0</td>\n",
              "      <td>9.756098</td>\n",
              "      <td>4.400000</td>\n",
              "    </tr>\n",
              "    <tr>\n",
              "      <th>177</th>\n",
              "      <td>China</td>\n",
              "      <td>252</td>\n",
              "      <td>4</td>\n",
              "      <td>5.949714</td>\n",
              "      <td>2.347514</td>\n",
              "    </tr>\n",
              "  </tbody>\n",
              "</table>\n",
              "<p>178 rows × 5 columns</p>\n",
              "</div>\n",
              "      <button class=\"colab-df-convert\" onclick=\"convertToInteractive('df-b99933c7-6827-4276-a64b-306aff5255ad')\"\n",
              "              title=\"Convert this dataframe to an interactive table.\"\n",
              "              style=\"display:none;\">\n",
              "        \n",
              "  <svg xmlns=\"http://www.w3.org/2000/svg\" height=\"24px\"viewBox=\"0 0 24 24\"\n",
              "       width=\"24px\">\n",
              "    <path d=\"M0 0h24v24H0V0z\" fill=\"none\"/>\n",
              "    <path d=\"M18.56 5.44l.94 2.06.94-2.06 2.06-.94-2.06-.94-.94-2.06-.94 2.06-2.06.94zm-11 1L8.5 8.5l.94-2.06 2.06-.94-2.06-.94L8.5 2.5l-.94 2.06-2.06.94zm10 10l.94 2.06.94-2.06 2.06-.94-2.06-.94-.94-2.06-.94 2.06-2.06.94z\"/><path d=\"M17.41 7.96l-1.37-1.37c-.4-.4-.92-.59-1.43-.59-.52 0-1.04.2-1.43.59L10.3 9.45l-7.72 7.72c-.78.78-.78 2.05 0 2.83L4 21.41c.39.39.9.59 1.41.59.51 0 1.02-.2 1.41-.59l7.78-7.78 2.81-2.81c.8-.78.8-2.07 0-2.86zM5.41 20L4 18.59l7.72-7.72 1.47 1.35L5.41 20z\"/>\n",
              "  </svg>\n",
              "      </button>\n",
              "      \n",
              "  <style>\n",
              "    .colab-df-container {\n",
              "      display:flex;\n",
              "      flex-wrap:wrap;\n",
              "      gap: 12px;\n",
              "    }\n",
              "\n",
              "    .colab-df-convert {\n",
              "      background-color: #E8F0FE;\n",
              "      border: none;\n",
              "      border-radius: 50%;\n",
              "      cursor: pointer;\n",
              "      display: none;\n",
              "      fill: #1967D2;\n",
              "      height: 32px;\n",
              "      padding: 0 0 0 0;\n",
              "      width: 32px;\n",
              "    }\n",
              "\n",
              "    .colab-df-convert:hover {\n",
              "      background-color: #E2EBFA;\n",
              "      box-shadow: 0px 1px 2px rgba(60, 64, 67, 0.3), 0px 1px 3px 1px rgba(60, 64, 67, 0.15);\n",
              "      fill: #174EA6;\n",
              "    }\n",
              "\n",
              "    [theme=dark] .colab-df-convert {\n",
              "      background-color: #3B4455;\n",
              "      fill: #D2E3FC;\n",
              "    }\n",
              "\n",
              "    [theme=dark] .colab-df-convert:hover {\n",
              "      background-color: #434B5C;\n",
              "      box-shadow: 0px 1px 3px 1px rgba(0, 0, 0, 0.15);\n",
              "      filter: drop-shadow(0px 1px 2px rgba(0, 0, 0, 0.3));\n",
              "      fill: #FFFFFF;\n",
              "    }\n",
              "  </style>\n",
              "\n",
              "      <script>\n",
              "        const buttonEl =\n",
              "          document.querySelector('#df-b99933c7-6827-4276-a64b-306aff5255ad button.colab-df-convert');\n",
              "        buttonEl.style.display =\n",
              "          google.colab.kernel.accessAllowed ? 'block' : 'none';\n",
              "\n",
              "        async function convertToInteractive(key) {\n",
              "          const element = document.querySelector('#df-b99933c7-6827-4276-a64b-306aff5255ad');\n",
              "          const dataTable =\n",
              "            await google.colab.kernel.invokeFunction('convertToInteractive',\n",
              "                                                     [key], {});\n",
              "          if (!dataTable) return;\n",
              "\n",
              "          const docLinkHtml = 'Like what you see? Visit the ' +\n",
              "            '<a target=\"_blank\" href=https://colab.research.google.com/notebooks/data_table.ipynb>data table notebook</a>'\n",
              "            + ' to learn more about interactive tables.';\n",
              "          element.innerHTML = '';\n",
              "          dataTable['output_type'] = 'display_data';\n",
              "          await google.colab.output.renderOutput(dataTable, element);\n",
              "          const docLink = document.createElement('div');\n",
              "          docLink.innerHTML = docLinkHtml;\n",
              "          element.appendChild(docLink);\n",
              "        }\n",
              "      </script>\n",
              "    </div>\n",
              "  </div>\n",
              "  "
            ]
          },
          "metadata": {},
          "execution_count": 24
        }
      ]
    },
    {
      "cell_type": "markdown",
      "source": [
        "Now, we merge the merged dataframe with our df1 dataframe we have using our merged function. Then, before we move on the next step for plotting our data, we need to change the values in `Tot Cases per 1M` column from string to int. To do this first we get rid of the commas using `.str.replace` function. After that is completed we use the `numeric` method to convert values in that column to numeric values. "
      ],
      "metadata": {
        "id": "KSt7rzNNLkVo"
      }
    },
    {
      "cell_type": "code",
      "source": [
        "merged = merge_tables(merged_df,df1,\"country\")\n",
        "merged[\"Tot\\xa0Cases/1M pop\"] = merged[\"Tot\\xa0Cases/1M pop\"].str.replace(\",\",'')\n",
        "merged[\"Tot\\xa0Cases/1M pop\"] = pd.to_numeric(merged[\"Tot\\xa0Cases/1M pop\"])"
      ],
      "metadata": {
        "id": "u5r_qypH-rdS"
      },
      "execution_count": 25,
      "outputs": []
    },
    {
      "cell_type": "markdown",
      "source": [
        "Using the merged dataframe above, we plotted **upside-down bar charts** of change in GDP for the year 2019 and 2020. \n",
        "\n",
        "For plotting, we used `go.bar()` which returns a bar trace with `x` coordinate set **country** and `y` coordinate as **gdp 2019** and **gdp 2020**. Then we named the **variables** in the bar chart for easier comparison and displayed the bar charts simultaneously using `fig.show()`."
      ],
      "metadata": {
        "id": "OLt5yNeaMBCS"
      }
    },
    {
      "cell_type": "code",
      "source": [
        "fig =  go.Figure()\n",
        "fig.add_trace(go.Bar(x=merged[\"country\"], y =merged[\"gdp 2019\"], name='change in gdp for the year 2019'))\n",
        "fig.add_trace(go.Bar(x=merged[\"country\"], y =merged[\"gdp 2020\"], name='change in gdp for the year 2020'))\n",
        "\n",
        "fig.show()"
      ],
      "metadata": {
        "colab": {
          "base_uri": "https://localhost:8080/",
          "height": 542
        },
        "id": "xAkBtSDDIel2",
        "outputId": "c7457500-3217-4315-b1f4-68538148e6cf"
      },
      "execution_count": 26,
      "outputs": [
        {
          "output_type": "display_data",
          "data": {
            "text/html": [
              "<html>\n",
              "<head><meta charset=\"utf-8\" /></head>\n",
              "<body>\n",
              "    <div>            <script src=\"https://cdnjs.cloudflare.com/ajax/libs/mathjax/2.7.5/MathJax.js?config=TeX-AMS-MML_SVG\"></script><script type=\"text/javascript\">if (window.MathJax) {MathJax.Hub.Config({SVG: {font: \"STIX-Web\"}});}</script>                <script type=\"text/javascript\">window.PlotlyConfig = {MathJaxConfig: 'local'};</script>\n",
              "        <script src=\"https://cdn.plot.ly/plotly-2.8.3.min.js\"></script>                <div id=\"e4926adf-446d-4508-a24f-f5e191e3b249\" class=\"plotly-graph-div\" style=\"height:525px; width:100%;\"></div>            <script type=\"text/javascript\">                                    window.PLOTLYENV=window.PLOTLYENV || {};                                    if (document.getElementById(\"e4926adf-446d-4508-a24f-f5e191e3b249\")) {                    Plotly.newPlot(                        \"e4926adf-446d-4508-a24f-f5e191e3b249\",                        [{\"name\":\"change in gdp for the year 2019\",\"x\":[\"World\",\"USA\",\"India\",\"France\",\"Germany\",\"Brazil\",\"Japan\",\"Italy\",\"Turkey\",\"Spain\",\"Vietnam\",\"Australia\",\"Argentina\",\"Netherlands\",\"Mexico\",\"Indonesia\",\"Poland\",\"Colombia\",\"Austria\",\"Portugal\",\"Greece\",\"Ukraine\",\"Malaysia\",\"Chile\",\"Israel\",\"Thailand\",\"Belgium\",\"Canada\",\"Peru\",\"Switzerland\",\"Philippines\",\"South Africa\",\"Romania\",\"Denmark\",\"Sweden\",\"Iraq\",\"Serbia\",\"Singapore\",\"Hungary\",\"Bangladesh\",\"New Zealand\",\"Jordan\",\"Ireland\",\"Pakistan\",\"Norway\",\"Finland\",\"Kazakhstan\",\"Bulgaria\",\"Lithuania\",\"Slovenia\",\"Croatia\",\"Lebanon\",\"Guatemala\",\"Costa Rica\",\"Tunisia\",\"Bolivia\",\"Ecuador\",\"Panama\",\"Nepal\",\"Uruguay\",\"Belarus\",\"Mongolia\",\"Latvia\",\"Saudi Arabia\",\"Azerbaijan\",\"Paraguay\",\"Bahrain\",\"Sri Lanka\",\"Kuwait\",\"Dominican Republic\",\"Myanmar\",\"Estonia\",\"Libya\",\"Ethiopia\",\"Qatar\",\"Honduras\",\"Armenia\",\"Bosnia and Herzegovina\",\"Oman\",\"North Macedonia\",\"Kenya\",\"Zambia\",\"Albania\",\"Botswana\",\"Luxembourg\",\"Montenegro\",\"Algeria\",\"Nigeria\",\"Zimbabwe\",\"Uzbekistan\",\"Mozambique\",\"Iceland\",\"Afghanistan\",\"El Salvador\",\"Maldives\",\"Trinidad and Tobago\",\"Ghana\",\"Namibia\",\"Uganda\",\"Jamaica\",\"Cambodia\",\"Rwanda\",\"Cameroon\",\"Malta\",\"Angola\",\"Barbados\",\"Senegal\",\"Malawi\",\"Suriname\",\"Eswatini\",\"Guyana\",\"Belize\",\"Fiji\",\"Madagascar\",\"Sudan\",\"Mauritania\",\"Cabo Verde\",\"Burundi\",\"Seychelles\",\"Gabon\",\"Andorra\",\"Papua New Guinea\",\"Mauritius\",\"Togo\",\"Guinea\",\"Lesotho\",\"Haiti\",\"Mali\",\"Benin\",\"Solomon Islands\",\"Timor-Leste\",\"Burkina Faso\",\"Grenada\",\"Nicaragua\",\"Tajikistan\",\"Equatorial Guinea\",\"Samoa\",\"Dominica\",\"Djibouti\",\"Vanuatu\",\"Niger\",\"Antigua and Barbuda\",\"Comoros\",\"Guinea-Bissau\",\"Liberia\",\"Sierra Leone\",\"Chad\",\"Sao Tome and Principe\",\"Nauru\",\"Kiribati\",\"Tuvalu\",\"China\"],\"y\":[2.60087776956794,2.16117651518969,4.0415541865323,1.84297181445896,1.05550824713283,1.41115298506995,0.270304645083556,0.410278293983012,0.889585160591679,2.08519142117105,7.0174348821878,2.11314942462376,-2.0259342366392,1.95558841574046,-0.176599456271802,5.01815971508286,4.74495015589534,3.28111680452643,1.49121084953705,2.68275992118076,1.80359525615141,3.19950386231294,4.43947128759625,0.942005306544473,3.77358980957163,2.26643367175595,2.14955968072559,1.87959202770178,2.2039747486556,1.21099220711962,6.11852566256255,0.113053696742199,4.18826034117856,2.11466420842453,1.98619587380391,5.95732750325479,4.33173490608283,1.34521748573569,4.55406307213036,8.1526841493979,1.63393261347822,1.95546635784412,4.91700697830244,1.14474960525021,0.745798219243483,1.22075414302529,4.50000000008481,4.03759208211947,4.57377173669815,3.25053133558204,3.48194560339674,-7.15724706998392,3.866856574905,2.25631507916432,1.40197667646078,2.21670577750376,0.0121051028476558,2.97971546082071,6.65705542802834,0.350447153086122,1.40000000000001,5.60224421870959,2.48432635462976,0.331435728597114,2.4999999999999,-0.40185510068001,2.14137678356339,2.25517652855038,0.427463940207701,5.05216802016253,6.7504601462238,4.09634264397782,2.53595347758677,8.3640856990789,0.688240959581606,2.65306625480355,7.59999999853918,2.83100260259697,-1.12920645748066,3.91041953840173,4.98113262830462,1.44130602603785,2.11341998165848,2.99273763533627,3.28380675586517,4.06294499167197,0.999999999999915,2.2084292771582,-6.14423631439116,5.7096322218392,2.31460601020051,2.43482300037417,3.911603419423,2.38258139815673,6.88368884556108,-1.24642733552926,6.5077747939152,-0.888099159557285,6.43874503365606,0.892291653822227,7.05410693233065,9.46068248236998,3.47505997865608,5.53956633683224,-0.624644317706895,-0.0961355529131964,4.40240683638351,5.44818133617287,1.09846777827852,2.61303529001997,5.35262742597216,1.76279791284728,-0.445563043622684,4.41123213007131,-2.17825104530091,5.75993058973705,5.66775246034304,1.84247667669987,1.1910057381789,3.92080879452831,2.01554763848308,4.48043060824274,3.01237590269628,5.45992144835783,5.64617556842045,-0.381431981522567,-1.68459508133022,4.75616080770808,6.86568733550151,1.20404998631763,19.5358102438791,5.68811514943657,0.735582700454373,-3.67479457842713,7.39999963813631,-5.97893690507988,4.37982554521874,7.57139159692866,7.77049725726383,3.91253473745795,5.94139686297071,4.86223616575663,1.75532827980625,4.49999999151316,-2.46729763532686,5.25424120251536,3.24718191743429,2.21085583286091,0.0,3.92644543807539,9.75609756097562,5.94971423273162],\"type\":\"bar\"},{\"name\":\"change in gdp for the year 2020\",\"x\":[\"World\",\"USA\",\"India\",\"France\",\"Germany\",\"Brazil\",\"Japan\",\"Italy\",\"Turkey\",\"Spain\",\"Vietnam\",\"Australia\",\"Argentina\",\"Netherlands\",\"Mexico\",\"Indonesia\",\"Poland\",\"Colombia\",\"Austria\",\"Portugal\",\"Greece\",\"Ukraine\",\"Malaysia\",\"Chile\",\"Israel\",\"Thailand\",\"Belgium\",\"Canada\",\"Peru\",\"Switzerland\",\"Philippines\",\"South Africa\",\"Romania\",\"Denmark\",\"Sweden\",\"Iraq\",\"Serbia\",\"Singapore\",\"Hungary\",\"Bangladesh\",\"New Zealand\",\"Jordan\",\"Ireland\",\"Pakistan\",\"Norway\",\"Finland\",\"Kazakhstan\",\"Bulgaria\",\"Lithuania\",\"Slovenia\",\"Croatia\",\"Lebanon\",\"Guatemala\",\"Costa Rica\",\"Tunisia\",\"Bolivia\",\"Ecuador\",\"Panama\",\"Nepal\",\"Uruguay\",\"Belarus\",\"Mongolia\",\"Latvia\",\"Saudi Arabia\",\"Azerbaijan\",\"Paraguay\",\"Bahrain\",\"Sri Lanka\",\"Kuwait\",\"Dominican Republic\",\"Myanmar\",\"Estonia\",\"Libya\",\"Ethiopia\",\"Qatar\",\"Honduras\",\"Armenia\",\"Bosnia and Herzegovina\",\"Oman\",\"North Macedonia\",\"Kenya\",\"Zambia\",\"Albania\",\"Botswana\",\"Luxembourg\",\"Montenegro\",\"Algeria\",\"Nigeria\",\"Zimbabwe\",\"Uzbekistan\",\"Mozambique\",\"Iceland\",\"Afghanistan\",\"El Salvador\",\"Maldives\",\"Trinidad and Tobago\",\"Ghana\",\"Namibia\",\"Uganda\",\"Jamaica\",\"Cambodia\",\"Rwanda\",\"Cameroon\",\"Malta\",\"Angola\",\"Barbados\",\"Senegal\",\"Malawi\",\"Suriname\",\"Eswatini\",\"Guyana\",\"Belize\",\"Fiji\",\"Madagascar\",\"Sudan\",\"Mauritania\",\"Cabo Verde\",\"Burundi\",\"Seychelles\",\"Gabon\",\"Andorra\",\"Papua New Guinea\",\"Mauritius\",\"Togo\",\"Guinea\",\"Lesotho\",\"Haiti\",\"Mali\",\"Benin\",\"Solomon Islands\",\"Timor-Leste\",\"Burkina Faso\",\"Grenada\",\"Nicaragua\",\"Tajikistan\",\"Equatorial Guinea\",\"Samoa\",\"Dominica\",\"Djibouti\",\"Vanuatu\",\"Niger\",\"Antigua and Barbuda\",\"Comoros\",\"Guinea-Bissau\",\"Liberia\",\"Sierra Leone\",\"Chad\",\"Sao Tome and Principe\",\"Nauru\",\"Kiribati\",\"Tuvalu\",\"China\"],\"y\":[-3.29349659895067,-3.40459157333871,-7.25175478178826,-7.85525603703762,-4.56961671737398,-4.05904827267271,-4.58550828070608,-8.93859250023444,1.79355139618684,-10.8228864939664,2.9058355842084,-0.00383655856659,-9.89526896368687,-3.79863599268334,-8.30903465889521,-2.06954349906437,-2.5406586820496,-6.79575810693639,-6.73451407608768,-8.44245642824731,-9.01912908499726,-4.00000610071135,-5.64694483644712,-5.77150166878876,-2.15342848939964,-6.09898384267129,-5.65965987018394,-5.23302430280606,-11.1488118768393,-2.39282604159746,-9.57302987461006,-6.43197482605483,-3.93045405715536,-2.06212495876164,-2.94812787928382,-15.6730927866074,-0.94459651550703,-5.39102140610559,-4.67568699324362,3.5091358821393,1.86285153314982,-1.55138446553204,5.86697550911293,-0.935389532589809,-0.717182669244792,-2.80013589086919,-2.5,-4.38714983385256,-0.132431460828812,-4.22926138908075,-8.09976125177539,-21.4642662752687,-1.51932802919289,-4.06367653504677,-9.18237259399903,-8.82949361965127,-7.75012337710913,-17.9448639999999,-2.08837869543885,-5.85872124345026,-0.900000000246891,-4.55775197337685,-3.61856599172043,-4.10658341325225,-4.29999999999997,-0.565695446951935,-5.08518021318916,-3.5690761372374,-8.6852616529353,-6.72023937283404,3.17377440041078,-2.95106931268964,-31.3000000487945,6.05661779202561,-3.55760399909461,-8.96476018404584,-7.40000000000001,-3.19695013403583,-3.2009359899042,-5.20844405705904,-0.316182728955951,-2.78505506545167,-3.95539792669307,-8.49289351078259,-1.7762402290181,-15.3068937570407,-5.09999999999982,-1.79425308233591,-6.24874822378281,1.71477057564864,-1.23390571070034,-6.50391225040894,-2.35110067344623,-8.5813121584968,-33.499902099428,-7.85393994847536,0.414443457624131,-8.50014903765293,2.9513064215777,-10.0,-3.1475890983283,-3.35547212198846,0.491914742161129,-7.00112961514149,-5.39998738958575,-18.9795097037672,1.49976342727345,0.799998330902724,-15.9079511896139,-1.85052471016712,43.4795559399402,-14.0105321507761,-15.7118039805906,-7.14061159103504,-3.62980562615675,-1.76332179417277,-14.7834050101145,0.297577119233125,-10.7709214792022,-1.83776092953785,-11.9526932539653,-3.50000000000009,-14.8946875651821,1.75282496719069,6.98855997080146,-9.61403701940095,-3.34337261175989,-1.235450447077,3.84879240030133,-4.31726002703921,10.37185523562,1.93032488957256,-13.7077306813298,-1.97732939329578,4.49999951669761,-4.89335647440198,-2.59260829960374,-16.6049115377829,0.499999999999986,-6.81399113238088,3.58000640281861,-20.1923705722071,-0.128835487587722,-2.39999999921721,-2.98291628083938,-1.96894782045837,-0.947304885424217,3.08972555522433,1.14942528735634,-1.94755664673815,4.40000000000001,2.3475135727457],\"type\":\"bar\"}],                        {\"template\":{\"data\":{\"bar\":[{\"error_x\":{\"color\":\"#2a3f5f\"},\"error_y\":{\"color\":\"#2a3f5f\"},\"marker\":{\"line\":{\"color\":\"#E5ECF6\",\"width\":0.5},\"pattern\":{\"fillmode\":\"overlay\",\"size\":10,\"solidity\":0.2}},\"type\":\"bar\"}],\"barpolar\":[{\"marker\":{\"line\":{\"color\":\"#E5ECF6\",\"width\":0.5},\"pattern\":{\"fillmode\":\"overlay\",\"size\":10,\"solidity\":0.2}},\"type\":\"barpolar\"}],\"carpet\":[{\"aaxis\":{\"endlinecolor\":\"#2a3f5f\",\"gridcolor\":\"white\",\"linecolor\":\"white\",\"minorgridcolor\":\"white\",\"startlinecolor\":\"#2a3f5f\"},\"baxis\":{\"endlinecolor\":\"#2a3f5f\",\"gridcolor\":\"white\",\"linecolor\":\"white\",\"minorgridcolor\":\"white\",\"startlinecolor\":\"#2a3f5f\"},\"type\":\"carpet\"}],\"choropleth\":[{\"colorbar\":{\"outlinewidth\":0,\"ticks\":\"\"},\"type\":\"choropleth\"}],\"contour\":[{\"colorbar\":{\"outlinewidth\":0,\"ticks\":\"\"},\"colorscale\":[[0.0,\"#0d0887\"],[0.1111111111111111,\"#46039f\"],[0.2222222222222222,\"#7201a8\"],[0.3333333333333333,\"#9c179e\"],[0.4444444444444444,\"#bd3786\"],[0.5555555555555556,\"#d8576b\"],[0.6666666666666666,\"#ed7953\"],[0.7777777777777778,\"#fb9f3a\"],[0.8888888888888888,\"#fdca26\"],[1.0,\"#f0f921\"]],\"type\":\"contour\"}],\"contourcarpet\":[{\"colorbar\":{\"outlinewidth\":0,\"ticks\":\"\"},\"type\":\"contourcarpet\"}],\"heatmap\":[{\"colorbar\":{\"outlinewidth\":0,\"ticks\":\"\"},\"colorscale\":[[0.0,\"#0d0887\"],[0.1111111111111111,\"#46039f\"],[0.2222222222222222,\"#7201a8\"],[0.3333333333333333,\"#9c179e\"],[0.4444444444444444,\"#bd3786\"],[0.5555555555555556,\"#d8576b\"],[0.6666666666666666,\"#ed7953\"],[0.7777777777777778,\"#fb9f3a\"],[0.8888888888888888,\"#fdca26\"],[1.0,\"#f0f921\"]],\"type\":\"heatmap\"}],\"heatmapgl\":[{\"colorbar\":{\"outlinewidth\":0,\"ticks\":\"\"},\"colorscale\":[[0.0,\"#0d0887\"],[0.1111111111111111,\"#46039f\"],[0.2222222222222222,\"#7201a8\"],[0.3333333333333333,\"#9c179e\"],[0.4444444444444444,\"#bd3786\"],[0.5555555555555556,\"#d8576b\"],[0.6666666666666666,\"#ed7953\"],[0.7777777777777778,\"#fb9f3a\"],[0.8888888888888888,\"#fdca26\"],[1.0,\"#f0f921\"]],\"type\":\"heatmapgl\"}],\"histogram\":[{\"marker\":{\"pattern\":{\"fillmode\":\"overlay\",\"size\":10,\"solidity\":0.2}},\"type\":\"histogram\"}],\"histogram2d\":[{\"colorbar\":{\"outlinewidth\":0,\"ticks\":\"\"},\"colorscale\":[[0.0,\"#0d0887\"],[0.1111111111111111,\"#46039f\"],[0.2222222222222222,\"#7201a8\"],[0.3333333333333333,\"#9c179e\"],[0.4444444444444444,\"#bd3786\"],[0.5555555555555556,\"#d8576b\"],[0.6666666666666666,\"#ed7953\"],[0.7777777777777778,\"#fb9f3a\"],[0.8888888888888888,\"#fdca26\"],[1.0,\"#f0f921\"]],\"type\":\"histogram2d\"}],\"histogram2dcontour\":[{\"colorbar\":{\"outlinewidth\":0,\"ticks\":\"\"},\"colorscale\":[[0.0,\"#0d0887\"],[0.1111111111111111,\"#46039f\"],[0.2222222222222222,\"#7201a8\"],[0.3333333333333333,\"#9c179e\"],[0.4444444444444444,\"#bd3786\"],[0.5555555555555556,\"#d8576b\"],[0.6666666666666666,\"#ed7953\"],[0.7777777777777778,\"#fb9f3a\"],[0.8888888888888888,\"#fdca26\"],[1.0,\"#f0f921\"]],\"type\":\"histogram2dcontour\"}],\"mesh3d\":[{\"colorbar\":{\"outlinewidth\":0,\"ticks\":\"\"},\"type\":\"mesh3d\"}],\"parcoords\":[{\"line\":{\"colorbar\":{\"outlinewidth\":0,\"ticks\":\"\"}},\"type\":\"parcoords\"}],\"pie\":[{\"automargin\":true,\"type\":\"pie\"}],\"scatter\":[{\"marker\":{\"colorbar\":{\"outlinewidth\":0,\"ticks\":\"\"}},\"type\":\"scatter\"}],\"scatter3d\":[{\"line\":{\"colorbar\":{\"outlinewidth\":0,\"ticks\":\"\"}},\"marker\":{\"colorbar\":{\"outlinewidth\":0,\"ticks\":\"\"}},\"type\":\"scatter3d\"}],\"scattercarpet\":[{\"marker\":{\"colorbar\":{\"outlinewidth\":0,\"ticks\":\"\"}},\"type\":\"scattercarpet\"}],\"scattergeo\":[{\"marker\":{\"colorbar\":{\"outlinewidth\":0,\"ticks\":\"\"}},\"type\":\"scattergeo\"}],\"scattergl\":[{\"marker\":{\"colorbar\":{\"outlinewidth\":0,\"ticks\":\"\"}},\"type\":\"scattergl\"}],\"scattermapbox\":[{\"marker\":{\"colorbar\":{\"outlinewidth\":0,\"ticks\":\"\"}},\"type\":\"scattermapbox\"}],\"scatterpolar\":[{\"marker\":{\"colorbar\":{\"outlinewidth\":0,\"ticks\":\"\"}},\"type\":\"scatterpolar\"}],\"scatterpolargl\":[{\"marker\":{\"colorbar\":{\"outlinewidth\":0,\"ticks\":\"\"}},\"type\":\"scatterpolargl\"}],\"scatterternary\":[{\"marker\":{\"colorbar\":{\"outlinewidth\":0,\"ticks\":\"\"}},\"type\":\"scatterternary\"}],\"surface\":[{\"colorbar\":{\"outlinewidth\":0,\"ticks\":\"\"},\"colorscale\":[[0.0,\"#0d0887\"],[0.1111111111111111,\"#46039f\"],[0.2222222222222222,\"#7201a8\"],[0.3333333333333333,\"#9c179e\"],[0.4444444444444444,\"#bd3786\"],[0.5555555555555556,\"#d8576b\"],[0.6666666666666666,\"#ed7953\"],[0.7777777777777778,\"#fb9f3a\"],[0.8888888888888888,\"#fdca26\"],[1.0,\"#f0f921\"]],\"type\":\"surface\"}],\"table\":[{\"cells\":{\"fill\":{\"color\":\"#EBF0F8\"},\"line\":{\"color\":\"white\"}},\"header\":{\"fill\":{\"color\":\"#C8D4E3\"},\"line\":{\"color\":\"white\"}},\"type\":\"table\"}]},\"layout\":{\"annotationdefaults\":{\"arrowcolor\":\"#2a3f5f\",\"arrowhead\":0,\"arrowwidth\":1},\"autotypenumbers\":\"strict\",\"coloraxis\":{\"colorbar\":{\"outlinewidth\":0,\"ticks\":\"\"}},\"colorscale\":{\"diverging\":[[0,\"#8e0152\"],[0.1,\"#c51b7d\"],[0.2,\"#de77ae\"],[0.3,\"#f1b6da\"],[0.4,\"#fde0ef\"],[0.5,\"#f7f7f7\"],[0.6,\"#e6f5d0\"],[0.7,\"#b8e186\"],[0.8,\"#7fbc41\"],[0.9,\"#4d9221\"],[1,\"#276419\"]],\"sequential\":[[0.0,\"#0d0887\"],[0.1111111111111111,\"#46039f\"],[0.2222222222222222,\"#7201a8\"],[0.3333333333333333,\"#9c179e\"],[0.4444444444444444,\"#bd3786\"],[0.5555555555555556,\"#d8576b\"],[0.6666666666666666,\"#ed7953\"],[0.7777777777777778,\"#fb9f3a\"],[0.8888888888888888,\"#fdca26\"],[1.0,\"#f0f921\"]],\"sequentialminus\":[[0.0,\"#0d0887\"],[0.1111111111111111,\"#46039f\"],[0.2222222222222222,\"#7201a8\"],[0.3333333333333333,\"#9c179e\"],[0.4444444444444444,\"#bd3786\"],[0.5555555555555556,\"#d8576b\"],[0.6666666666666666,\"#ed7953\"],[0.7777777777777778,\"#fb9f3a\"],[0.8888888888888888,\"#fdca26\"],[1.0,\"#f0f921\"]]},\"colorway\":[\"#636efa\",\"#EF553B\",\"#00cc96\",\"#ab63fa\",\"#FFA15A\",\"#19d3f3\",\"#FF6692\",\"#B6E880\",\"#FF97FF\",\"#FECB52\"],\"font\":{\"color\":\"#2a3f5f\"},\"geo\":{\"bgcolor\":\"white\",\"lakecolor\":\"white\",\"landcolor\":\"#E5ECF6\",\"showlakes\":true,\"showland\":true,\"subunitcolor\":\"white\"},\"hoverlabel\":{\"align\":\"left\"},\"hovermode\":\"closest\",\"mapbox\":{\"style\":\"light\"},\"paper_bgcolor\":\"white\",\"plot_bgcolor\":\"#E5ECF6\",\"polar\":{\"angularaxis\":{\"gridcolor\":\"white\",\"linecolor\":\"white\",\"ticks\":\"\"},\"bgcolor\":\"#E5ECF6\",\"radialaxis\":{\"gridcolor\":\"white\",\"linecolor\":\"white\",\"ticks\":\"\"}},\"scene\":{\"xaxis\":{\"backgroundcolor\":\"#E5ECF6\",\"gridcolor\":\"white\",\"gridwidth\":2,\"linecolor\":\"white\",\"showbackground\":true,\"ticks\":\"\",\"zerolinecolor\":\"white\"},\"yaxis\":{\"backgroundcolor\":\"#E5ECF6\",\"gridcolor\":\"white\",\"gridwidth\":2,\"linecolor\":\"white\",\"showbackground\":true,\"ticks\":\"\",\"zerolinecolor\":\"white\"},\"zaxis\":{\"backgroundcolor\":\"#E5ECF6\",\"gridcolor\":\"white\",\"gridwidth\":2,\"linecolor\":\"white\",\"showbackground\":true,\"ticks\":\"\",\"zerolinecolor\":\"white\"}},\"shapedefaults\":{\"line\":{\"color\":\"#2a3f5f\"}},\"ternary\":{\"aaxis\":{\"gridcolor\":\"white\",\"linecolor\":\"white\",\"ticks\":\"\"},\"baxis\":{\"gridcolor\":\"white\",\"linecolor\":\"white\",\"ticks\":\"\"},\"bgcolor\":\"#E5ECF6\",\"caxis\":{\"gridcolor\":\"white\",\"linecolor\":\"white\",\"ticks\":\"\"}},\"title\":{\"x\":0.05},\"xaxis\":{\"automargin\":true,\"gridcolor\":\"white\",\"linecolor\":\"white\",\"ticks\":\"\",\"title\":{\"standoff\":15},\"zerolinecolor\":\"white\",\"zerolinewidth\":2},\"yaxis\":{\"automargin\":true,\"gridcolor\":\"white\",\"linecolor\":\"white\",\"ticks\":\"\",\"title\":{\"standoff\":15},\"zerolinecolor\":\"white\",\"zerolinewidth\":2}}}},                        {\"responsive\": true}                    ).then(function(){\n",
              "                            \n",
              "var gd = document.getElementById('e4926adf-446d-4508-a24f-f5e191e3b249');\n",
              "var x = new MutationObserver(function (mutations, observer) {{\n",
              "        var display = window.getComputedStyle(gd).display;\n",
              "        if (!display || display === 'none') {{\n",
              "            console.log([gd, 'removed!']);\n",
              "            Plotly.purge(gd);\n",
              "            observer.disconnect();\n",
              "        }}\n",
              "}});\n",
              "\n",
              "// Listen for the removal of the full notebook cells\n",
              "var notebookContainer = gd.closest('#notebook-container');\n",
              "if (notebookContainer) {{\n",
              "    x.observe(notebookContainer, {childList: true});\n",
              "}}\n",
              "\n",
              "// Listen for the clearing of the current output cell\n",
              "var outputEl = gd.closest('.output');\n",
              "if (outputEl) {{\n",
              "    x.observe(outputEl, {childList: true});\n",
              "}}\n",
              "\n",
              "                        })                };                            </script>        </div>\n",
              "</body>\n",
              "</html>"
            ]
          },
          "metadata": {}
        }
      ]
    },
    {
      "cell_type": "markdown",
      "source": [
        "This time we used the merge data from above to display a scatter plot of **Total Cases (Covid)/1M Population against GDP of 2019**. \n",
        "\n",
        "For plotting, we used `px.scatter()` which represent each data point as a marker point, whose location is given by the `x` and `y` columns. We sorted the merged data and set the axis of the plot as needed. We also set the `color` of the dots to the **country** which makes the comparison much simpler. After that we plotted the scatter plot using `fig.show()`."
      ],
      "metadata": {
        "id": "PM9UUvFCOeen"
      }
    },
    {
      "cell_type": "code",
      "source": [
        "fig = px.scatter(merged.sort_values(by=\"Tot\\xa0Cases/1M pop\", ascending = True), x=\"Tot\\xa0Cases/1M pop\", y=\"gdp 2019\", color='country', title = 'Total Cases (Covid)/1M Population against GDP of 2019')\n",
        "fig.show()"
      ],
      "metadata": {
        "colab": {
          "base_uri": "https://localhost:8080/",
          "height": 542
        },
        "id": "AnnafeFZ_S6Z",
        "outputId": "ca709340-64d2-447c-d248-035f111b3910"
      },
      "execution_count": 27,
      "outputs": [
        {
          "output_type": "display_data",
          "data": {
            "text/html": [
              "<html>\n",
              "<head><meta charset=\"utf-8\" /></head>\n",
              "<body>\n",
              "    <div>            <script src=\"https://cdnjs.cloudflare.com/ajax/libs/mathjax/2.7.5/MathJax.js?config=TeX-AMS-MML_SVG\"></script><script type=\"text/javascript\">if (window.MathJax) {MathJax.Hub.Config({SVG: {font: \"STIX-Web\"}});}</script>                <script type=\"text/javascript\">window.PlotlyConfig = {MathJaxConfig: 'local'};</script>\n",
              "        <script src=\"https://cdn.plot.ly/plotly-2.8.3.min.js\"></script>                <div id=\"dd8097d1-1c00-413c-9bdc-02b47499ecaa\" class=\"plotly-graph-div\" style=\"height:525px; width:100%;\"></div>            <script type=\"text/javascript\">                                    window.PLOTLYENV=window.PLOTLYENV || {};                                    if (document.getElementById(\"dd8097d1-1c00-413c-9bdc-02b47499ecaa\")) {                    Plotly.newPlot(                        \"dd8097d1-1c00-413c-9bdc-02b47499ecaa\",                        [{\"hovertemplate\":\"country=Nigeria<br>Tot\\u00a0Cases/1M pop=%{x}<br>gdp 2019=%{y}<extra></extra>\",\"legendgroup\":\"Nigeria\",\"marker\":{\"color\":\"#636efa\",\"symbol\":\"circle\"},\"mode\":\"markers\",\"name\":\"Nigeria\",\"orientation\":\"v\",\"showlegend\":true,\"x\":[1229.0],\"xaxis\":\"x\",\"y\":[2.2084292771582],\"yaxis\":\"y\",\"type\":\"scatter\"},{\"hovertemplate\":\"country=Sudan<br>Tot\\u00a0Cases/1M pop=%{x}<br>gdp 2019=%{y}<extra></extra>\",\"legendgroup\":\"Sudan\",\"marker\":{\"color\":\"#EF553B\",\"symbol\":\"circle\"},\"mode\":\"markers\",\"name\":\"Sudan\",\"orientation\":\"v\",\"showlegend\":true,\"x\":[1384.0],\"xaxis\":\"x\",\"y\":[-2.17825104530091],\"yaxis\":\"y\",\"type\":\"scatter\"},{\"hovertemplate\":\"country=Liberia<br>Tot\\u00a0Cases/1M pop=%{x}<br>gdp 2019=%{y}<extra></extra>\",\"legendgroup\":\"Liberia\",\"marker\":{\"color\":\"#00cc96\",\"symbol\":\"circle\"},\"mode\":\"markers\",\"name\":\"Liberia\",\"orientation\":\"v\",\"showlegend\":true,\"x\":[1515.0],\"xaxis\":\"x\",\"y\":[-2.46729763532686],\"yaxis\":\"y\",\"type\":\"scatter\"},{\"hovertemplate\":\"country=Mali<br>Tot\\u00a0Cases/1M pop=%{x}<br>gdp 2019=%{y}<extra></extra>\",\"legendgroup\":\"Mali\",\"marker\":{\"color\":\"#ab63fa\",\"symbol\":\"circle\"},\"mode\":\"markers\",\"name\":\"Mali\",\"orientation\":\"v\",\"showlegend\":true,\"x\":[1526.0],\"xaxis\":\"x\",\"y\":[4.75616080770808],\"yaxis\":\"y\",\"type\":\"scatter\"},{\"hovertemplate\":\"country=Tajikistan<br>Tot\\u00a0Cases/1M pop=%{x}<br>gdp 2019=%{y}<extra></extra>\",\"legendgroup\":\"Tajikistan\",\"marker\":{\"color\":\"#FFA15A\",\"symbol\":\"circle\"},\"mode\":\"markers\",\"name\":\"Tajikistan\",\"orientation\":\"v\",\"showlegend\":true,\"x\":[1786.0],\"xaxis\":\"x\",\"y\":[7.39999963813631],\"yaxis\":\"y\",\"type\":\"scatter\"},{\"hovertemplate\":\"country=Benin<br>Tot\\u00a0Cases/1M pop=%{x}<br>gdp 2019=%{y}<extra></extra>\",\"legendgroup\":\"Benin\",\"marker\":{\"color\":\"#19d3f3\",\"symbol\":\"circle\"},\"mode\":\"markers\",\"name\":\"Benin\",\"orientation\":\"v\",\"showlegend\":true,\"x\":[2189.0],\"xaxis\":\"x\",\"y\":[6.86568733550151],\"yaxis\":\"y\",\"type\":\"scatter\"},{\"hovertemplate\":\"country=Madagascar<br>Tot\\u00a0Cases/1M pop=%{x}<br>gdp 2019=%{y}<extra></extra>\",\"legendgroup\":\"Madagascar\",\"marker\":{\"color\":\"#FF6692\",\"symbol\":\"circle\"},\"mode\":\"markers\",\"name\":\"Madagascar\",\"orientation\":\"v\",\"showlegend\":true,\"x\":[2318.0],\"xaxis\":\"x\",\"y\":[4.41123213007131],\"yaxis\":\"y\",\"type\":\"scatter\"},{\"hovertemplate\":\"country=Nicaragua<br>Tot\\u00a0Cases/1M pop=%{x}<br>gdp 2019=%{y}<extra></extra>\",\"legendgroup\":\"Nicaragua\",\"marker\":{\"color\":\"#B6E880\",\"symbol\":\"circle\"},\"mode\":\"markers\",\"name\":\"Nicaragua\",\"orientation\":\"v\",\"showlegend\":true,\"x\":[2728.0],\"xaxis\":\"x\",\"y\":[-3.67479457842713],\"yaxis\":\"y\",\"type\":\"scatter\"},{\"hovertemplate\":\"country=Guinea<br>Tot\\u00a0Cases/1M pop=%{x}<br>gdp 2019=%{y}<extra></extra>\",\"legendgroup\":\"Guinea\",\"marker\":{\"color\":\"#FF97FF\",\"symbol\":\"circle\"},\"mode\":\"markers\",\"name\":\"Guinea\",\"orientation\":\"v\",\"showlegend\":true,\"x\":[2752.0],\"xaxis\":\"x\",\"y\":[5.64617556842045],\"yaxis\":\"y\",\"type\":\"scatter\"},{\"hovertemplate\":\"country=Haiti<br>Tot\\u00a0Cases/1M pop=%{x}<br>gdp 2019=%{y}<extra></extra>\",\"legendgroup\":\"Haiti\",\"marker\":{\"color\":\"#FECB52\",\"symbol\":\"circle\"},\"mode\":\"markers\",\"name\":\"Haiti\",\"orientation\":\"v\",\"showlegend\":true,\"x\":[2900.0],\"xaxis\":\"x\",\"y\":[-1.68459508133022],\"yaxis\":\"y\",\"type\":\"scatter\"},{\"hovertemplate\":\"country=Angola<br>Tot\\u00a0Cases/1M pop=%{x}<br>gdp 2019=%{y}<extra></extra>\",\"legendgroup\":\"Angola\",\"marker\":{\"color\":\"#636efa\",\"symbol\":\"circle\"},\"mode\":\"markers\",\"name\":\"Angola\",\"orientation\":\"v\",\"showlegend\":true,\"x\":[2992.0],\"xaxis\":\"x\",\"y\":[-0.624644317706895],\"yaxis\":\"y\",\"type\":\"scatter\"},{\"hovertemplate\":\"country=Uganda<br>Tot\\u00a0Cases/1M pop=%{x}<br>gdp 2019=%{y}<extra></extra>\",\"legendgroup\":\"Uganda\",\"marker\":{\"color\":\"#EF553B\",\"symbol\":\"circle\"},\"mode\":\"markers\",\"name\":\"Uganda\",\"orientation\":\"v\",\"showlegend\":true,\"x\":[3506.0],\"xaxis\":\"x\",\"y\":[6.43874503365606],\"yaxis\":\"y\",\"type\":\"scatter\"},{\"hovertemplate\":\"country=Burundi<br>Tot\\u00a0Cases/1M pop=%{x}<br>gdp 2019=%{y}<extra></extra>\",\"legendgroup\":\"Burundi\",\"marker\":{\"color\":\"#00cc96\",\"symbol\":\"circle\"},\"mode\":\"markers\",\"name\":\"Burundi\",\"orientation\":\"v\",\"showlegend\":true,\"x\":[4041.0],\"xaxis\":\"x\",\"y\":[1.84247667669987],\"yaxis\":\"y\",\"type\":\"scatter\"},{\"hovertemplate\":\"country=Ethiopia<br>Tot\\u00a0Cases/1M pop=%{x}<br>gdp 2019=%{y}<extra></extra>\",\"legendgroup\":\"Ethiopia\",\"marker\":{\"color\":\"#ab63fa\",\"symbol\":\"circle\"},\"mode\":\"markers\",\"name\":\"Ethiopia\",\"orientation\":\"v\",\"showlegend\":true,\"x\":[4100.0],\"xaxis\":\"x\",\"y\":[8.3640856990789],\"yaxis\":\"y\",\"type\":\"scatter\"},{\"hovertemplate\":\"country=Guinea-Bissau<br>Tot\\u00a0Cases/1M pop=%{x}<br>gdp 2019=%{y}<extra></extra>\",\"legendgroup\":\"Guinea-Bissau\",\"marker\":{\"color\":\"#FFA15A\",\"symbol\":\"circle\"},\"mode\":\"markers\",\"name\":\"Guinea-Bissau\",\"orientation\":\"v\",\"showlegend\":true,\"x\":[4288.0],\"xaxis\":\"x\",\"y\":[4.49999999151316],\"yaxis\":\"y\",\"type\":\"scatter\"},{\"hovertemplate\":\"country=Malawi<br>Tot\\u00a0Cases/1M pop=%{x}<br>gdp 2019=%{y}<extra></extra>\",\"legendgroup\":\"Malawi\",\"marker\":{\"color\":\"#19d3f3\",\"symbol\":\"circle\"},\"mode\":\"markers\",\"name\":\"Malawi\",\"orientation\":\"v\",\"showlegend\":true,\"x\":[4371.0],\"xaxis\":\"x\",\"y\":[5.44818133617287],\"yaxis\":\"y\",\"type\":\"scatter\"},{\"hovertemplate\":\"country=Cameroon<br>Tot\\u00a0Cases/1M pop=%{x}<br>gdp 2019=%{y}<extra></extra>\",\"legendgroup\":\"Cameroon\",\"marker\":{\"color\":\"#FF6692\",\"symbol\":\"circle\"},\"mode\":\"markers\",\"name\":\"Cameroon\",\"orientation\":\"v\",\"showlegend\":true,\"x\":[4442.0],\"xaxis\":\"x\",\"y\":[3.47505997865608],\"yaxis\":\"y\",\"type\":\"scatter\"},{\"hovertemplate\":\"country=Togo<br>Tot\\u00a0Cases/1M pop=%{x}<br>gdp 2019=%{y}<extra></extra>\",\"legendgroup\":\"Togo\",\"marker\":{\"color\":\"#B6E880\",\"symbol\":\"circle\"},\"mode\":\"markers\",\"name\":\"Togo\",\"orientation\":\"v\",\"showlegend\":true,\"x\":[4531.0],\"xaxis\":\"x\",\"y\":[5.45992144835783],\"yaxis\":\"y\",\"type\":\"scatter\"},{\"hovertemplate\":\"country=Papua New Guinea<br>Tot\\u00a0Cases/1M pop=%{x}<br>gdp 2019=%{y}<extra></extra>\",\"legendgroup\":\"Papua New Guinea\",\"marker\":{\"color\":\"#FF97FF\",\"symbol\":\"circle\"},\"mode\":\"markers\",\"name\":\"Papua New Guinea\",\"orientation\":\"v\",\"showlegend\":true,\"x\":[4996.0],\"xaxis\":\"x\",\"y\":[4.48043060824274],\"yaxis\":\"y\",\"type\":\"scatter\"},{\"hovertemplate\":\"country=Senegal<br>Tot\\u00a0Cases/1M pop=%{x}<br>gdp 2019=%{y}<extra></extra>\",\"legendgroup\":\"Senegal\",\"marker\":{\"color\":\"#FECB52\",\"symbol\":\"circle\"},\"mode\":\"markers\",\"name\":\"Senegal\",\"orientation\":\"v\",\"showlegend\":true,\"x\":[5035.0],\"xaxis\":\"x\",\"y\":[4.40240683638351],\"yaxis\":\"y\",\"type\":\"scatter\"},{\"hovertemplate\":\"country=Afghanistan<br>Tot\\u00a0Cases/1M pop=%{x}<br>gdp 2019=%{y}<extra></extra>\",\"legendgroup\":\"Afghanistan\",\"marker\":{\"color\":\"#636efa\",\"symbol\":\"circle\"},\"mode\":\"markers\",\"name\":\"Afghanistan\",\"orientation\":\"v\",\"showlegend\":true,\"x\":[5072.0],\"xaxis\":\"x\",\"y\":[3.911603419423],\"yaxis\":\"y\",\"type\":\"scatter\"},{\"hovertemplate\":\"country=Ghana<br>Tot\\u00a0Cases/1M pop=%{x}<br>gdp 2019=%{y}<extra></extra>\",\"legendgroup\":\"Ghana\",\"marker\":{\"color\":\"#EF553B\",\"symbol\":\"circle\"},\"mode\":\"markers\",\"name\":\"Ghana\",\"orientation\":\"v\",\"showlegend\":true,\"x\":[5279.0],\"xaxis\":\"x\",\"y\":[6.5077747939152],\"yaxis\":\"y\",\"type\":\"scatter\"},{\"hovertemplate\":\"country=Algeria<br>Tot\\u00a0Cases/1M pop=%{x}<br>gdp 2019=%{y}<extra></extra>\",\"legendgroup\":\"Algeria\",\"marker\":{\"color\":\"#00cc96\",\"symbol\":\"circle\"},\"mode\":\"markers\",\"name\":\"Algeria\",\"orientation\":\"v\",\"showlegend\":true,\"x\":[5979.0],\"xaxis\":\"x\",\"y\":[0.999999999999915],\"yaxis\":\"y\",\"type\":\"scatter\"},{\"hovertemplate\":\"country=Kenya<br>Tot\\u00a0Cases/1M pop=%{x}<br>gdp 2019=%{y}<extra></extra>\",\"legendgroup\":\"Kenya\",\"marker\":{\"color\":\"#ab63fa\",\"symbol\":\"circle\"},\"mode\":\"markers\",\"name\":\"Kenya\",\"orientation\":\"v\",\"showlegend\":true,\"x\":[6086.0],\"xaxis\":\"x\",\"y\":[4.98113262830462],\"yaxis\":\"y\",\"type\":\"scatter\"},{\"hovertemplate\":\"country=Pakistan<br>Tot\\u00a0Cases/1M pop=%{x}<br>gdp 2019=%{y}<extra></extra>\",\"legendgroup\":\"Pakistan\",\"marker\":{\"color\":\"#FFA15A\",\"symbol\":\"circle\"},\"mode\":\"markers\",\"name\":\"Pakistan\",\"orientation\":\"v\",\"showlegend\":true,\"x\":[6865.0],\"xaxis\":\"x\",\"y\":[1.14474960525021],\"yaxis\":\"y\",\"type\":\"scatter\"},{\"hovertemplate\":\"country=Mozambique<br>Tot\\u00a0Cases/1M pop=%{x}<br>gdp 2019=%{y}<extra></extra>\",\"legendgroup\":\"Mozambique\",\"marker\":{\"color\":\"#19d3f3\",\"symbol\":\"circle\"},\"mode\":\"markers\",\"name\":\"Mozambique\",\"orientation\":\"v\",\"showlegend\":true,\"x\":[6970.0],\"xaxis\":\"x\",\"y\":[2.31460601020051],\"yaxis\":\"y\",\"type\":\"scatter\"},{\"hovertemplate\":\"country=Uzbekistan<br>Tot\\u00a0Cases/1M pop=%{x}<br>gdp 2019=%{y}<extra></extra>\",\"legendgroup\":\"Uzbekistan\",\"marker\":{\"color\":\"#FF6692\",\"symbol\":\"circle\"},\"mode\":\"markers\",\"name\":\"Uzbekistan\",\"orientation\":\"v\",\"showlegend\":true,\"x\":[7208.0],\"xaxis\":\"x\",\"y\":[5.7096322218392],\"yaxis\":\"y\",\"type\":\"scatter\"},{\"hovertemplate\":\"country=Cambodia<br>Tot\\u00a0Cases/1M pop=%{x}<br>gdp 2019=%{y}<extra></extra>\",\"legendgroup\":\"Cambodia\",\"marker\":{\"color\":\"#B6E880\",\"symbol\":\"circle\"},\"mode\":\"markers\",\"name\":\"Cambodia\",\"orientation\":\"v\",\"showlegend\":true,\"x\":[8054.0],\"xaxis\":\"x\",\"y\":[7.05410693233065],\"yaxis\":\"y\",\"type\":\"scatter\"},{\"hovertemplate\":\"country=Rwanda<br>Tot\\u00a0Cases/1M pop=%{x}<br>gdp 2019=%{y}<extra></extra>\",\"legendgroup\":\"Rwanda\",\"marker\":{\"color\":\"#FF97FF\",\"symbol\":\"circle\"},\"mode\":\"markers\",\"name\":\"Rwanda\",\"orientation\":\"v\",\"showlegend\":true,\"x\":[9765.0],\"xaxis\":\"x\",\"y\":[9.46068248236998],\"yaxis\":\"y\",\"type\":\"scatter\"},{\"hovertemplate\":\"country=Comoros<br>Tot\\u00a0Cases/1M pop=%{x}<br>gdp 2019=%{y}<extra></extra>\",\"legendgroup\":\"Comoros\",\"marker\":{\"color\":\"#FECB52\",\"symbol\":\"circle\"},\"mode\":\"markers\",\"name\":\"Comoros\",\"orientation\":\"v\",\"showlegend\":true,\"x\":[9893.0],\"xaxis\":\"x\",\"y\":[1.75532827980625],\"yaxis\":\"y\",\"type\":\"scatter\"},{\"hovertemplate\":\"country=Myanmar<br>Tot\\u00a0Cases/1M pop=%{x}<br>gdp 2019=%{y}<extra></extra>\",\"legendgroup\":\"Myanmar\",\"marker\":{\"color\":\"#636efa\",\"symbol\":\"circle\"},\"mode\":\"markers\",\"name\":\"Myanmar\",\"orientation\":\"v\",\"showlegend\":true,\"x\":[11470.0],\"xaxis\":\"x\",\"y\":[6.7504601462238],\"yaxis\":\"y\",\"type\":\"scatter\"},{\"hovertemplate\":\"country=Equatorial Guinea<br>Tot\\u00a0Cases/1M pop=%{x}<br>gdp 2019=%{y}<extra></extra>\",\"legendgroup\":\"Equatorial Guinea\",\"marker\":{\"color\":\"#EF553B\",\"symbol\":\"circle\"},\"mode\":\"markers\",\"name\":\"Equatorial Guinea\",\"orientation\":\"v\",\"showlegend\":true,\"x\":[11482.0],\"xaxis\":\"x\",\"y\":[-5.97893690507988],\"yaxis\":\"y\",\"type\":\"scatter\"},{\"hovertemplate\":\"country=Bangladesh<br>Tot\\u00a0Cases/1M pop=%{x}<br>gdp 2019=%{y}<extra></extra>\",\"legendgroup\":\"Bangladesh\",\"marker\":{\"color\":\"#00cc96\",\"symbol\":\"circle\"},\"mode\":\"markers\",\"name\":\"Bangladesh\",\"orientation\":\"v\",\"showlegend\":true,\"x\":[12132.0],\"xaxis\":\"x\",\"y\":[8.1526841493979],\"yaxis\":\"y\",\"type\":\"scatter\"},{\"hovertemplate\":\"country=Mauritania<br>Tot\\u00a0Cases/1M pop=%{x}<br>gdp 2019=%{y}<extra></extra>\",\"legendgroup\":\"Mauritania\",\"marker\":{\"color\":\"#ab63fa\",\"symbol\":\"circle\"},\"mode\":\"markers\",\"name\":\"Mauritania\",\"orientation\":\"v\",\"showlegend\":true,\"x\":[12938.0],\"xaxis\":\"x\",\"y\":[5.75993058973705],\"yaxis\":\"y\",\"type\":\"scatter\"},{\"hovertemplate\":\"country=Djibouti<br>Tot\\u00a0Cases/1M pop=%{x}<br>gdp 2019=%{y}<extra></extra>\",\"legendgroup\":\"Djibouti\",\"marker\":{\"color\":\"#FFA15A\",\"symbol\":\"circle\"},\"mode\":\"markers\",\"name\":\"Djibouti\",\"orientation\":\"v\",\"showlegend\":true,\"x\":[15441.0],\"xaxis\":\"x\",\"y\":[7.77049725726383],\"yaxis\":\"y\",\"type\":\"scatter\"},{\"hovertemplate\":\"country=Lesotho<br>Tot\\u00a0Cases/1M pop=%{x}<br>gdp 2019=%{y}<extra></extra>\",\"legendgroup\":\"Lesotho\",\"marker\":{\"color\":\"#19d3f3\",\"symbol\":\"circle\"},\"mode\":\"markers\",\"name\":\"Lesotho\",\"orientation\":\"v\",\"showlegend\":true,\"x\":[15852.0],\"xaxis\":\"x\",\"y\":[-0.381431981522567],\"yaxis\":\"y\",\"type\":\"scatter\"},{\"hovertemplate\":\"country=Zimbabwe<br>Tot\\u00a0Cases/1M pop=%{x}<br>gdp 2019=%{y}<extra></extra>\",\"legendgroup\":\"Zimbabwe\",\"marker\":{\"color\":\"#FF6692\",\"symbol\":\"circle\"},\"mode\":\"markers\",\"name\":\"Zimbabwe\",\"orientation\":\"v\",\"showlegend\":true,\"x\":[16917.0],\"xaxis\":\"x\",\"y\":[-6.14423631439116],\"yaxis\":\"y\",\"type\":\"scatter\"},{\"hovertemplate\":\"country=Timor-Leste<br>Tot\\u00a0Cases/1M pop=%{x}<br>gdp 2019=%{y}<extra></extra>\",\"legendgroup\":\"Timor-Leste\",\"marker\":{\"color\":\"#B6E880\",\"symbol\":\"circle\"},\"mode\":\"markers\",\"name\":\"Timor-Leste\",\"orientation\":\"v\",\"showlegend\":true,\"x\":[17061.0],\"xaxis\":\"x\",\"y\":[19.5358102438791],\"yaxis\":\"y\",\"type\":\"scatter\"},{\"hovertemplate\":\"country=Zambia<br>Tot\\u00a0Cases/1M pop=%{x}<br>gdp 2019=%{y}<extra></extra>\",\"legendgroup\":\"Zambia\",\"marker\":{\"color\":\"#FF97FF\",\"symbol\":\"circle\"},\"mode\":\"markers\",\"name\":\"Zambia\",\"orientation\":\"v\",\"showlegend\":true,\"x\":[17141.0],\"xaxis\":\"x\",\"y\":[1.44130602603785],\"yaxis\":\"y\",\"type\":\"scatter\"},{\"hovertemplate\":\"country=Gabon<br>Tot\\u00a0Cases/1M pop=%{x}<br>gdp 2019=%{y}<extra></extra>\",\"legendgroup\":\"Gabon\",\"marker\":{\"color\":\"#FECB52\",\"symbol\":\"circle\"},\"mode\":\"markers\",\"name\":\"Gabon\",\"orientation\":\"v\",\"showlegend\":true,\"x\":[21005.0],\"xaxis\":\"x\",\"y\":[3.92080879452831],\"yaxis\":\"y\",\"type\":\"scatter\"},{\"hovertemplate\":\"country=Saudi Arabia<br>Tot\\u00a0Cases/1M pop=%{x}<br>gdp 2019=%{y}<extra></extra>\",\"legendgroup\":\"Saudi Arabia\",\"marker\":{\"color\":\"#636efa\",\"symbol\":\"circle\"},\"mode\":\"markers\",\"name\":\"Saudi Arabia\",\"orientation\":\"v\",\"showlegend\":true,\"x\":[23051.0],\"xaxis\":\"x\",\"y\":[0.331435728597114],\"yaxis\":\"y\",\"type\":\"scatter\"},{\"hovertemplate\":\"country=Indonesia<br>Tot\\u00a0Cases/1M pop=%{x}<br>gdp 2019=%{y}<extra></extra>\",\"legendgroup\":\"Indonesia\",\"marker\":{\"color\":\"#EF553B\",\"symbol\":\"circle\"},\"mode\":\"markers\",\"name\":\"Indonesia\",\"orientation\":\"v\",\"showlegend\":true,\"x\":[24003.0],\"xaxis\":\"x\",\"y\":[5.01815971508286],\"yaxis\":\"y\",\"type\":\"scatter\"},{\"hovertemplate\":\"country=Sao Tome and Principe<br>Tot\\u00a0Cases/1M pop=%{x}<br>gdp 2019=%{y}<extra></extra>\",\"legendgroup\":\"Sao Tome and Principe\",\"marker\":{\"color\":\"#00cc96\",\"symbol\":\"circle\"},\"mode\":\"markers\",\"name\":\"Sao Tome and Principe\",\"orientation\":\"v\",\"showlegend\":true,\"x\":[27578.0],\"xaxis\":\"x\",\"y\":[2.21085583286091],\"yaxis\":\"y\",\"type\":\"scatter\"},{\"hovertemplate\":\"country=Kiribati<br>Tot\\u00a0Cases/1M pop=%{x}<br>gdp 2019=%{y}<extra></extra>\",\"legendgroup\":\"Kiribati\",\"marker\":{\"color\":\"#ab63fa\",\"symbol\":\"circle\"},\"mode\":\"markers\",\"name\":\"Kiribati\",\"orientation\":\"v\",\"showlegend\":true,\"x\":[27792.0],\"xaxis\":\"x\",\"y\":[3.92644543807539],\"yaxis\":\"y\",\"type\":\"scatter\"},{\"hovertemplate\":\"country=El Salvador<br>Tot\\u00a0Cases/1M pop=%{x}<br>gdp 2019=%{y}<extra></extra>\",\"legendgroup\":\"El Salvador\",\"marker\":{\"color\":\"#FFA15A\",\"symbol\":\"circle\"},\"mode\":\"markers\",\"name\":\"El Salvador\",\"orientation\":\"v\",\"showlegend\":true,\"x\":[30805.0],\"xaxis\":\"x\",\"y\":[2.38258139815673],\"yaxis\":\"y\",\"type\":\"scatter\"},{\"hovertemplate\":\"country=Sri Lanka<br>Tot\\u00a0Cases/1M pop=%{x}<br>gdp 2019=%{y}<extra></extra>\",\"legendgroup\":\"Sri Lanka\",\"marker\":{\"color\":\"#19d3f3\",\"symbol\":\"circle\"},\"mode\":\"markers\",\"name\":\"Sri Lanka\",\"orientation\":\"v\",\"showlegend\":true,\"x\":[31135.0],\"xaxis\":\"x\",\"y\":[2.25517652855038],\"yaxis\":\"y\",\"type\":\"scatter\"},{\"hovertemplate\":\"country=India<br>Tot\\u00a0Cases/1M pop=%{x}<br>gdp 2019=%{y}<extra></extra>\",\"legendgroup\":\"India\",\"marker\":{\"color\":\"#FF6692\",\"symbol\":\"circle\"},\"mode\":\"markers\",\"name\":\"India\",\"orientation\":\"v\",\"showlegend\":true,\"x\":[31761.0],\"xaxis\":\"x\",\"y\":[4.0415541865323],\"yaxis\":\"y\",\"type\":\"scatter\"},{\"hovertemplate\":\"country=Mauritius<br>Tot\\u00a0Cases/1M pop=%{x}<br>gdp 2019=%{y}<extra></extra>\",\"legendgroup\":\"Mauritius\",\"marker\":{\"color\":\"#B6E880\",\"symbol\":\"circle\"},\"mode\":\"markers\",\"name\":\"Mauritius\",\"orientation\":\"v\",\"showlegend\":true,\"x\":[32377.0],\"xaxis\":\"x\",\"y\":[3.01237590269628],\"yaxis\":\"y\",\"type\":\"scatter\"},{\"hovertemplate\":\"country=Nepal<br>Tot\\u00a0Cases/1M pop=%{x}<br>gdp 2019=%{y}<extra></extra>\",\"legendgroup\":\"Nepal\",\"marker\":{\"color\":\"#FF97FF\",\"symbol\":\"circle\"},\"mode\":\"markers\",\"name\":\"Nepal\",\"orientation\":\"v\",\"showlegend\":true,\"x\":[33116.0],\"xaxis\":\"x\",\"y\":[6.65705542802834],\"yaxis\":\"y\",\"type\":\"scatter\"},{\"hovertemplate\":\"country=Solomon Islands<br>Tot\\u00a0Cases/1M pop=%{x}<br>gdp 2019=%{y}<extra></extra>\",\"legendgroup\":\"Solomon Islands\",\"marker\":{\"color\":\"#FECB52\",\"symbol\":\"circle\"},\"mode\":\"markers\",\"name\":\"Solomon Islands\",\"orientation\":\"v\",\"showlegend\":true,\"x\":[34077.0],\"xaxis\":\"x\",\"y\":[1.20404998631763],\"yaxis\":\"y\",\"type\":\"scatter\"},{\"hovertemplate\":\"country=Philippines<br>Tot\\u00a0Cases/1M pop=%{x}<br>gdp 2019=%{y}<extra></extra>\",\"legendgroup\":\"Philippines\",\"marker\":{\"color\":\"#636efa\",\"symbol\":\"circle\"},\"mode\":\"markers\",\"name\":\"Philippines\",\"orientation\":\"v\",\"showlegend\":true,\"x\":[35998.0],\"xaxis\":\"x\",\"y\":[6.11852566256255],\"yaxis\":\"y\",\"type\":\"scatter\"},{\"hovertemplate\":\"country=Vanuatu<br>Tot\\u00a0Cases/1M pop=%{x}<br>gdp 2019=%{y}<extra></extra>\",\"legendgroup\":\"Vanuatu\",\"marker\":{\"color\":\"#EF553B\",\"symbol\":\"circle\"},\"mode\":\"markers\",\"name\":\"Vanuatu\",\"orientation\":\"v\",\"showlegend\":true,\"x\":[37137.0],\"xaxis\":\"x\",\"y\":[3.91253473745795],\"yaxis\":\"y\",\"type\":\"scatter\"},{\"hovertemplate\":\"country=Honduras<br>Tot\\u00a0Cases/1M pop=%{x}<br>gdp 2019=%{y}<extra></extra>\",\"legendgroup\":\"Honduras\",\"marker\":{\"color\":\"#00cc96\",\"symbol\":\"circle\"},\"mode\":\"markers\",\"name\":\"Honduras\",\"orientation\":\"v\",\"showlegend\":true,\"x\":[44899.0],\"xaxis\":\"x\",\"y\":[2.65306625480355],\"yaxis\":\"y\",\"type\":\"scatter\"},{\"hovertemplate\":\"country=Jamaica<br>Tot\\u00a0Cases/1M pop=%{x}<br>gdp 2019=%{y}<extra></extra>\",\"legendgroup\":\"Jamaica\",\"marker\":{\"color\":\"#ab63fa\",\"symbol\":\"circle\"},\"mode\":\"markers\",\"name\":\"Jamaica\",\"orientation\":\"v\",\"showlegend\":true,\"x\":[51093.0],\"xaxis\":\"x\",\"y\":[0.892291653822227],\"yaxis\":\"y\",\"type\":\"scatter\"},{\"hovertemplate\":\"country=Mexico<br>Tot\\u00a0Cases/1M pop=%{x}<br>gdp 2019=%{y}<extra></extra>\",\"legendgroup\":\"Mexico\",\"marker\":{\"color\":\"#FFA15A\",\"symbol\":\"circle\"},\"mode\":\"markers\",\"name\":\"Mexico\",\"orientation\":\"v\",\"showlegend\":true,\"x\":[54398.0],\"xaxis\":\"x\",\"y\":[-0.176599456271802],\"yaxis\":\"y\",\"type\":\"scatter\"},{\"hovertemplate\":\"country=Ecuador<br>Tot\\u00a0Cases/1M pop=%{x}<br>gdp 2019=%{y}<extra></extra>\",\"legendgroup\":\"Ecuador\",\"marker\":{\"color\":\"#19d3f3\",\"symbol\":\"circle\"},\"mode\":\"markers\",\"name\":\"Ecuador\",\"orientation\":\"v\",\"showlegend\":true,\"x\":[55822.0],\"xaxis\":\"x\",\"y\":[0.0121051028476558],\"yaxis\":\"y\",\"type\":\"scatter\"},{\"hovertemplate\":\"country=Iraq<br>Tot\\u00a0Cases/1M pop=%{x}<br>gdp 2019=%{y}<extra></extra>\",\"legendgroup\":\"Iraq\",\"marker\":{\"color\":\"#FF6692\",\"symbol\":\"circle\"},\"mode\":\"markers\",\"name\":\"Iraq\",\"orientation\":\"v\",\"showlegend\":true,\"x\":[58446.0],\"xaxis\":\"x\",\"y\":[5.95732750325479],\"yaxis\":\"y\",\"type\":\"scatter\"},{\"hovertemplate\":\"country=Dominican Republic<br>Tot\\u00a0Cases/1M pop=%{x}<br>gdp 2019=%{y}<extra></extra>\",\"legendgroup\":\"Dominican Republic\",\"marker\":{\"color\":\"#B6E880\",\"symbol\":\"circle\"},\"mode\":\"markers\",\"name\":\"Dominican Republic\",\"orientation\":\"v\",\"showlegend\":true,\"x\":[58879.0],\"xaxis\":\"x\",\"y\":[5.05216802016253],\"yaxis\":\"y\",\"type\":\"scatter\"},{\"hovertemplate\":\"country=Eswatini<br>Tot\\u00a0Cases/1M pop=%{x}<br>gdp 2019=%{y}<extra></extra>\",\"legendgroup\":\"Eswatini\",\"marker\":{\"color\":\"#FF97FF\",\"symbol\":\"circle\"},\"mode\":\"markers\",\"name\":\"Eswatini\",\"orientation\":\"v\",\"showlegend\":true,\"x\":[62379.0],\"xaxis\":\"x\",\"y\":[2.61303529001997],\"yaxis\":\"y\",\"type\":\"scatter\"},{\"hovertemplate\":\"country=Guatemala<br>Tot\\u00a0Cases/1M pop=%{x}<br>gdp 2019=%{y}<extra></extra>\",\"legendgroup\":\"Guatemala\",\"marker\":{\"color\":\"#FECB52\",\"symbol\":\"circle\"},\"mode\":\"markers\",\"name\":\"Guatemala\",\"orientation\":\"v\",\"showlegend\":true,\"x\":[63039.0],\"xaxis\":\"x\",\"y\":[3.866856574905],\"yaxis\":\"y\",\"type\":\"scatter\"},{\"hovertemplate\":\"country=Namibia<br>Tot\\u00a0Cases/1M pop=%{x}<br>gdp 2019=%{y}<extra></extra>\",\"legendgroup\":\"Namibia\",\"marker\":{\"color\":\"#636efa\",\"symbol\":\"circle\"},\"mode\":\"markers\",\"name\":\"Namibia\",\"orientation\":\"v\",\"showlegend\":true,\"x\":[64523.0],\"xaxis\":\"x\",\"y\":[-0.888099159557285],\"yaxis\":\"y\",\"type\":\"scatter\"},{\"hovertemplate\":\"country=South Africa<br>Tot\\u00a0Cases/1M pop=%{x}<br>gdp 2019=%{y}<extra></extra>\",\"legendgroup\":\"South Africa\",\"marker\":{\"color\":\"#EF553B\",\"symbol\":\"circle\"},\"mode\":\"markers\",\"name\":\"South Africa\",\"orientation\":\"v\",\"showlegend\":true,\"x\":[66582.0],\"xaxis\":\"x\",\"y\":[0.113053696742199],\"yaxis\":\"y\",\"type\":\"scatter\"},{\"hovertemplate\":\"country=Thailand<br>Tot\\u00a0Cases/1M pop=%{x}<br>gdp 2019=%{y}<extra></extra>\",\"legendgroup\":\"Thailand\",\"marker\":{\"color\":\"#00cc96\",\"symbol\":\"circle\"},\"mode\":\"markers\",\"name\":\"Thailand\",\"orientation\":\"v\",\"showlegend\":true,\"x\":[67289.0],\"xaxis\":\"x\",\"y\":[2.26643367175595],\"yaxis\":\"y\",\"type\":\"scatter\"},{\"hovertemplate\":\"country=Libya<br>Tot\\u00a0Cases/1M pop=%{x}<br>gdp 2019=%{y}<extra></extra>\",\"legendgroup\":\"Libya\",\"marker\":{\"color\":\"#ab63fa\",\"symbol\":\"circle\"},\"mode\":\"markers\",\"name\":\"Libya\",\"orientation\":\"v\",\"showlegend\":true,\"x\":[72024.0],\"xaxis\":\"x\",\"y\":[2.53595347758677],\"yaxis\":\"y\",\"type\":\"scatter\"},{\"hovertemplate\":\"country=Kazakhstan<br>Tot\\u00a0Cases/1M pop=%{x}<br>gdp 2019=%{y}<extra></extra>\",\"legendgroup\":\"Kazakhstan\",\"marker\":{\"color\":\"#FFA15A\",\"symbol\":\"circle\"},\"mode\":\"markers\",\"name\":\"Kazakhstan\",\"orientation\":\"v\",\"showlegend\":true,\"x\":[72836.0],\"xaxis\":\"x\",\"y\":[4.50000000008481],\"yaxis\":\"y\",\"type\":\"scatter\"},{\"hovertemplate\":\"country=Oman<br>Tot\\u00a0Cases/1M pop=%{x}<br>gdp 2019=%{y}<extra></extra>\",\"legendgroup\":\"Oman\",\"marker\":{\"color\":\"#19d3f3\",\"symbol\":\"circle\"},\"mode\":\"markers\",\"name\":\"Oman\",\"orientation\":\"v\",\"showlegend\":true,\"x\":[74966.0],\"xaxis\":\"x\",\"y\":[-1.12920645748066],\"yaxis\":\"y\",\"type\":\"scatter\"},{\"hovertemplate\":\"country=Fiji<br>Tot\\u00a0Cases/1M pop=%{x}<br>gdp 2019=%{y}<extra></extra>\",\"legendgroup\":\"Fiji\",\"marker\":{\"color\":\"#FF6692\",\"symbol\":\"circle\"},\"mode\":\"markers\",\"name\":\"Fiji\",\"orientation\":\"v\",\"showlegend\":true,\"x\":[75265.0],\"xaxis\":\"x\",\"y\":[-0.445563043622684],\"yaxis\":\"y\",\"type\":\"scatter\"},{\"hovertemplate\":\"country=Samoa<br>Tot\\u00a0Cases/1M pop=%{x}<br>gdp 2019=%{y}<extra></extra>\",\"legendgroup\":\"Samoa\",\"marker\":{\"color\":\"#B6E880\",\"symbol\":\"circle\"},\"mode\":\"markers\",\"name\":\"Samoa\",\"orientation\":\"v\",\"showlegend\":true,\"x\":[78951.0],\"xaxis\":\"x\",\"y\":[4.37982554521874],\"yaxis\":\"y\",\"type\":\"scatter\"},{\"hovertemplate\":\"country=Azerbaijan<br>Tot\\u00a0Cases/1M pop=%{x}<br>gdp 2019=%{y}<extra></extra>\",\"legendgroup\":\"Azerbaijan\",\"marker\":{\"color\":\"#FF97FF\",\"symbol\":\"circle\"},\"mode\":\"markers\",\"name\":\"Azerbaijan\",\"orientation\":\"v\",\"showlegend\":true,\"x\":[80084.0],\"xaxis\":\"x\",\"y\":[2.4999999999999],\"yaxis\":\"y\",\"type\":\"scatter\"},{\"hovertemplate\":\"country=World<br>Tot\\u00a0Cases/1M pop=%{x}<br>gdp 2019=%{y}<extra></extra>\",\"legendgroup\":\"World\",\"marker\":{\"color\":\"#FECB52\",\"symbol\":\"circle\"},\"mode\":\"markers\",\"name\":\"World\",\"orientation\":\"v\",\"showlegend\":true,\"x\":[83898.0],\"xaxis\":\"x\",\"y\":[2.60087776956794],\"yaxis\":\"y\",\"type\":\"scatter\"},{\"hovertemplate\":\"country=Guyana<br>Tot\\u00a0Cases/1M pop=%{x}<br>gdp 2019=%{y}<extra></extra>\",\"legendgroup\":\"Guyana\",\"marker\":{\"color\":\"#636efa\",\"symbol\":\"circle\"},\"mode\":\"markers\",\"name\":\"Guyana\",\"orientation\":\"v\",\"showlegend\":true,\"x\":[90363.0],\"xaxis\":\"x\",\"y\":[5.35262742597216],\"yaxis\":\"y\",\"type\":\"scatter\"},{\"hovertemplate\":\"country=Antigua and Barbuda<br>Tot\\u00a0Cases/1M pop=%{x}<br>gdp 2019=%{y}<extra></extra>\",\"legendgroup\":\"Antigua and Barbuda\",\"marker\":{\"color\":\"#EF553B\",\"symbol\":\"circle\"},\"mode\":\"markers\",\"name\":\"Antigua and Barbuda\",\"orientation\":\"v\",\"showlegend\":true,\"x\":[91509.0],\"xaxis\":\"x\",\"y\":[4.86223616575663],\"yaxis\":\"y\",\"type\":\"scatter\"},{\"hovertemplate\":\"country=Bolivia<br>Tot\\u00a0Cases/1M pop=%{x}<br>gdp 2019=%{y}<extra></extra>\",\"legendgroup\":\"Bolivia\",\"marker\":{\"color\":\"#00cc96\",\"symbol\":\"circle\"},\"mode\":\"markers\",\"name\":\"Bolivia\",\"orientation\":\"v\",\"showlegend\":true,\"x\":[93300.0],\"xaxis\":\"x\",\"y\":[2.21670577750376],\"yaxis\":\"y\",\"type\":\"scatter\"},{\"hovertemplate\":\"country=Tunisia<br>Tot\\u00a0Cases/1M pop=%{x}<br>gdp 2019=%{y}<extra></extra>\",\"legendgroup\":\"Tunisia\",\"marker\":{\"color\":\"#ab63fa\",\"symbol\":\"circle\"},\"mode\":\"markers\",\"name\":\"Tunisia\",\"orientation\":\"v\",\"showlegend\":true,\"x\":[95225.0],\"xaxis\":\"x\",\"y\":[1.40197667646078],\"yaxis\":\"y\",\"type\":\"scatter\"},{\"hovertemplate\":\"country=Belarus<br>Tot\\u00a0Cases/1M pop=%{x}<br>gdp 2019=%{y}<extra></extra>\",\"legendgroup\":\"Belarus\",\"marker\":{\"color\":\"#FFA15A\",\"symbol\":\"circle\"},\"mode\":\"markers\",\"name\":\"Belarus\",\"orientation\":\"v\",\"showlegend\":true,\"x\":[105381.0],\"xaxis\":\"x\",\"y\":[1.40000000000001],\"yaxis\":\"y\",\"type\":\"scatter\"},{\"hovertemplate\":\"country=Paraguay<br>Tot\\u00a0Cases/1M pop=%{x}<br>gdp 2019=%{y}<extra></extra>\",\"legendgroup\":\"Paraguay\",\"marker\":{\"color\":\"#19d3f3\",\"symbol\":\"circle\"},\"mode\":\"markers\",\"name\":\"Paraguay\",\"orientation\":\"v\",\"showlegend\":true,\"x\":[106613.0],\"xaxis\":\"x\",\"y\":[-0.40185510068001],\"yaxis\":\"y\",\"type\":\"scatter\"},{\"hovertemplate\":\"country=Cabo Verde<br>Tot\\u00a0Cases/1M pop=%{x}<br>gdp 2019=%{y}<extra></extra>\",\"legendgroup\":\"Cabo Verde\",\"marker\":{\"color\":\"#FF6692\",\"symbol\":\"circle\"},\"mode\":\"markers\",\"name\":\"Cabo Verde\",\"orientation\":\"v\",\"showlegend\":true,\"x\":[111207.0],\"xaxis\":\"x\",\"y\":[5.66775246034304],\"yaxis\":\"y\",\"type\":\"scatter\"},{\"hovertemplate\":\"country=Canada<br>Tot\\u00a0Cases/1M pop=%{x}<br>gdp 2019=%{y}<extra></extra>\",\"legendgroup\":\"Canada\",\"marker\":{\"color\":\"#B6E880\",\"symbol\":\"circle\"},\"mode\":\"markers\",\"name\":\"Canada\",\"orientation\":\"v\",\"showlegend\":true,\"x\":[115218.0],\"xaxis\":\"x\",\"y\":[1.87959202770178],\"yaxis\":\"y\",\"type\":\"scatter\"},{\"hovertemplate\":\"country=Albania<br>Tot\\u00a0Cases/1M pop=%{x}<br>gdp 2019=%{y}<extra></extra>\",\"legendgroup\":\"Albania\",\"marker\":{\"color\":\"#FF97FF\",\"symbol\":\"circle\"},\"mode\":\"markers\",\"name\":\"Albania\",\"orientation\":\"v\",\"showlegend\":true,\"x\":[116361.0],\"xaxis\":\"x\",\"y\":[2.11341998165848],\"yaxis\":\"y\",\"type\":\"scatter\"},{\"hovertemplate\":\"country=Vietnam<br>Tot\\u00a0Cases/1M pop=%{x}<br>gdp 2019=%{y}<extra></extra>\",\"legendgroup\":\"Vietnam\",\"marker\":{\"color\":\"#FECB52\",\"symbol\":\"circle\"},\"mode\":\"markers\",\"name\":\"Vietnam\",\"orientation\":\"v\",\"showlegend\":true,\"x\":[116429.0],\"xaxis\":\"x\",\"y\":[7.0174348821878],\"yaxis\":\"y\",\"type\":\"scatter\"},{\"hovertemplate\":\"country=Colombia<br>Tot\\u00a0Cases/1M pop=%{x}<br>gdp 2019=%{y}<extra></extra>\",\"legendgroup\":\"Colombia\",\"marker\":{\"color\":\"#636efa\",\"symbol\":\"circle\"},\"mode\":\"markers\",\"name\":\"Colombia\",\"orientation\":\"v\",\"showlegend\":true,\"x\":[122753.0],\"xaxis\":\"x\",\"y\":[3.28111680452643],\"yaxis\":\"y\",\"type\":\"scatter\"},{\"hovertemplate\":\"country=Bosnia and Herzegovina<br>Tot\\u00a0Cases/1M pop=%{x}<br>gdp 2019=%{y}<extra></extra>\",\"legendgroup\":\"Bosnia and Herzegovina\",\"marker\":{\"color\":\"#EF553B\",\"symbol\":\"circle\"},\"mode\":\"markers\",\"name\":\"Bosnia and Herzegovina\",\"orientation\":\"v\",\"showlegend\":true,\"x\":[123318.0],\"xaxis\":\"x\",\"y\":[2.83100260259697],\"yaxis\":\"y\",\"type\":\"scatter\"},{\"hovertemplate\":\"country=Ukraine<br>Tot\\u00a0Cases/1M pop=%{x}<br>gdp 2019=%{y}<extra></extra>\",\"legendgroup\":\"Ukraine\",\"marker\":{\"color\":\"#00cc96\",\"symbol\":\"circle\"},\"mode\":\"markers\",\"name\":\"Ukraine\",\"orientation\":\"v\",\"showlegend\":true,\"x\":[123775.0],\"xaxis\":\"x\",\"y\":[3.19950386231294],\"yaxis\":\"y\",\"type\":\"scatter\"},{\"hovertemplate\":\"country=Peru<br>Tot\\u00a0Cases/1M pop=%{x}<br>gdp 2019=%{y}<extra></extra>\",\"legendgroup\":\"Peru\",\"marker\":{\"color\":\"#ab63fa\",\"symbol\":\"circle\"},\"mode\":\"markers\",\"name\":\"Peru\",\"orientation\":\"v\",\"showlegend\":true,\"x\":[129414.0],\"xaxis\":\"x\",\"y\":[2.2039747486556],\"yaxis\":\"y\",\"type\":\"scatter\"},{\"hovertemplate\":\"country=Trinidad and Tobago<br>Tot\\u00a0Cases/1M pop=%{x}<br>gdp 2019=%{y}<extra></extra>\",\"legendgroup\":\"Trinidad and Tobago\",\"marker\":{\"color\":\"#FFA15A\",\"symbol\":\"circle\"},\"mode\":\"markers\",\"name\":\"Trinidad and Tobago\",\"orientation\":\"v\",\"showlegend\":true,\"x\":[131900.0],\"xaxis\":\"x\",\"y\":[-1.24642733552926],\"yaxis\":\"y\",\"type\":\"scatter\"},{\"hovertemplate\":\"country=Botswana<br>Tot\\u00a0Cases/1M pop=%{x}<br>gdp 2019=%{y}<extra></extra>\",\"legendgroup\":\"Botswana\",\"marker\":{\"color\":\"#19d3f3\",\"symbol\":\"circle\"},\"mode\":\"markers\",\"name\":\"Botswana\",\"orientation\":\"v\",\"showlegend\":true,\"x\":[133871.0],\"xaxis\":\"x\",\"y\":[2.99273763533627],\"yaxis\":\"y\",\"type\":\"scatter\"},{\"hovertemplate\":\"country=Suriname<br>Tot\\u00a0Cases/1M pop=%{x}<br>gdp 2019=%{y}<extra></extra>\",\"legendgroup\":\"Suriname\",\"marker\":{\"color\":\"#FF6692\",\"symbol\":\"circle\"},\"mode\":\"markers\",\"name\":\"Suriname\",\"orientation\":\"v\",\"showlegend\":true,\"x\":[136690.0],\"xaxis\":\"x\",\"y\":[1.09846777827852],\"yaxis\":\"y\",\"type\":\"scatter\"},{\"hovertemplate\":\"country=Armenia<br>Tot\\u00a0Cases/1M pop=%{x}<br>gdp 2019=%{y}<extra></extra>\",\"legendgroup\":\"Armenia\",\"marker\":{\"color\":\"#B6E880\",\"symbol\":\"circle\"},\"mode\":\"markers\",\"name\":\"Armenia\",\"orientation\":\"v\",\"showlegend\":true,\"x\":[150011.0],\"xaxis\":\"x\",\"y\":[7.59999999853918],\"yaxis\":\"y\",\"type\":\"scatter\"},{\"hovertemplate\":\"country=Malaysia<br>Tot\\u00a0Cases/1M pop=%{x}<br>gdp 2019=%{y}<extra></extra>\",\"legendgroup\":\"Malaysia\",\"marker\":{\"color\":\"#FF97FF\",\"symbol\":\"circle\"},\"mode\":\"markers\",\"name\":\"Malaysia\",\"orientation\":\"v\",\"showlegend\":true,\"x\":[151033.0],\"xaxis\":\"x\",\"y\":[4.43947128759625],\"yaxis\":\"y\",\"type\":\"scatter\"},{\"hovertemplate\":\"country=Kuwait<br>Tot\\u00a0Cases/1M pop=%{x}<br>gdp 2019=%{y}<extra></extra>\",\"legendgroup\":\"Kuwait\",\"marker\":{\"color\":\"#FECB52\",\"symbol\":\"circle\"},\"mode\":\"markers\",\"name\":\"Kuwait\",\"orientation\":\"v\",\"showlegend\":true,\"x\":[151301.0],\"xaxis\":\"x\",\"y\":[0.427463940207701],\"yaxis\":\"y\",\"type\":\"scatter\"},{\"hovertemplate\":\"country=Qatar<br>Tot\\u00a0Cases/1M pop=%{x}<br>gdp 2019=%{y}<extra></extra>\",\"legendgroup\":\"Qatar\",\"marker\":{\"color\":\"#636efa\",\"symbol\":\"circle\"},\"mode\":\"markers\",\"name\":\"Qatar\",\"orientation\":\"v\",\"showlegend\":true,\"x\":[162481.0],\"xaxis\":\"x\",\"y\":[0.688240959581606],\"yaxis\":\"y\",\"type\":\"scatter\"},{\"hovertemplate\":\"country=Brazil<br>Tot\\u00a0Cases/1M pop=%{x}<br>gdp 2019=%{y}<extra></extra>\",\"legendgroup\":\"Brazil\",\"marker\":{\"color\":\"#EF553B\",\"symbol\":\"circle\"},\"mode\":\"markers\",\"name\":\"Brazil\",\"orientation\":\"v\",\"showlegend\":true,\"x\":[165382.0],\"xaxis\":\"x\",\"y\":[1.41115298506995],\"yaxis\":\"y\",\"type\":\"scatter\"},{\"hovertemplate\":\"country=North Macedonia<br>Tot\\u00a0Cases/1M pop=%{x}<br>gdp 2019=%{y}<extra></extra>\",\"legendgroup\":\"North Macedonia\",\"marker\":{\"color\":\"#00cc96\",\"symbol\":\"circle\"},\"mode\":\"markers\",\"name\":\"North Macedonia\",\"orientation\":\"v\",\"showlegend\":true,\"x\":[165794.0],\"xaxis\":\"x\",\"y\":[3.91041953840173],\"yaxis\":\"y\",\"type\":\"scatter\"},{\"hovertemplate\":\"country=Belize<br>Tot\\u00a0Cases/1M pop=%{x}<br>gdp 2019=%{y}<extra></extra>\",\"legendgroup\":\"Belize\",\"marker\":{\"color\":\"#ab63fa\",\"symbol\":\"circle\"},\"mode\":\"markers\",\"name\":\"Belize\",\"orientation\":\"v\",\"showlegend\":true,\"x\":[167682.0],\"xaxis\":\"x\",\"y\":[1.76279791284728],\"yaxis\":\"y\",\"type\":\"scatter\"},{\"hovertemplate\":\"country=Poland<br>Tot\\u00a0Cases/1M pop=%{x}<br>gdp 2019=%{y}<extra></extra>\",\"legendgroup\":\"Poland\",\"marker\":{\"color\":\"#FFA15A\",\"symbol\":\"circle\"},\"mode\":\"markers\",\"name\":\"Poland\",\"orientation\":\"v\",\"showlegend\":true,\"x\":[168461.0],\"xaxis\":\"x\",\"y\":[4.74495015589534],\"yaxis\":\"y\",\"type\":\"scatter\"},{\"hovertemplate\":\"country=Jordan<br>Tot\\u00a0Cases/1M pop=%{x}<br>gdp 2019=%{y}<extra></extra>\",\"legendgroup\":\"Jordan\",\"marker\":{\"color\":\"#19d3f3\",\"symbol\":\"circle\"},\"mode\":\"markers\",\"name\":\"Jordan\",\"orientation\":\"v\",\"showlegend\":true,\"x\":[169597.0],\"xaxis\":\"x\",\"y\":[1.95546635784412],\"yaxis\":\"y\",\"type\":\"scatter\"},{\"hovertemplate\":\"country=Grenada<br>Tot\\u00a0Cases/1M pop=%{x}<br>gdp 2019=%{y}<extra></extra>\",\"legendgroup\":\"Grenada\",\"marker\":{\"color\":\"#FF6692\",\"symbol\":\"circle\"},\"mode\":\"markers\",\"name\":\"Grenada\",\"orientation\":\"v\",\"showlegend\":true,\"x\":[172840.0],\"xaxis\":\"x\",\"y\":[0.735582700454373],\"yaxis\":\"y\",\"type\":\"scatter\"},{\"hovertemplate\":\"country=Romania<br>Tot\\u00a0Cases/1M pop=%{x}<br>gdp 2019=%{y}<extra></extra>\",\"legendgroup\":\"Romania\",\"marker\":{\"color\":\"#B6E880\",\"symbol\":\"circle\"},\"mode\":\"markers\",\"name\":\"Romania\",\"orientation\":\"v\",\"showlegend\":true,\"x\":[173486.0],\"xaxis\":\"x\",\"y\":[4.18826034117856],\"yaxis\":\"y\",\"type\":\"scatter\"},{\"hovertemplate\":\"country=Lebanon<br>Tot\\u00a0Cases/1M pop=%{x}<br>gdp 2019=%{y}<extra></extra>\",\"legendgroup\":\"Lebanon\",\"marker\":{\"color\":\"#FF97FF\",\"symbol\":\"circle\"},\"mode\":\"markers\",\"name\":\"Lebanon\",\"orientation\":\"v\",\"showlegend\":true,\"x\":[182673.0],\"xaxis\":\"x\",\"y\":[-7.15724706998392],\"yaxis\":\"y\",\"type\":\"scatter\"},{\"hovertemplate\":\"country=Bulgaria<br>Tot\\u00a0Cases/1M pop=%{x}<br>gdp 2019=%{y}<extra></extra>\",\"legendgroup\":\"Bulgaria\",\"marker\":{\"color\":\"#FECB52\",\"symbol\":\"circle\"},\"mode\":\"markers\",\"name\":\"Bulgaria\",\"orientation\":\"v\",\"showlegend\":true,\"x\":[188311.0],\"xaxis\":\"x\",\"y\":[4.03759208211947],\"yaxis\":\"y\",\"type\":\"scatter\"},{\"hovertemplate\":\"country=Turkey<br>Tot\\u00a0Cases/1M pop=%{x}<br>gdp 2019=%{y}<extra></extra>\",\"legendgroup\":\"Turkey\",\"marker\":{\"color\":\"#636efa\",\"symbol\":\"circle\"},\"mode\":\"markers\",\"name\":\"Turkey\",\"orientation\":\"v\",\"showlegend\":true,\"x\":[199186.0],\"xaxis\":\"x\",\"y\":[0.889585160591679],\"yaxis\":\"y\",\"type\":\"scatter\"},{\"hovertemplate\":\"country=Japan<br>Tot\\u00a0Cases/1M pop=%{x}<br>gdp 2019=%{y}<extra></extra>\",\"legendgroup\":\"Japan\",\"marker\":{\"color\":\"#EF553B\",\"symbol\":\"circle\"},\"mode\":\"markers\",\"name\":\"Japan\",\"orientation\":\"v\",\"showlegend\":true,\"x\":[208084.0],\"xaxis\":\"x\",\"y\":[0.270304645083556],\"yaxis\":\"y\",\"type\":\"scatter\"},{\"hovertemplate\":\"country=Argentina<br>Tot\\u00a0Cases/1M pop=%{x}<br>gdp 2019=%{y}<extra></extra>\",\"legendgroup\":\"Argentina\",\"marker\":{\"color\":\"#00cc96\",\"symbol\":\"circle\"},\"mode\":\"markers\",\"name\":\"Argentina\",\"orientation\":\"v\",\"showlegend\":true,\"x\":[212278.0],\"xaxis\":\"x\",\"y\":[-2.0259342366392],\"yaxis\":\"y\",\"type\":\"scatter\"},{\"hovertemplate\":\"country=Dominica<br>Tot\\u00a0Cases/1M pop=%{x}<br>gdp 2019=%{y}<extra></extra>\",\"legendgroup\":\"Dominica\",\"marker\":{\"color\":\"#ab63fa\",\"symbol\":\"circle\"},\"mode\":\"markers\",\"name\":\"Dominica\",\"orientation\":\"v\",\"showlegend\":true,\"x\":[217848.0],\"xaxis\":\"x\",\"y\":[7.57139159692866],\"yaxis\":\"y\",\"type\":\"scatter\"},{\"hovertemplate\":\"country=Costa Rica<br>Tot\\u00a0Cases/1M pop=%{x}<br>gdp 2019=%{y}<extra></extra>\",\"legendgroup\":\"Costa Rica\",\"marker\":{\"color\":\"#FFA15A\",\"symbol\":\"circle\"},\"mode\":\"markers\",\"name\":\"Costa Rica\",\"orientation\":\"v\",\"showlegend\":true,\"x\":[221697.0],\"xaxis\":\"x\",\"y\":[2.25631507916432],\"yaxis\":\"y\",\"type\":\"scatter\"},{\"hovertemplate\":\"country=Hungary<br>Tot\\u00a0Cases/1M pop=%{x}<br>gdp 2019=%{y}<extra></extra>\",\"legendgroup\":\"Hungary\",\"marker\":{\"color\":\"#19d3f3\",\"symbol\":\"circle\"},\"mode\":\"markers\",\"name\":\"Hungary\",\"orientation\":\"v\",\"showlegend\":true,\"x\":[226004.0],\"xaxis\":\"x\",\"y\":[4.55406307213036],\"yaxis\":\"y\",\"type\":\"scatter\"},{\"hovertemplate\":\"country=Panama<br>Tot\\u00a0Cases/1M pop=%{x}<br>gdp 2019=%{y}<extra></extra>\",\"legendgroup\":\"Panama\",\"marker\":{\"color\":\"#FF6692\",\"symbol\":\"circle\"},\"mode\":\"markers\",\"name\":\"Panama\",\"orientation\":\"v\",\"showlegend\":true,\"x\":[226953.0],\"xaxis\":\"x\",\"y\":[2.97971546082071],\"yaxis\":\"y\",\"type\":\"scatter\"},{\"hovertemplate\":\"country=Tuvalu<br>Tot\\u00a0Cases/1M pop=%{x}<br>gdp 2019=%{y}<extra></extra>\",\"legendgroup\":\"Tuvalu\",\"marker\":{\"color\":\"#B6E880\",\"symbol\":\"circle\"},\"mode\":\"markers\",\"name\":\"Tuvalu\",\"orientation\":\"v\",\"showlegend\":true,\"x\":[232471.0],\"xaxis\":\"x\",\"y\":[9.75609756097562],\"yaxis\":\"y\",\"type\":\"scatter\"},{\"hovertemplate\":\"country=Finland<br>Tot\\u00a0Cases/1M pop=%{x}<br>gdp 2019=%{y}<extra></extra>\",\"legendgroup\":\"Finland\",\"marker\":{\"color\":\"#FF97FF\",\"symbol\":\"circle\"},\"mode\":\"markers\",\"name\":\"Finland\",\"orientation\":\"v\",\"showlegend\":true,\"x\":[255251.0],\"xaxis\":\"x\",\"y\":[1.22075414302529],\"yaxis\":\"y\",\"type\":\"scatter\"},{\"hovertemplate\":\"country=Chile<br>Tot\\u00a0Cases/1M pop=%{x}<br>gdp 2019=%{y}<extra></extra>\",\"legendgroup\":\"Chile\",\"marker\":{\"color\":\"#FECB52\",\"symbol\":\"circle\"},\"mode\":\"markers\",\"name\":\"Chile\",\"orientation\":\"v\",\"showlegend\":true,\"x\":[257720.0],\"xaxis\":\"x\",\"y\":[0.942005306544473],\"yaxis\":\"y\",\"type\":\"scatter\"},{\"hovertemplate\":\"country=Sweden<br>Tot\\u00a0Cases/1M pop=%{x}<br>gdp 2019=%{y}<extra></extra>\",\"legendgroup\":\"Sweden\",\"marker\":{\"color\":\"#636efa\",\"symbol\":\"circle\"},\"mode\":\"markers\",\"name\":\"Sweden\",\"orientation\":\"v\",\"showlegend\":true,\"x\":[258379.0],\"xaxis\":\"x\",\"y\":[1.98619587380391],\"yaxis\":\"y\",\"type\":\"scatter\"},{\"hovertemplate\":\"country=Malta<br>Tot\\u00a0Cases/1M pop=%{x}<br>gdp 2019=%{y}<extra></extra>\",\"legendgroup\":\"Malta\",\"marker\":{\"color\":\"#EF553B\",\"symbol\":\"circle\"},\"mode\":\"markers\",\"name\":\"Malta\",\"orientation\":\"v\",\"showlegend\":true,\"x\":[261199.0],\"xaxis\":\"x\",\"y\":[5.53956633683224],\"yaxis\":\"y\",\"type\":\"scatter\"},{\"hovertemplate\":\"country=Norway<br>Tot\\u00a0Cases/1M pop=%{x}<br>gdp 2019=%{y}<extra></extra>\",\"legendgroup\":\"Norway\",\"marker\":{\"color\":\"#00cc96\",\"symbol\":\"circle\"},\"mode\":\"markers\",\"name\":\"Norway\",\"orientation\":\"v\",\"showlegend\":true,\"x\":[266873.0],\"xaxis\":\"x\",\"y\":[0.745798219243483],\"yaxis\":\"y\",\"type\":\"scatter\"},{\"hovertemplate\":\"country=Serbia<br>Tot\\u00a0Cases/1M pop=%{x}<br>gdp 2019=%{y}<extra></extra>\",\"legendgroup\":\"Serbia\",\"marker\":{\"color\":\"#ab63fa\",\"symbol\":\"circle\"},\"mode\":\"markers\",\"name\":\"Serbia\",\"orientation\":\"v\",\"showlegend\":true,\"x\":[280903.0],\"xaxis\":\"x\",\"y\":[4.33173490608283],\"yaxis\":\"y\",\"type\":\"scatter\"},{\"hovertemplate\":\"country=Uruguay<br>Tot\\u00a0Cases/1M pop=%{x}<br>gdp 2019=%{y}<extra></extra>\",\"legendgroup\":\"Uruguay\",\"marker\":{\"color\":\"#FFA15A\",\"symbol\":\"circle\"},\"mode\":\"markers\",\"name\":\"Uruguay\",\"orientation\":\"v\",\"showlegend\":true,\"x\":[284725.0],\"xaxis\":\"x\",\"y\":[0.350447153086122],\"yaxis\":\"y\",\"type\":\"scatter\"},{\"hovertemplate\":\"country=Spain<br>Tot\\u00a0Cases/1M pop=%{x}<br>gdp 2019=%{y}<extra></extra>\",\"legendgroup\":\"Spain\",\"marker\":{\"color\":\"#19d3f3\",\"symbol\":\"circle\"},\"mode\":\"markers\",\"name\":\"Spain\",\"orientation\":\"v\",\"showlegend\":true,\"x\":[291800.0],\"xaxis\":\"x\",\"y\":[2.08519142117105],\"yaxis\":\"y\",\"type\":\"scatter\"},{\"hovertemplate\":\"country=Mongolia<br>Tot\\u00a0Cases/1M pop=%{x}<br>gdp 2019=%{y}<extra></extra>\",\"legendgroup\":\"Mongolia\",\"marker\":{\"color\":\"#FF6692\",\"symbol\":\"circle\"},\"mode\":\"markers\",\"name\":\"Mongolia\",\"orientation\":\"v\",\"showlegend\":true,\"x\":[294249.0],\"xaxis\":\"x\",\"y\":[5.60224421870959],\"yaxis\":\"y\",\"type\":\"scatter\"},{\"hovertemplate\":\"country=USA<br>Tot\\u00a0Cases/1M pop=%{x}<br>gdp 2019=%{y}<extra></extra>\",\"legendgroup\":\"USA\",\"marker\":{\"color\":\"#B6E880\",\"symbol\":\"circle\"},\"mode\":\"markers\",\"name\":\"USA\",\"orientation\":\"v\",\"showlegend\":true,\"x\":[302728.0],\"xaxis\":\"x\",\"y\":[2.16117651518969],\"yaxis\":\"y\",\"type\":\"scatter\"},{\"hovertemplate\":\"country=Croatia<br>Tot\\u00a0Cases/1M pop=%{x}<br>gdp 2019=%{y}<extra></extra>\",\"legendgroup\":\"Croatia\",\"marker\":{\"color\":\"#FF97FF\",\"symbol\":\"circle\"},\"mode\":\"markers\",\"name\":\"Croatia\",\"orientation\":\"v\",\"showlegend\":true,\"x\":[309685.0],\"xaxis\":\"x\",\"y\":[3.48194560339674],\"yaxis\":\"y\",\"type\":\"scatter\"},{\"hovertemplate\":\"country=Ireland<br>Tot\\u00a0Cases/1M pop=%{x}<br>gdp 2019=%{y}<extra></extra>\",\"legendgroup\":\"Ireland\",\"marker\":{\"color\":\"#FECB52\",\"symbol\":\"circle\"},\"mode\":\"markers\",\"name\":\"Ireland\",\"orientation\":\"v\",\"showlegend\":true,\"x\":[334757.0],\"xaxis\":\"x\",\"y\":[4.91700697830244],\"yaxis\":\"y\",\"type\":\"scatter\"},{\"hovertemplate\":\"country=Maldives<br>Tot\\u00a0Cases/1M pop=%{x}<br>gdp 2019=%{y}<extra></extra>\",\"legendgroup\":\"Maldives\",\"marker\":{\"color\":\"#636efa\",\"symbol\":\"circle\"},\"mode\":\"markers\",\"name\":\"Maldives\",\"orientation\":\"v\",\"showlegend\":true,\"x\":[343137.0],\"xaxis\":\"x\",\"y\":[6.88368884556108],\"yaxis\":\"y\",\"type\":\"scatter\"},{\"hovertemplate\":\"country=Barbados<br>Tot\\u00a0Cases/1M pop=%{x}<br>gdp 2019=%{y}<extra></extra>\",\"legendgroup\":\"Barbados\",\"marker\":{\"color\":\"#EF553B\",\"symbol\":\"circle\"},\"mode\":\"markers\",\"name\":\"Barbados\",\"orientation\":\"v\",\"showlegend\":true,\"x\":[362527.0],\"xaxis\":\"x\",\"y\":[-0.0961355529131964],\"yaxis\":\"y\",\"type\":\"scatter\"},{\"hovertemplate\":\"country=Singapore<br>Tot\\u00a0Cases/1M pop=%{x}<br>gdp 2019=%{y}<extra></extra>\",\"legendgroup\":\"Singapore\",\"marker\":{\"color\":\"#00cc96\",\"symbol\":\"circle\"},\"mode\":\"markers\",\"name\":\"Singapore\",\"orientation\":\"v\",\"showlegend\":true,\"x\":[367085.0],\"xaxis\":\"x\",\"y\":[1.34521748573569],\"yaxis\":\"y\",\"type\":\"scatter\"},{\"hovertemplate\":\"country=Bahrain<br>Tot\\u00a0Cases/1M pop=%{x}<br>gdp 2019=%{y}<extra></extra>\",\"legendgroup\":\"Bahrain\",\"marker\":{\"color\":\"#ab63fa\",\"symbol\":\"circle\"},\"mode\":\"markers\",\"name\":\"Bahrain\",\"orientation\":\"v\",\"showlegend\":true,\"x\":[390957.0],\"xaxis\":\"x\",\"y\":[2.14137678356339],\"yaxis\":\"y\",\"type\":\"scatter\"},{\"hovertemplate\":\"country=Belgium<br>Tot\\u00a0Cases/1M pop=%{x}<br>gdp 2019=%{y}<extra></extra>\",\"legendgroup\":\"Belgium\",\"marker\":{\"color\":\"#FFA15A\",\"symbol\":\"circle\"},\"mode\":\"markers\",\"name\":\"Belgium\",\"orientation\":\"v\",\"showlegend\":true,\"x\":[398349.0],\"xaxis\":\"x\",\"y\":[2.14955968072559],\"yaxis\":\"y\",\"type\":\"scatter\"},{\"hovertemplate\":\"country=Italy<br>Tot\\u00a0Cases/1M pop=%{x}<br>gdp 2019=%{y}<extra></extra>\",\"legendgroup\":\"Italy\",\"marker\":{\"color\":\"#19d3f3\",\"symbol\":\"circle\"},\"mode\":\"markers\",\"name\":\"Italy\",\"orientation\":\"v\",\"showlegend\":true,\"x\":[410028.0],\"xaxis\":\"x\",\"y\":[0.410278293983012],\"yaxis\":\"y\",\"type\":\"scatter\"},{\"hovertemplate\":\"country=New Zealand<br>Tot\\u00a0Cases/1M pop=%{x}<br>gdp 2019=%{y}<extra></extra>\",\"legendgroup\":\"New Zealand\",\"marker\":{\"color\":\"#FF6692\",\"symbol\":\"circle\"},\"mode\":\"markers\",\"name\":\"New Zealand\",\"orientation\":\"v\",\"showlegend\":true,\"x\":[412332.0],\"xaxis\":\"x\",\"y\":[1.63393261347822],\"yaxis\":\"y\",\"type\":\"scatter\"},{\"hovertemplate\":\"country=Australia<br>Tot\\u00a0Cases/1M pop=%{x}<br>gdp 2019=%{y}<extra></extra>\",\"legendgroup\":\"Australia\",\"marker\":{\"color\":\"#B6E880\",\"symbol\":\"circle\"},\"mode\":\"markers\",\"name\":\"Australia\",\"orientation\":\"v\",\"showlegend\":true,\"x\":[416686.0],\"xaxis\":\"x\",\"y\":[2.11314942462376],\"yaxis\":\"y\",\"type\":\"scatter\"},{\"hovertemplate\":\"country=Nauru<br>Tot\\u00a0Cases/1M pop=%{x}<br>gdp 2019=%{y}<extra></extra>\",\"legendgroup\":\"Nauru\",\"marker\":{\"color\":\"#FF97FF\",\"symbol\":\"circle\"},\"mode\":\"markers\",\"name\":\"Nauru\",\"orientation\":\"v\",\"showlegend\":true,\"x\":[423828.0],\"xaxis\":\"x\",\"y\":[0.0],\"yaxis\":\"y\",\"type\":\"scatter\"},{\"hovertemplate\":\"country=Germany<br>Tot\\u00a0Cases/1M pop=%{x}<br>gdp 2019=%{y}<extra></extra>\",\"legendgroup\":\"Germany\",\"marker\":{\"color\":\"#FECB52\",\"symbol\":\"circle\"},\"mode\":\"markers\",\"name\":\"Germany\",\"orientation\":\"v\",\"showlegend\":true,\"x\":[438214.0],\"xaxis\":\"x\",\"y\":[1.05550824713283],\"yaxis\":\"y\",\"type\":\"scatter\"},{\"hovertemplate\":\"country=Montenegro<br>Tot\\u00a0Cases/1M pop=%{x}<br>gdp 2019=%{y}<extra></extra>\",\"legendgroup\":\"Montenegro\",\"marker\":{\"color\":\"#636efa\",\"symbol\":\"circle\"},\"mode\":\"markers\",\"name\":\"Montenegro\",\"orientation\":\"v\",\"showlegend\":true,\"x\":[452483.0],\"xaxis\":\"x\",\"y\":[4.06294499167197],\"yaxis\":\"y\",\"type\":\"scatter\"},{\"hovertemplate\":\"country=Estonia<br>Tot\\u00a0Cases/1M pop=%{x}<br>gdp 2019=%{y}<extra></extra>\",\"legendgroup\":\"Estonia\",\"marker\":{\"color\":\"#EF553B\",\"symbol\":\"circle\"},\"mode\":\"markers\",\"name\":\"Estonia\",\"orientation\":\"v\",\"showlegend\":true,\"x\":[461279.0],\"xaxis\":\"x\",\"y\":[4.09634264397782],\"yaxis\":\"y\",\"type\":\"scatter\"},{\"hovertemplate\":\"country=Luxembourg<br>Tot\\u00a0Cases/1M pop=%{x}<br>gdp 2019=%{y}<extra></extra>\",\"legendgroup\":\"Luxembourg\",\"marker\":{\"color\":\"#00cc96\",\"symbol\":\"circle\"},\"mode\":\"markers\",\"name\":\"Luxembourg\",\"orientation\":\"v\",\"showlegend\":true,\"x\":[463528.0],\"xaxis\":\"x\",\"y\":[3.28380675586517],\"yaxis\":\"y\",\"type\":\"scatter\"},{\"hovertemplate\":\"country=Lithuania<br>Tot\\u00a0Cases/1M pop=%{x}<br>gdp 2019=%{y}<extra></extra>\",\"legendgroup\":\"Lithuania\",\"marker\":{\"color\":\"#ab63fa\",\"symbol\":\"circle\"},\"mode\":\"markers\",\"name\":\"Lithuania\",\"orientation\":\"v\",\"showlegend\":true,\"x\":[481129.0],\"xaxis\":\"x\",\"y\":[4.57377173669815],\"yaxis\":\"y\",\"type\":\"scatter\"},{\"hovertemplate\":\"country=Switzerland<br>Tot\\u00a0Cases/1M pop=%{x}<br>gdp 2019=%{y}<extra></extra>\",\"legendgroup\":\"Switzerland\",\"marker\":{\"color\":\"#FFA15A\",\"symbol\":\"circle\"},\"mode\":\"markers\",\"name\":\"Switzerland\",\"orientation\":\"v\",\"showlegend\":true,\"x\":[494152.0],\"xaxis\":\"x\",\"y\":[1.21099220711962],\"yaxis\":\"y\",\"type\":\"scatter\"},{\"hovertemplate\":\"country=Netherlands<br>Tot\\u00a0Cases/1M pop=%{x}<br>gdp 2019=%{y}<extra></extra>\",\"legendgroup\":\"Netherlands\",\"marker\":{\"color\":\"#19d3f3\",\"symbol\":\"circle\"},\"mode\":\"markers\",\"name\":\"Netherlands\",\"orientation\":\"v\",\"showlegend\":true,\"x\":[496780.0],\"xaxis\":\"x\",\"y\":[1.95558841574046],\"yaxis\":\"y\",\"type\":\"scatter\"},{\"hovertemplate\":\"country=Seychelles<br>Tot\\u00a0Cases/1M pop=%{x}<br>gdp 2019=%{y}<extra></extra>\",\"legendgroup\":\"Seychelles\",\"marker\":{\"color\":\"#FF6692\",\"symbol\":\"circle\"},\"mode\":\"markers\",\"name\":\"Seychelles\",\"orientation\":\"v\",\"showlegend\":true,\"x\":[503570.0],\"xaxis\":\"x\",\"y\":[1.1910057381789],\"yaxis\":\"y\",\"type\":\"scatter\"},{\"hovertemplate\":\"country=Israel<br>Tot\\u00a0Cases/1M pop=%{x}<br>gdp 2019=%{y}<extra></extra>\",\"legendgroup\":\"Israel\",\"marker\":{\"color\":\"#B6E880\",\"symbol\":\"circle\"},\"mode\":\"markers\",\"name\":\"Israel\",\"orientation\":\"v\",\"showlegend\":true,\"x\":[508087.0],\"xaxis\":\"x\",\"y\":[3.77358980957163],\"yaxis\":\"y\",\"type\":\"scatter\"},{\"hovertemplate\":\"country=Latvia<br>Tot\\u00a0Cases/1M pop=%{x}<br>gdp 2019=%{y}<extra></extra>\",\"legendgroup\":\"Latvia\",\"marker\":{\"color\":\"#FF97FF\",\"symbol\":\"circle\"},\"mode\":\"markers\",\"name\":\"Latvia\",\"orientation\":\"v\",\"showlegend\":true,\"x\":[523857.0],\"xaxis\":\"x\",\"y\":[2.48432635462976],\"yaxis\":\"y\",\"type\":\"scatter\"},{\"hovertemplate\":\"country=Greece<br>Tot\\u00a0Cases/1M pop=%{x}<br>gdp 2019=%{y}<extra></extra>\",\"legendgroup\":\"Greece\",\"marker\":{\"color\":\"#FECB52\",\"symbol\":\"circle\"},\"mode\":\"markers\",\"name\":\"Greece\",\"orientation\":\"v\",\"showlegend\":true,\"x\":[528147.0],\"xaxis\":\"x\",\"y\":[1.80359525615141],\"yaxis\":\"y\",\"type\":\"scatter\"},{\"hovertemplate\":\"country=Denmark<br>Tot\\u00a0Cases/1M pop=%{x}<br>gdp 2019=%{y}<extra></extra>\",\"legendgroup\":\"Denmark\",\"marker\":{\"color\":\"#636efa\",\"symbol\":\"circle\"},\"mode\":\"markers\",\"name\":\"Denmark\",\"orientation\":\"v\",\"showlegend\":true,\"x\":[540655.0],\"xaxis\":\"x\",\"y\":[2.11466420842453],\"yaxis\":\"y\",\"type\":\"scatter\"},{\"hovertemplate\":\"country=Portugal<br>Tot\\u00a0Cases/1M pop=%{x}<br>gdp 2019=%{y}<extra></extra>\",\"legendgroup\":\"Portugal\",\"marker\":{\"color\":\"#EF553B\",\"symbol\":\"circle\"},\"mode\":\"markers\",\"name\":\"Portugal\",\"orientation\":\"v\",\"showlegend\":true,\"x\":[547255.0],\"xaxis\":\"x\",\"y\":[2.68275992118076],\"yaxis\":\"y\",\"type\":\"scatter\"},{\"hovertemplate\":\"country=France<br>Tot\\u00a0Cases/1M pop=%{x}<br>gdp 2019=%{y}<extra></extra>\",\"legendgroup\":\"France\",\"marker\":{\"color\":\"#00cc96\",\"symbol\":\"circle\"},\"mode\":\"markers\",\"name\":\"France\",\"orientation\":\"v\",\"showlegend\":true,\"x\":[587268.0],\"xaxis\":\"x\",\"y\":[1.84297181445896],\"yaxis\":\"y\",\"type\":\"scatter\"},{\"hovertemplate\":\"country=Iceland<br>Tot\\u00a0Cases/1M pop=%{x}<br>gdp 2019=%{y}<extra></extra>\",\"legendgroup\":\"Iceland\",\"marker\":{\"color\":\"#ab63fa\",\"symbol\":\"circle\"},\"mode\":\"markers\",\"name\":\"Iceland\",\"orientation\":\"v\",\"showlegend\":true,\"x\":[600777.0],\"xaxis\":\"x\",\"y\":[2.43482300037417],\"yaxis\":\"y\",\"type\":\"scatter\"},{\"hovertemplate\":\"country=Andorra<br>Tot\\u00a0Cases/1M pop=%{x}<br>gdp 2019=%{y}<extra></extra>\",\"legendgroup\":\"Andorra\",\"marker\":{\"color\":\"#FFA15A\",\"symbol\":\"circle\"},\"mode\":\"markers\",\"name\":\"Andorra\",\"orientation\":\"v\",\"showlegend\":true,\"x\":[612499.0],\"xaxis\":\"x\",\"y\":[2.01554763848308],\"yaxis\":\"y\",\"type\":\"scatter\"},{\"hovertemplate\":\"country=Slovenia<br>Tot\\u00a0Cases/1M pop=%{x}<br>gdp 2019=%{y}<extra></extra>\",\"legendgroup\":\"Slovenia\",\"marker\":{\"color\":\"#19d3f3\",\"symbol\":\"circle\"},\"mode\":\"markers\",\"name\":\"Slovenia\",\"orientation\":\"v\",\"showlegend\":true,\"x\":[614114.0],\"xaxis\":\"x\",\"y\":[3.25053133558204],\"yaxis\":\"y\",\"type\":\"scatter\"},{\"hovertemplate\":\"country=Austria<br>Tot\\u00a0Cases/1M pop=%{x}<br>gdp 2019=%{y}<extra></extra>\",\"legendgroup\":\"Austria\",\"marker\":{\"color\":\"#FF6692\",\"symbol\":\"circle\"},\"mode\":\"markers\",\"name\":\"Austria\",\"orientation\":\"v\",\"showlegend\":true,\"x\":[619116.0],\"xaxis\":\"x\",\"y\":[1.49121084953705],\"yaxis\":\"y\",\"type\":\"scatter\"},{\"hovertemplate\":\"country=Burkina Faso<br>Tot\\u00a0Cases/1M pop=%{x}<br>gdp 2019=%{y}<extra></extra>\",\"legendgroup\":\"Burkina Faso\",\"marker\":{\"color\":\"#B6E880\",\"symbol\":\"circle\"},\"mode\":\"markers\",\"name\":\"Burkina Faso\",\"orientation\":\"v\",\"showlegend\":true,\"x\":[null],\"xaxis\":\"x\",\"y\":[5.68811514943657],\"yaxis\":\"y\",\"type\":\"scatter\"},{\"hovertemplate\":\"country=Niger<br>Tot\\u00a0Cases/1M pop=%{x}<br>gdp 2019=%{y}<extra></extra>\",\"legendgroup\":\"Niger\",\"marker\":{\"color\":\"#FF97FF\",\"symbol\":\"circle\"},\"mode\":\"markers\",\"name\":\"Niger\",\"orientation\":\"v\",\"showlegend\":true,\"x\":[null],\"xaxis\":\"x\",\"y\":[5.94139686297071],\"yaxis\":\"y\",\"type\":\"scatter\"},{\"hovertemplate\":\"country=Sierra Leone<br>Tot\\u00a0Cases/1M pop=%{x}<br>gdp 2019=%{y}<extra></extra>\",\"legendgroup\":\"Sierra Leone\",\"marker\":{\"color\":\"#FECB52\",\"symbol\":\"circle\"},\"mode\":\"markers\",\"name\":\"Sierra Leone\",\"orientation\":\"v\",\"showlegend\":true,\"x\":[null],\"xaxis\":\"x\",\"y\":[5.25424120251536],\"yaxis\":\"y\",\"type\":\"scatter\"},{\"hovertemplate\":\"country=Chad<br>Tot\\u00a0Cases/1M pop=%{x}<br>gdp 2019=%{y}<extra></extra>\",\"legendgroup\":\"Chad\",\"marker\":{\"color\":\"#636efa\",\"symbol\":\"circle\"},\"mode\":\"markers\",\"name\":\"Chad\",\"orientation\":\"v\",\"showlegend\":true,\"x\":[null],\"xaxis\":\"x\",\"y\":[3.24718191743429],\"yaxis\":\"y\",\"type\":\"scatter\"},{\"hovertemplate\":\"country=China<br>Tot\\u00a0Cases/1M pop=%{x}<br>gdp 2019=%{y}<extra></extra>\",\"legendgroup\":\"China\",\"marker\":{\"color\":\"#EF553B\",\"symbol\":\"circle\"},\"mode\":\"markers\",\"name\":\"China\",\"orientation\":\"v\",\"showlegend\":true,\"x\":[null],\"xaxis\":\"x\",\"y\":[5.94971423273162],\"yaxis\":\"y\",\"type\":\"scatter\"}],                        {\"template\":{\"data\":{\"bar\":[{\"error_x\":{\"color\":\"#2a3f5f\"},\"error_y\":{\"color\":\"#2a3f5f\"},\"marker\":{\"line\":{\"color\":\"#E5ECF6\",\"width\":0.5},\"pattern\":{\"fillmode\":\"overlay\",\"size\":10,\"solidity\":0.2}},\"type\":\"bar\"}],\"barpolar\":[{\"marker\":{\"line\":{\"color\":\"#E5ECF6\",\"width\":0.5},\"pattern\":{\"fillmode\":\"overlay\",\"size\":10,\"solidity\":0.2}},\"type\":\"barpolar\"}],\"carpet\":[{\"aaxis\":{\"endlinecolor\":\"#2a3f5f\",\"gridcolor\":\"white\",\"linecolor\":\"white\",\"minorgridcolor\":\"white\",\"startlinecolor\":\"#2a3f5f\"},\"baxis\":{\"endlinecolor\":\"#2a3f5f\",\"gridcolor\":\"white\",\"linecolor\":\"white\",\"minorgridcolor\":\"white\",\"startlinecolor\":\"#2a3f5f\"},\"type\":\"carpet\"}],\"choropleth\":[{\"colorbar\":{\"outlinewidth\":0,\"ticks\":\"\"},\"type\":\"choropleth\"}],\"contour\":[{\"colorbar\":{\"outlinewidth\":0,\"ticks\":\"\"},\"colorscale\":[[0.0,\"#0d0887\"],[0.1111111111111111,\"#46039f\"],[0.2222222222222222,\"#7201a8\"],[0.3333333333333333,\"#9c179e\"],[0.4444444444444444,\"#bd3786\"],[0.5555555555555556,\"#d8576b\"],[0.6666666666666666,\"#ed7953\"],[0.7777777777777778,\"#fb9f3a\"],[0.8888888888888888,\"#fdca26\"],[1.0,\"#f0f921\"]],\"type\":\"contour\"}],\"contourcarpet\":[{\"colorbar\":{\"outlinewidth\":0,\"ticks\":\"\"},\"type\":\"contourcarpet\"}],\"heatmap\":[{\"colorbar\":{\"outlinewidth\":0,\"ticks\":\"\"},\"colorscale\":[[0.0,\"#0d0887\"],[0.1111111111111111,\"#46039f\"],[0.2222222222222222,\"#7201a8\"],[0.3333333333333333,\"#9c179e\"],[0.4444444444444444,\"#bd3786\"],[0.5555555555555556,\"#d8576b\"],[0.6666666666666666,\"#ed7953\"],[0.7777777777777778,\"#fb9f3a\"],[0.8888888888888888,\"#fdca26\"],[1.0,\"#f0f921\"]],\"type\":\"heatmap\"}],\"heatmapgl\":[{\"colorbar\":{\"outlinewidth\":0,\"ticks\":\"\"},\"colorscale\":[[0.0,\"#0d0887\"],[0.1111111111111111,\"#46039f\"],[0.2222222222222222,\"#7201a8\"],[0.3333333333333333,\"#9c179e\"],[0.4444444444444444,\"#bd3786\"],[0.5555555555555556,\"#d8576b\"],[0.6666666666666666,\"#ed7953\"],[0.7777777777777778,\"#fb9f3a\"],[0.8888888888888888,\"#fdca26\"],[1.0,\"#f0f921\"]],\"type\":\"heatmapgl\"}],\"histogram\":[{\"marker\":{\"pattern\":{\"fillmode\":\"overlay\",\"size\":10,\"solidity\":0.2}},\"type\":\"histogram\"}],\"histogram2d\":[{\"colorbar\":{\"outlinewidth\":0,\"ticks\":\"\"},\"colorscale\":[[0.0,\"#0d0887\"],[0.1111111111111111,\"#46039f\"],[0.2222222222222222,\"#7201a8\"],[0.3333333333333333,\"#9c179e\"],[0.4444444444444444,\"#bd3786\"],[0.5555555555555556,\"#d8576b\"],[0.6666666666666666,\"#ed7953\"],[0.7777777777777778,\"#fb9f3a\"],[0.8888888888888888,\"#fdca26\"],[1.0,\"#f0f921\"]],\"type\":\"histogram2d\"}],\"histogram2dcontour\":[{\"colorbar\":{\"outlinewidth\":0,\"ticks\":\"\"},\"colorscale\":[[0.0,\"#0d0887\"],[0.1111111111111111,\"#46039f\"],[0.2222222222222222,\"#7201a8\"],[0.3333333333333333,\"#9c179e\"],[0.4444444444444444,\"#bd3786\"],[0.5555555555555556,\"#d8576b\"],[0.6666666666666666,\"#ed7953\"],[0.7777777777777778,\"#fb9f3a\"],[0.8888888888888888,\"#fdca26\"],[1.0,\"#f0f921\"]],\"type\":\"histogram2dcontour\"}],\"mesh3d\":[{\"colorbar\":{\"outlinewidth\":0,\"ticks\":\"\"},\"type\":\"mesh3d\"}],\"parcoords\":[{\"line\":{\"colorbar\":{\"outlinewidth\":0,\"ticks\":\"\"}},\"type\":\"parcoords\"}],\"pie\":[{\"automargin\":true,\"type\":\"pie\"}],\"scatter\":[{\"marker\":{\"colorbar\":{\"outlinewidth\":0,\"ticks\":\"\"}},\"type\":\"scatter\"}],\"scatter3d\":[{\"line\":{\"colorbar\":{\"outlinewidth\":0,\"ticks\":\"\"}},\"marker\":{\"colorbar\":{\"outlinewidth\":0,\"ticks\":\"\"}},\"type\":\"scatter3d\"}],\"scattercarpet\":[{\"marker\":{\"colorbar\":{\"outlinewidth\":0,\"ticks\":\"\"}},\"type\":\"scattercarpet\"}],\"scattergeo\":[{\"marker\":{\"colorbar\":{\"outlinewidth\":0,\"ticks\":\"\"}},\"type\":\"scattergeo\"}],\"scattergl\":[{\"marker\":{\"colorbar\":{\"outlinewidth\":0,\"ticks\":\"\"}},\"type\":\"scattergl\"}],\"scattermapbox\":[{\"marker\":{\"colorbar\":{\"outlinewidth\":0,\"ticks\":\"\"}},\"type\":\"scattermapbox\"}],\"scatterpolar\":[{\"marker\":{\"colorbar\":{\"outlinewidth\":0,\"ticks\":\"\"}},\"type\":\"scatterpolar\"}],\"scatterpolargl\":[{\"marker\":{\"colorbar\":{\"outlinewidth\":0,\"ticks\":\"\"}},\"type\":\"scatterpolargl\"}],\"scatterternary\":[{\"marker\":{\"colorbar\":{\"outlinewidth\":0,\"ticks\":\"\"}},\"type\":\"scatterternary\"}],\"surface\":[{\"colorbar\":{\"outlinewidth\":0,\"ticks\":\"\"},\"colorscale\":[[0.0,\"#0d0887\"],[0.1111111111111111,\"#46039f\"],[0.2222222222222222,\"#7201a8\"],[0.3333333333333333,\"#9c179e\"],[0.4444444444444444,\"#bd3786\"],[0.5555555555555556,\"#d8576b\"],[0.6666666666666666,\"#ed7953\"],[0.7777777777777778,\"#fb9f3a\"],[0.8888888888888888,\"#fdca26\"],[1.0,\"#f0f921\"]],\"type\":\"surface\"}],\"table\":[{\"cells\":{\"fill\":{\"color\":\"#EBF0F8\"},\"line\":{\"color\":\"white\"}},\"header\":{\"fill\":{\"color\":\"#C8D4E3\"},\"line\":{\"color\":\"white\"}},\"type\":\"table\"}]},\"layout\":{\"annotationdefaults\":{\"arrowcolor\":\"#2a3f5f\",\"arrowhead\":0,\"arrowwidth\":1},\"autotypenumbers\":\"strict\",\"coloraxis\":{\"colorbar\":{\"outlinewidth\":0,\"ticks\":\"\"}},\"colorscale\":{\"diverging\":[[0,\"#8e0152\"],[0.1,\"#c51b7d\"],[0.2,\"#de77ae\"],[0.3,\"#f1b6da\"],[0.4,\"#fde0ef\"],[0.5,\"#f7f7f7\"],[0.6,\"#e6f5d0\"],[0.7,\"#b8e186\"],[0.8,\"#7fbc41\"],[0.9,\"#4d9221\"],[1,\"#276419\"]],\"sequential\":[[0.0,\"#0d0887\"],[0.1111111111111111,\"#46039f\"],[0.2222222222222222,\"#7201a8\"],[0.3333333333333333,\"#9c179e\"],[0.4444444444444444,\"#bd3786\"],[0.5555555555555556,\"#d8576b\"],[0.6666666666666666,\"#ed7953\"],[0.7777777777777778,\"#fb9f3a\"],[0.8888888888888888,\"#fdca26\"],[1.0,\"#f0f921\"]],\"sequentialminus\":[[0.0,\"#0d0887\"],[0.1111111111111111,\"#46039f\"],[0.2222222222222222,\"#7201a8\"],[0.3333333333333333,\"#9c179e\"],[0.4444444444444444,\"#bd3786\"],[0.5555555555555556,\"#d8576b\"],[0.6666666666666666,\"#ed7953\"],[0.7777777777777778,\"#fb9f3a\"],[0.8888888888888888,\"#fdca26\"],[1.0,\"#f0f921\"]]},\"colorway\":[\"#636efa\",\"#EF553B\",\"#00cc96\",\"#ab63fa\",\"#FFA15A\",\"#19d3f3\",\"#FF6692\",\"#B6E880\",\"#FF97FF\",\"#FECB52\"],\"font\":{\"color\":\"#2a3f5f\"},\"geo\":{\"bgcolor\":\"white\",\"lakecolor\":\"white\",\"landcolor\":\"#E5ECF6\",\"showlakes\":true,\"showland\":true,\"subunitcolor\":\"white\"},\"hoverlabel\":{\"align\":\"left\"},\"hovermode\":\"closest\",\"mapbox\":{\"style\":\"light\"},\"paper_bgcolor\":\"white\",\"plot_bgcolor\":\"#E5ECF6\",\"polar\":{\"angularaxis\":{\"gridcolor\":\"white\",\"linecolor\":\"white\",\"ticks\":\"\"},\"bgcolor\":\"#E5ECF6\",\"radialaxis\":{\"gridcolor\":\"white\",\"linecolor\":\"white\",\"ticks\":\"\"}},\"scene\":{\"xaxis\":{\"backgroundcolor\":\"#E5ECF6\",\"gridcolor\":\"white\",\"gridwidth\":2,\"linecolor\":\"white\",\"showbackground\":true,\"ticks\":\"\",\"zerolinecolor\":\"white\"},\"yaxis\":{\"backgroundcolor\":\"#E5ECF6\",\"gridcolor\":\"white\",\"gridwidth\":2,\"linecolor\":\"white\",\"showbackground\":true,\"ticks\":\"\",\"zerolinecolor\":\"white\"},\"zaxis\":{\"backgroundcolor\":\"#E5ECF6\",\"gridcolor\":\"white\",\"gridwidth\":2,\"linecolor\":\"white\",\"showbackground\":true,\"ticks\":\"\",\"zerolinecolor\":\"white\"}},\"shapedefaults\":{\"line\":{\"color\":\"#2a3f5f\"}},\"ternary\":{\"aaxis\":{\"gridcolor\":\"white\",\"linecolor\":\"white\",\"ticks\":\"\"},\"baxis\":{\"gridcolor\":\"white\",\"linecolor\":\"white\",\"ticks\":\"\"},\"bgcolor\":\"#E5ECF6\",\"caxis\":{\"gridcolor\":\"white\",\"linecolor\":\"white\",\"ticks\":\"\"}},\"title\":{\"x\":0.05},\"xaxis\":{\"automargin\":true,\"gridcolor\":\"white\",\"linecolor\":\"white\",\"ticks\":\"\",\"title\":{\"standoff\":15},\"zerolinecolor\":\"white\",\"zerolinewidth\":2},\"yaxis\":{\"automargin\":true,\"gridcolor\":\"white\",\"linecolor\":\"white\",\"ticks\":\"\",\"title\":{\"standoff\":15},\"zerolinecolor\":\"white\",\"zerolinewidth\":2}}},\"xaxis\":{\"anchor\":\"y\",\"domain\":[0.0,1.0],\"title\":{\"text\":\"Tot\\u00a0Cases/1M pop\"}},\"yaxis\":{\"anchor\":\"x\",\"domain\":[0.0,1.0],\"title\":{\"text\":\"gdp 2019\"}},\"legend\":{\"title\":{\"text\":\"country\"},\"tracegroupgap\":0},\"title\":{\"text\":\"Total Cases (Covid)/1M Population against GDP of 2019\"}},                        {\"responsive\": true}                    ).then(function(){\n",
              "                            \n",
              "var gd = document.getElementById('dd8097d1-1c00-413c-9bdc-02b47499ecaa');\n",
              "var x = new MutationObserver(function (mutations, observer) {{\n",
              "        var display = window.getComputedStyle(gd).display;\n",
              "        if (!display || display === 'none') {{\n",
              "            console.log([gd, 'removed!']);\n",
              "            Plotly.purge(gd);\n",
              "            observer.disconnect();\n",
              "        }}\n",
              "}});\n",
              "\n",
              "// Listen for the removal of the full notebook cells\n",
              "var notebookContainer = gd.closest('#notebook-container');\n",
              "if (notebookContainer) {{\n",
              "    x.observe(notebookContainer, {childList: true});\n",
              "}}\n",
              "\n",
              "// Listen for the clearing of the current output cell\n",
              "var outputEl = gd.closest('.output');\n",
              "if (outputEl) {{\n",
              "    x.observe(outputEl, {childList: true});\n",
              "}}\n",
              "\n",
              "                        })                };                            </script>        </div>\n",
              "</body>\n",
              "</html>"
            ]
          },
          "metadata": {}
        }
      ]
    },
    {
      "cell_type": "markdown",
      "source": [
        "Now, we again used the merge data from above to display a scatter plot of **Total Cases (Covid)/1M Population against GDP of 2020**. \n",
        "\n",
        "For plotting, we used `px.scatter()` which represent each data point as a marker point, whose location is given by the `x` and `y` columns. We sorted the merged data and set the axis of the plot as needed. We also set the `color` of the dots to the **country** which makes the comparison much simpler. After that we plotted the scatter plot using `fig.show()`."
      ],
      "metadata": {
        "id": "oZZLaiEXQ0nV"
      }
    },
    {
      "cell_type": "code",
      "source": [
        "fig = px.scatter(merged.sort_values(by=\"Tot\\xa0Cases/1M pop\", ascending = True), x=\"Tot\\xa0Cases/1M pop\", y=\"gdp 2020\", color='country', title='Total Cases (Covid)/1M Population against GDP of 2020')\n",
        "fig.show()"
      ],
      "metadata": {
        "colab": {
          "base_uri": "https://localhost:8080/",
          "height": 542
        },
        "id": "hFNO81grDqCf",
        "outputId": "9e396886-8ddb-4f0e-bd10-196d9bc55498"
      },
      "execution_count": 28,
      "outputs": [
        {
          "output_type": "display_data",
          "data": {
            "text/html": [
              "<html>\n",
              "<head><meta charset=\"utf-8\" /></head>\n",
              "<body>\n",
              "    <div>            <script src=\"https://cdnjs.cloudflare.com/ajax/libs/mathjax/2.7.5/MathJax.js?config=TeX-AMS-MML_SVG\"></script><script type=\"text/javascript\">if (window.MathJax) {MathJax.Hub.Config({SVG: {font: \"STIX-Web\"}});}</script>                <script type=\"text/javascript\">window.PlotlyConfig = {MathJaxConfig: 'local'};</script>\n",
              "        <script src=\"https://cdn.plot.ly/plotly-2.8.3.min.js\"></script>                <div id=\"3459797d-ce1f-4d74-9c2e-da87c428fef8\" class=\"plotly-graph-div\" style=\"height:525px; width:100%;\"></div>            <script type=\"text/javascript\">                                    window.PLOTLYENV=window.PLOTLYENV || {};                                    if (document.getElementById(\"3459797d-ce1f-4d74-9c2e-da87c428fef8\")) {                    Plotly.newPlot(                        \"3459797d-ce1f-4d74-9c2e-da87c428fef8\",                        [{\"hovertemplate\":\"country=Nigeria<br>Tot\\u00a0Cases/1M pop=%{x}<br>gdp 2020=%{y}<extra></extra>\",\"legendgroup\":\"Nigeria\",\"marker\":{\"color\":\"#636efa\",\"symbol\":\"circle\"},\"mode\":\"markers\",\"name\":\"Nigeria\",\"orientation\":\"v\",\"showlegend\":true,\"x\":[1229.0],\"xaxis\":\"x\",\"y\":[-1.79425308233591],\"yaxis\":\"y\",\"type\":\"scatter\"},{\"hovertemplate\":\"country=Sudan<br>Tot\\u00a0Cases/1M pop=%{x}<br>gdp 2020=%{y}<extra></extra>\",\"legendgroup\":\"Sudan\",\"marker\":{\"color\":\"#EF553B\",\"symbol\":\"circle\"},\"mode\":\"markers\",\"name\":\"Sudan\",\"orientation\":\"v\",\"showlegend\":true,\"x\":[1384.0],\"xaxis\":\"x\",\"y\":[-3.62980562615675],\"yaxis\":\"y\",\"type\":\"scatter\"},{\"hovertemplate\":\"country=Liberia<br>Tot\\u00a0Cases/1M pop=%{x}<br>gdp 2020=%{y}<extra></extra>\",\"legendgroup\":\"Liberia\",\"marker\":{\"color\":\"#00cc96\",\"symbol\":\"circle\"},\"mode\":\"markers\",\"name\":\"Liberia\",\"orientation\":\"v\",\"showlegend\":true,\"x\":[1515.0],\"xaxis\":\"x\",\"y\":[-2.98291628083938],\"yaxis\":\"y\",\"type\":\"scatter\"},{\"hovertemplate\":\"country=Mali<br>Tot\\u00a0Cases/1M pop=%{x}<br>gdp 2020=%{y}<extra></extra>\",\"legendgroup\":\"Mali\",\"marker\":{\"color\":\"#ab63fa\",\"symbol\":\"circle\"},\"mode\":\"markers\",\"name\":\"Mali\",\"orientation\":\"v\",\"showlegend\":true,\"x\":[1526.0],\"xaxis\":\"x\",\"y\":[-1.235450447077],\"yaxis\":\"y\",\"type\":\"scatter\"},{\"hovertemplate\":\"country=Tajikistan<br>Tot\\u00a0Cases/1M pop=%{x}<br>gdp 2020=%{y}<extra></extra>\",\"legendgroup\":\"Tajikistan\",\"marker\":{\"color\":\"#FFA15A\",\"symbol\":\"circle\"},\"mode\":\"markers\",\"name\":\"Tajikistan\",\"orientation\":\"v\",\"showlegend\":true,\"x\":[1786.0],\"xaxis\":\"x\",\"y\":[4.49999951669761],\"yaxis\":\"y\",\"type\":\"scatter\"},{\"hovertemplate\":\"country=Benin<br>Tot\\u00a0Cases/1M pop=%{x}<br>gdp 2020=%{y}<extra></extra>\",\"legendgroup\":\"Benin\",\"marker\":{\"color\":\"#19d3f3\",\"symbol\":\"circle\"},\"mode\":\"markers\",\"name\":\"Benin\",\"orientation\":\"v\",\"showlegend\":true,\"x\":[2189.0],\"xaxis\":\"x\",\"y\":[3.84879240030133],\"yaxis\":\"y\",\"type\":\"scatter\"},{\"hovertemplate\":\"country=Madagascar<br>Tot\\u00a0Cases/1M pop=%{x}<br>gdp 2020=%{y}<extra></extra>\",\"legendgroup\":\"Madagascar\",\"marker\":{\"color\":\"#FF6692\",\"symbol\":\"circle\"},\"mode\":\"markers\",\"name\":\"Madagascar\",\"orientation\":\"v\",\"showlegend\":true,\"x\":[2318.0],\"xaxis\":\"x\",\"y\":[-7.14061159103504],\"yaxis\":\"y\",\"type\":\"scatter\"},{\"hovertemplate\":\"country=Nicaragua<br>Tot\\u00a0Cases/1M pop=%{x}<br>gdp 2020=%{y}<extra></extra>\",\"legendgroup\":\"Nicaragua\",\"marker\":{\"color\":\"#B6E880\",\"symbol\":\"circle\"},\"mode\":\"markers\",\"name\":\"Nicaragua\",\"orientation\":\"v\",\"showlegend\":true,\"x\":[2728.0],\"xaxis\":\"x\",\"y\":[-1.97732939329578],\"yaxis\":\"y\",\"type\":\"scatter\"},{\"hovertemplate\":\"country=Guinea<br>Tot\\u00a0Cases/1M pop=%{x}<br>gdp 2020=%{y}<extra></extra>\",\"legendgroup\":\"Guinea\",\"marker\":{\"color\":\"#FF97FF\",\"symbol\":\"circle\"},\"mode\":\"markers\",\"name\":\"Guinea\",\"orientation\":\"v\",\"showlegend\":true,\"x\":[2752.0],\"xaxis\":\"x\",\"y\":[6.98855997080146],\"yaxis\":\"y\",\"type\":\"scatter\"},{\"hovertemplate\":\"country=Haiti<br>Tot\\u00a0Cases/1M pop=%{x}<br>gdp 2020=%{y}<extra></extra>\",\"legendgroup\":\"Haiti\",\"marker\":{\"color\":\"#FECB52\",\"symbol\":\"circle\"},\"mode\":\"markers\",\"name\":\"Haiti\",\"orientation\":\"v\",\"showlegend\":true,\"x\":[2900.0],\"xaxis\":\"x\",\"y\":[-3.34337261175989],\"yaxis\":\"y\",\"type\":\"scatter\"},{\"hovertemplate\":\"country=Angola<br>Tot\\u00a0Cases/1M pop=%{x}<br>gdp 2020=%{y}<extra></extra>\",\"legendgroup\":\"Angola\",\"marker\":{\"color\":\"#636efa\",\"symbol\":\"circle\"},\"mode\":\"markers\",\"name\":\"Angola\",\"orientation\":\"v\",\"showlegend\":true,\"x\":[2992.0],\"xaxis\":\"x\",\"y\":[-5.39998738958575],\"yaxis\":\"y\",\"type\":\"scatter\"},{\"hovertemplate\":\"country=Uganda<br>Tot\\u00a0Cases/1M pop=%{x}<br>gdp 2020=%{y}<extra></extra>\",\"legendgroup\":\"Uganda\",\"marker\":{\"color\":\"#EF553B\",\"symbol\":\"circle\"},\"mode\":\"markers\",\"name\":\"Uganda\",\"orientation\":\"v\",\"showlegend\":true,\"x\":[3506.0],\"xaxis\":\"x\",\"y\":[2.9513064215777],\"yaxis\":\"y\",\"type\":\"scatter\"},{\"hovertemplate\":\"country=Burundi<br>Tot\\u00a0Cases/1M pop=%{x}<br>gdp 2020=%{y}<extra></extra>\",\"legendgroup\":\"Burundi\",\"marker\":{\"color\":\"#00cc96\",\"symbol\":\"circle\"},\"mode\":\"markers\",\"name\":\"Burundi\",\"orientation\":\"v\",\"showlegend\":true,\"x\":[4041.0],\"xaxis\":\"x\",\"y\":[0.297577119233125],\"yaxis\":\"y\",\"type\":\"scatter\"},{\"hovertemplate\":\"country=Ethiopia<br>Tot\\u00a0Cases/1M pop=%{x}<br>gdp 2020=%{y}<extra></extra>\",\"legendgroup\":\"Ethiopia\",\"marker\":{\"color\":\"#ab63fa\",\"symbol\":\"circle\"},\"mode\":\"markers\",\"name\":\"Ethiopia\",\"orientation\":\"v\",\"showlegend\":true,\"x\":[4100.0],\"xaxis\":\"x\",\"y\":[6.05661779202561],\"yaxis\":\"y\",\"type\":\"scatter\"},{\"hovertemplate\":\"country=Guinea-Bissau<br>Tot\\u00a0Cases/1M pop=%{x}<br>gdp 2020=%{y}<extra></extra>\",\"legendgroup\":\"Guinea-Bissau\",\"marker\":{\"color\":\"#FFA15A\",\"symbol\":\"circle\"},\"mode\":\"markers\",\"name\":\"Guinea-Bissau\",\"orientation\":\"v\",\"showlegend\":true,\"x\":[4288.0],\"xaxis\":\"x\",\"y\":[-2.39999999921721],\"yaxis\":\"y\",\"type\":\"scatter\"},{\"hovertemplate\":\"country=Malawi<br>Tot\\u00a0Cases/1M pop=%{x}<br>gdp 2020=%{y}<extra></extra>\",\"legendgroup\":\"Malawi\",\"marker\":{\"color\":\"#19d3f3\",\"symbol\":\"circle\"},\"mode\":\"markers\",\"name\":\"Malawi\",\"orientation\":\"v\",\"showlegend\":true,\"x\":[4371.0],\"xaxis\":\"x\",\"y\":[0.799998330902724],\"yaxis\":\"y\",\"type\":\"scatter\"},{\"hovertemplate\":\"country=Cameroon<br>Tot\\u00a0Cases/1M pop=%{x}<br>gdp 2020=%{y}<extra></extra>\",\"legendgroup\":\"Cameroon\",\"marker\":{\"color\":\"#FF6692\",\"symbol\":\"circle\"},\"mode\":\"markers\",\"name\":\"Cameroon\",\"orientation\":\"v\",\"showlegend\":true,\"x\":[4442.0],\"xaxis\":\"x\",\"y\":[0.491914742161129],\"yaxis\":\"y\",\"type\":\"scatter\"},{\"hovertemplate\":\"country=Togo<br>Tot\\u00a0Cases/1M pop=%{x}<br>gdp 2020=%{y}<extra></extra>\",\"legendgroup\":\"Togo\",\"marker\":{\"color\":\"#B6E880\",\"symbol\":\"circle\"},\"mode\":\"markers\",\"name\":\"Togo\",\"orientation\":\"v\",\"showlegend\":true,\"x\":[4531.0],\"xaxis\":\"x\",\"y\":[1.75282496719069],\"yaxis\":\"y\",\"type\":\"scatter\"},{\"hovertemplate\":\"country=Papua New Guinea<br>Tot\\u00a0Cases/1M pop=%{x}<br>gdp 2020=%{y}<extra></extra>\",\"legendgroup\":\"Papua New Guinea\",\"marker\":{\"color\":\"#FF97FF\",\"symbol\":\"circle\"},\"mode\":\"markers\",\"name\":\"Papua New Guinea\",\"orientation\":\"v\",\"showlegend\":true,\"x\":[4996.0],\"xaxis\":\"x\",\"y\":[-3.50000000000009],\"yaxis\":\"y\",\"type\":\"scatter\"},{\"hovertemplate\":\"country=Senegal<br>Tot\\u00a0Cases/1M pop=%{x}<br>gdp 2020=%{y}<extra></extra>\",\"legendgroup\":\"Senegal\",\"marker\":{\"color\":\"#FECB52\",\"symbol\":\"circle\"},\"mode\":\"markers\",\"name\":\"Senegal\",\"orientation\":\"v\",\"showlegend\":true,\"x\":[5035.0],\"xaxis\":\"x\",\"y\":[1.49976342727345],\"yaxis\":\"y\",\"type\":\"scatter\"},{\"hovertemplate\":\"country=Afghanistan<br>Tot\\u00a0Cases/1M pop=%{x}<br>gdp 2020=%{y}<extra></extra>\",\"legendgroup\":\"Afghanistan\",\"marker\":{\"color\":\"#636efa\",\"symbol\":\"circle\"},\"mode\":\"markers\",\"name\":\"Afghanistan\",\"orientation\":\"v\",\"showlegend\":true,\"x\":[5072.0],\"xaxis\":\"x\",\"y\":[-2.35110067344623],\"yaxis\":\"y\",\"type\":\"scatter\"},{\"hovertemplate\":\"country=Ghana<br>Tot\\u00a0Cases/1M pop=%{x}<br>gdp 2020=%{y}<extra></extra>\",\"legendgroup\":\"Ghana\",\"marker\":{\"color\":\"#EF553B\",\"symbol\":\"circle\"},\"mode\":\"markers\",\"name\":\"Ghana\",\"orientation\":\"v\",\"showlegend\":true,\"x\":[5279.0],\"xaxis\":\"x\",\"y\":[0.414443457624131],\"yaxis\":\"y\",\"type\":\"scatter\"},{\"hovertemplate\":\"country=Algeria<br>Tot\\u00a0Cases/1M pop=%{x}<br>gdp 2020=%{y}<extra></extra>\",\"legendgroup\":\"Algeria\",\"marker\":{\"color\":\"#00cc96\",\"symbol\":\"circle\"},\"mode\":\"markers\",\"name\":\"Algeria\",\"orientation\":\"v\",\"showlegend\":true,\"x\":[5979.0],\"xaxis\":\"x\",\"y\":[-5.09999999999982],\"yaxis\":\"y\",\"type\":\"scatter\"},{\"hovertemplate\":\"country=Kenya<br>Tot\\u00a0Cases/1M pop=%{x}<br>gdp 2020=%{y}<extra></extra>\",\"legendgroup\":\"Kenya\",\"marker\":{\"color\":\"#ab63fa\",\"symbol\":\"circle\"},\"mode\":\"markers\",\"name\":\"Kenya\",\"orientation\":\"v\",\"showlegend\":true,\"x\":[6086.0],\"xaxis\":\"x\",\"y\":[-0.316182728955951],\"yaxis\":\"y\",\"type\":\"scatter\"},{\"hovertemplate\":\"country=Pakistan<br>Tot\\u00a0Cases/1M pop=%{x}<br>gdp 2020=%{y}<extra></extra>\",\"legendgroup\":\"Pakistan\",\"marker\":{\"color\":\"#FFA15A\",\"symbol\":\"circle\"},\"mode\":\"markers\",\"name\":\"Pakistan\",\"orientation\":\"v\",\"showlegend\":true,\"x\":[6865.0],\"xaxis\":\"x\",\"y\":[-0.935389532589809],\"yaxis\":\"y\",\"type\":\"scatter\"},{\"hovertemplate\":\"country=Mozambique<br>Tot\\u00a0Cases/1M pop=%{x}<br>gdp 2020=%{y}<extra></extra>\",\"legendgroup\":\"Mozambique\",\"marker\":{\"color\":\"#19d3f3\",\"symbol\":\"circle\"},\"mode\":\"markers\",\"name\":\"Mozambique\",\"orientation\":\"v\",\"showlegend\":true,\"x\":[6970.0],\"xaxis\":\"x\",\"y\":[-1.23390571070034],\"yaxis\":\"y\",\"type\":\"scatter\"},{\"hovertemplate\":\"country=Uzbekistan<br>Tot\\u00a0Cases/1M pop=%{x}<br>gdp 2020=%{y}<extra></extra>\",\"legendgroup\":\"Uzbekistan\",\"marker\":{\"color\":\"#FF6692\",\"symbol\":\"circle\"},\"mode\":\"markers\",\"name\":\"Uzbekistan\",\"orientation\":\"v\",\"showlegend\":true,\"x\":[7208.0],\"xaxis\":\"x\",\"y\":[1.71477057564864],\"yaxis\":\"y\",\"type\":\"scatter\"},{\"hovertemplate\":\"country=Cambodia<br>Tot\\u00a0Cases/1M pop=%{x}<br>gdp 2020=%{y}<extra></extra>\",\"legendgroup\":\"Cambodia\",\"marker\":{\"color\":\"#B6E880\",\"symbol\":\"circle\"},\"mode\":\"markers\",\"name\":\"Cambodia\",\"orientation\":\"v\",\"showlegend\":true,\"x\":[8054.0],\"xaxis\":\"x\",\"y\":[-3.1475890983283],\"yaxis\":\"y\",\"type\":\"scatter\"},{\"hovertemplate\":\"country=Rwanda<br>Tot\\u00a0Cases/1M pop=%{x}<br>gdp 2020=%{y}<extra></extra>\",\"legendgroup\":\"Rwanda\",\"marker\":{\"color\":\"#FF97FF\",\"symbol\":\"circle\"},\"mode\":\"markers\",\"name\":\"Rwanda\",\"orientation\":\"v\",\"showlegend\":true,\"x\":[9765.0],\"xaxis\":\"x\",\"y\":[-3.35547212198846],\"yaxis\":\"y\",\"type\":\"scatter\"},{\"hovertemplate\":\"country=Comoros<br>Tot\\u00a0Cases/1M pop=%{x}<br>gdp 2020=%{y}<extra></extra>\",\"legendgroup\":\"Comoros\",\"marker\":{\"color\":\"#FECB52\",\"symbol\":\"circle\"},\"mode\":\"markers\",\"name\":\"Comoros\",\"orientation\":\"v\",\"showlegend\":true,\"x\":[9893.0],\"xaxis\":\"x\",\"y\":[-0.128835487587722],\"yaxis\":\"y\",\"type\":\"scatter\"},{\"hovertemplate\":\"country=Myanmar<br>Tot\\u00a0Cases/1M pop=%{x}<br>gdp 2020=%{y}<extra></extra>\",\"legendgroup\":\"Myanmar\",\"marker\":{\"color\":\"#636efa\",\"symbol\":\"circle\"},\"mode\":\"markers\",\"name\":\"Myanmar\",\"orientation\":\"v\",\"showlegend\":true,\"x\":[11470.0],\"xaxis\":\"x\",\"y\":[3.17377440041078],\"yaxis\":\"y\",\"type\":\"scatter\"},{\"hovertemplate\":\"country=Equatorial Guinea<br>Tot\\u00a0Cases/1M pop=%{x}<br>gdp 2020=%{y}<extra></extra>\",\"legendgroup\":\"Equatorial Guinea\",\"marker\":{\"color\":\"#EF553B\",\"symbol\":\"circle\"},\"mode\":\"markers\",\"name\":\"Equatorial Guinea\",\"orientation\":\"v\",\"showlegend\":true,\"x\":[11482.0],\"xaxis\":\"x\",\"y\":[-4.89335647440198],\"yaxis\":\"y\",\"type\":\"scatter\"},{\"hovertemplate\":\"country=Bangladesh<br>Tot\\u00a0Cases/1M pop=%{x}<br>gdp 2020=%{y}<extra></extra>\",\"legendgroup\":\"Bangladesh\",\"marker\":{\"color\":\"#00cc96\",\"symbol\":\"circle\"},\"mode\":\"markers\",\"name\":\"Bangladesh\",\"orientation\":\"v\",\"showlegend\":true,\"x\":[12132.0],\"xaxis\":\"x\",\"y\":[3.5091358821393],\"yaxis\":\"y\",\"type\":\"scatter\"},{\"hovertemplate\":\"country=Mauritania<br>Tot\\u00a0Cases/1M pop=%{x}<br>gdp 2020=%{y}<extra></extra>\",\"legendgroup\":\"Mauritania\",\"marker\":{\"color\":\"#ab63fa\",\"symbol\":\"circle\"},\"mode\":\"markers\",\"name\":\"Mauritania\",\"orientation\":\"v\",\"showlegend\":true,\"x\":[12938.0],\"xaxis\":\"x\",\"y\":[-1.76332179417277],\"yaxis\":\"y\",\"type\":\"scatter\"},{\"hovertemplate\":\"country=Djibouti<br>Tot\\u00a0Cases/1M pop=%{x}<br>gdp 2020=%{y}<extra></extra>\",\"legendgroup\":\"Djibouti\",\"marker\":{\"color\":\"#FFA15A\",\"symbol\":\"circle\"},\"mode\":\"markers\",\"name\":\"Djibouti\",\"orientation\":\"v\",\"showlegend\":true,\"x\":[15441.0],\"xaxis\":\"x\",\"y\":[0.499999999999986],\"yaxis\":\"y\",\"type\":\"scatter\"},{\"hovertemplate\":\"country=Lesotho<br>Tot\\u00a0Cases/1M pop=%{x}<br>gdp 2020=%{y}<extra></extra>\",\"legendgroup\":\"Lesotho\",\"marker\":{\"color\":\"#19d3f3\",\"symbol\":\"circle\"},\"mode\":\"markers\",\"name\":\"Lesotho\",\"orientation\":\"v\",\"showlegend\":true,\"x\":[15852.0],\"xaxis\":\"x\",\"y\":[-9.61403701940095],\"yaxis\":\"y\",\"type\":\"scatter\"},{\"hovertemplate\":\"country=Zimbabwe<br>Tot\\u00a0Cases/1M pop=%{x}<br>gdp 2020=%{y}<extra></extra>\",\"legendgroup\":\"Zimbabwe\",\"marker\":{\"color\":\"#FF6692\",\"symbol\":\"circle\"},\"mode\":\"markers\",\"name\":\"Zimbabwe\",\"orientation\":\"v\",\"showlegend\":true,\"x\":[16917.0],\"xaxis\":\"x\",\"y\":[-6.24874822378281],\"yaxis\":\"y\",\"type\":\"scatter\"},{\"hovertemplate\":\"country=Timor-Leste<br>Tot\\u00a0Cases/1M pop=%{x}<br>gdp 2020=%{y}<extra></extra>\",\"legendgroup\":\"Timor-Leste\",\"marker\":{\"color\":\"#B6E880\",\"symbol\":\"circle\"},\"mode\":\"markers\",\"name\":\"Timor-Leste\",\"orientation\":\"v\",\"showlegend\":true,\"x\":[17061.0],\"xaxis\":\"x\",\"y\":[10.37185523562],\"yaxis\":\"y\",\"type\":\"scatter\"},{\"hovertemplate\":\"country=Zambia<br>Tot\\u00a0Cases/1M pop=%{x}<br>gdp 2020=%{y}<extra></extra>\",\"legendgroup\":\"Zambia\",\"marker\":{\"color\":\"#FF97FF\",\"symbol\":\"circle\"},\"mode\":\"markers\",\"name\":\"Zambia\",\"orientation\":\"v\",\"showlegend\":true,\"x\":[17141.0],\"xaxis\":\"x\",\"y\":[-2.78505506545167],\"yaxis\":\"y\",\"type\":\"scatter\"},{\"hovertemplate\":\"country=Gabon<br>Tot\\u00a0Cases/1M pop=%{x}<br>gdp 2020=%{y}<extra></extra>\",\"legendgroup\":\"Gabon\",\"marker\":{\"color\":\"#FECB52\",\"symbol\":\"circle\"},\"mode\":\"markers\",\"name\":\"Gabon\",\"orientation\":\"v\",\"showlegend\":true,\"x\":[21005.0],\"xaxis\":\"x\",\"y\":[-1.83776092953785],\"yaxis\":\"y\",\"type\":\"scatter\"},{\"hovertemplate\":\"country=Saudi Arabia<br>Tot\\u00a0Cases/1M pop=%{x}<br>gdp 2020=%{y}<extra></extra>\",\"legendgroup\":\"Saudi Arabia\",\"marker\":{\"color\":\"#636efa\",\"symbol\":\"circle\"},\"mode\":\"markers\",\"name\":\"Saudi Arabia\",\"orientation\":\"v\",\"showlegend\":true,\"x\":[23051.0],\"xaxis\":\"x\",\"y\":[-4.10658341325225],\"yaxis\":\"y\",\"type\":\"scatter\"},{\"hovertemplate\":\"country=Indonesia<br>Tot\\u00a0Cases/1M pop=%{x}<br>gdp 2020=%{y}<extra></extra>\",\"legendgroup\":\"Indonesia\",\"marker\":{\"color\":\"#EF553B\",\"symbol\":\"circle\"},\"mode\":\"markers\",\"name\":\"Indonesia\",\"orientation\":\"v\",\"showlegend\":true,\"x\":[24003.0],\"xaxis\":\"x\",\"y\":[-2.06954349906437],\"yaxis\":\"y\",\"type\":\"scatter\"},{\"hovertemplate\":\"country=Sao Tome and Principe<br>Tot\\u00a0Cases/1M pop=%{x}<br>gdp 2020=%{y}<extra></extra>\",\"legendgroup\":\"Sao Tome and Principe\",\"marker\":{\"color\":\"#00cc96\",\"symbol\":\"circle\"},\"mode\":\"markers\",\"name\":\"Sao Tome and Principe\",\"orientation\":\"v\",\"showlegend\":true,\"x\":[27578.0],\"xaxis\":\"x\",\"y\":[3.08972555522433],\"yaxis\":\"y\",\"type\":\"scatter\"},{\"hovertemplate\":\"country=Kiribati<br>Tot\\u00a0Cases/1M pop=%{x}<br>gdp 2020=%{y}<extra></extra>\",\"legendgroup\":\"Kiribati\",\"marker\":{\"color\":\"#ab63fa\",\"symbol\":\"circle\"},\"mode\":\"markers\",\"name\":\"Kiribati\",\"orientation\":\"v\",\"showlegend\":true,\"x\":[27792.0],\"xaxis\":\"x\",\"y\":[-1.94755664673815],\"yaxis\":\"y\",\"type\":\"scatter\"},{\"hovertemplate\":\"country=El Salvador<br>Tot\\u00a0Cases/1M pop=%{x}<br>gdp 2020=%{y}<extra></extra>\",\"legendgroup\":\"El Salvador\",\"marker\":{\"color\":\"#FFA15A\",\"symbol\":\"circle\"},\"mode\":\"markers\",\"name\":\"El Salvador\",\"orientation\":\"v\",\"showlegend\":true,\"x\":[30805.0],\"xaxis\":\"x\",\"y\":[-8.5813121584968],\"yaxis\":\"y\",\"type\":\"scatter\"},{\"hovertemplate\":\"country=Sri Lanka<br>Tot\\u00a0Cases/1M pop=%{x}<br>gdp 2020=%{y}<extra></extra>\",\"legendgroup\":\"Sri Lanka\",\"marker\":{\"color\":\"#19d3f3\",\"symbol\":\"circle\"},\"mode\":\"markers\",\"name\":\"Sri Lanka\",\"orientation\":\"v\",\"showlegend\":true,\"x\":[31135.0],\"xaxis\":\"x\",\"y\":[-3.5690761372374],\"yaxis\":\"y\",\"type\":\"scatter\"},{\"hovertemplate\":\"country=India<br>Tot\\u00a0Cases/1M pop=%{x}<br>gdp 2020=%{y}<extra></extra>\",\"legendgroup\":\"India\",\"marker\":{\"color\":\"#FF6692\",\"symbol\":\"circle\"},\"mode\":\"markers\",\"name\":\"India\",\"orientation\":\"v\",\"showlegend\":true,\"x\":[31761.0],\"xaxis\":\"x\",\"y\":[-7.25175478178826],\"yaxis\":\"y\",\"type\":\"scatter\"},{\"hovertemplate\":\"country=Mauritius<br>Tot\\u00a0Cases/1M pop=%{x}<br>gdp 2020=%{y}<extra></extra>\",\"legendgroup\":\"Mauritius\",\"marker\":{\"color\":\"#B6E880\",\"symbol\":\"circle\"},\"mode\":\"markers\",\"name\":\"Mauritius\",\"orientation\":\"v\",\"showlegend\":true,\"x\":[32377.0],\"xaxis\":\"x\",\"y\":[-14.8946875651821],\"yaxis\":\"y\",\"type\":\"scatter\"},{\"hovertemplate\":\"country=Nepal<br>Tot\\u00a0Cases/1M pop=%{x}<br>gdp 2020=%{y}<extra></extra>\",\"legendgroup\":\"Nepal\",\"marker\":{\"color\":\"#FF97FF\",\"symbol\":\"circle\"},\"mode\":\"markers\",\"name\":\"Nepal\",\"orientation\":\"v\",\"showlegend\":true,\"x\":[33116.0],\"xaxis\":\"x\",\"y\":[-2.08837869543885],\"yaxis\":\"y\",\"type\":\"scatter\"},{\"hovertemplate\":\"country=Solomon Islands<br>Tot\\u00a0Cases/1M pop=%{x}<br>gdp 2020=%{y}<extra></extra>\",\"legendgroup\":\"Solomon Islands\",\"marker\":{\"color\":\"#FECB52\",\"symbol\":\"circle\"},\"mode\":\"markers\",\"name\":\"Solomon Islands\",\"orientation\":\"v\",\"showlegend\":true,\"x\":[34077.0],\"xaxis\":\"x\",\"y\":[-4.31726002703921],\"yaxis\":\"y\",\"type\":\"scatter\"},{\"hovertemplate\":\"country=Philippines<br>Tot\\u00a0Cases/1M pop=%{x}<br>gdp 2020=%{y}<extra></extra>\",\"legendgroup\":\"Philippines\",\"marker\":{\"color\":\"#636efa\",\"symbol\":\"circle\"},\"mode\":\"markers\",\"name\":\"Philippines\",\"orientation\":\"v\",\"showlegend\":true,\"x\":[35998.0],\"xaxis\":\"x\",\"y\":[-9.57302987461006],\"yaxis\":\"y\",\"type\":\"scatter\"},{\"hovertemplate\":\"country=Vanuatu<br>Tot\\u00a0Cases/1M pop=%{x}<br>gdp 2020=%{y}<extra></extra>\",\"legendgroup\":\"Vanuatu\",\"marker\":{\"color\":\"#EF553B\",\"symbol\":\"circle\"},\"mode\":\"markers\",\"name\":\"Vanuatu\",\"orientation\":\"v\",\"showlegend\":true,\"x\":[37137.0],\"xaxis\":\"x\",\"y\":[-6.81399113238088],\"yaxis\":\"y\",\"type\":\"scatter\"},{\"hovertemplate\":\"country=Honduras<br>Tot\\u00a0Cases/1M pop=%{x}<br>gdp 2020=%{y}<extra></extra>\",\"legendgroup\":\"Honduras\",\"marker\":{\"color\":\"#00cc96\",\"symbol\":\"circle\"},\"mode\":\"markers\",\"name\":\"Honduras\",\"orientation\":\"v\",\"showlegend\":true,\"x\":[44899.0],\"xaxis\":\"x\",\"y\":[-8.96476018404584],\"yaxis\":\"y\",\"type\":\"scatter\"},{\"hovertemplate\":\"country=Jamaica<br>Tot\\u00a0Cases/1M pop=%{x}<br>gdp 2020=%{y}<extra></extra>\",\"legendgroup\":\"Jamaica\",\"marker\":{\"color\":\"#ab63fa\",\"symbol\":\"circle\"},\"mode\":\"markers\",\"name\":\"Jamaica\",\"orientation\":\"v\",\"showlegend\":true,\"x\":[51093.0],\"xaxis\":\"x\",\"y\":[-10.0],\"yaxis\":\"y\",\"type\":\"scatter\"},{\"hovertemplate\":\"country=Mexico<br>Tot\\u00a0Cases/1M pop=%{x}<br>gdp 2020=%{y}<extra></extra>\",\"legendgroup\":\"Mexico\",\"marker\":{\"color\":\"#FFA15A\",\"symbol\":\"circle\"},\"mode\":\"markers\",\"name\":\"Mexico\",\"orientation\":\"v\",\"showlegend\":true,\"x\":[54398.0],\"xaxis\":\"x\",\"y\":[-8.30903465889521],\"yaxis\":\"y\",\"type\":\"scatter\"},{\"hovertemplate\":\"country=Ecuador<br>Tot\\u00a0Cases/1M pop=%{x}<br>gdp 2020=%{y}<extra></extra>\",\"legendgroup\":\"Ecuador\",\"marker\":{\"color\":\"#19d3f3\",\"symbol\":\"circle\"},\"mode\":\"markers\",\"name\":\"Ecuador\",\"orientation\":\"v\",\"showlegend\":true,\"x\":[55822.0],\"xaxis\":\"x\",\"y\":[-7.75012337710913],\"yaxis\":\"y\",\"type\":\"scatter\"},{\"hovertemplate\":\"country=Iraq<br>Tot\\u00a0Cases/1M pop=%{x}<br>gdp 2020=%{y}<extra></extra>\",\"legendgroup\":\"Iraq\",\"marker\":{\"color\":\"#FF6692\",\"symbol\":\"circle\"},\"mode\":\"markers\",\"name\":\"Iraq\",\"orientation\":\"v\",\"showlegend\":true,\"x\":[58446.0],\"xaxis\":\"x\",\"y\":[-15.6730927866074],\"yaxis\":\"y\",\"type\":\"scatter\"},{\"hovertemplate\":\"country=Dominican Republic<br>Tot\\u00a0Cases/1M pop=%{x}<br>gdp 2020=%{y}<extra></extra>\",\"legendgroup\":\"Dominican Republic\",\"marker\":{\"color\":\"#B6E880\",\"symbol\":\"circle\"},\"mode\":\"markers\",\"name\":\"Dominican Republic\",\"orientation\":\"v\",\"showlegend\":true,\"x\":[58879.0],\"xaxis\":\"x\",\"y\":[-6.72023937283404],\"yaxis\":\"y\",\"type\":\"scatter\"},{\"hovertemplate\":\"country=Eswatini<br>Tot\\u00a0Cases/1M pop=%{x}<br>gdp 2020=%{y}<extra></extra>\",\"legendgroup\":\"Eswatini\",\"marker\":{\"color\":\"#FF97FF\",\"symbol\":\"circle\"},\"mode\":\"markers\",\"name\":\"Eswatini\",\"orientation\":\"v\",\"showlegend\":true,\"x\":[62379.0],\"xaxis\":\"x\",\"y\":[-1.85052471016712],\"yaxis\":\"y\",\"type\":\"scatter\"},{\"hovertemplate\":\"country=Guatemala<br>Tot\\u00a0Cases/1M pop=%{x}<br>gdp 2020=%{y}<extra></extra>\",\"legendgroup\":\"Guatemala\",\"marker\":{\"color\":\"#FECB52\",\"symbol\":\"circle\"},\"mode\":\"markers\",\"name\":\"Guatemala\",\"orientation\":\"v\",\"showlegend\":true,\"x\":[63039.0],\"xaxis\":\"x\",\"y\":[-1.51932802919289],\"yaxis\":\"y\",\"type\":\"scatter\"},{\"hovertemplate\":\"country=Namibia<br>Tot\\u00a0Cases/1M pop=%{x}<br>gdp 2020=%{y}<extra></extra>\",\"legendgroup\":\"Namibia\",\"marker\":{\"color\":\"#636efa\",\"symbol\":\"circle\"},\"mode\":\"markers\",\"name\":\"Namibia\",\"orientation\":\"v\",\"showlegend\":true,\"x\":[64523.0],\"xaxis\":\"x\",\"y\":[-8.50014903765293],\"yaxis\":\"y\",\"type\":\"scatter\"},{\"hovertemplate\":\"country=South Africa<br>Tot\\u00a0Cases/1M pop=%{x}<br>gdp 2020=%{y}<extra></extra>\",\"legendgroup\":\"South Africa\",\"marker\":{\"color\":\"#EF553B\",\"symbol\":\"circle\"},\"mode\":\"markers\",\"name\":\"South Africa\",\"orientation\":\"v\",\"showlegend\":true,\"x\":[66582.0],\"xaxis\":\"x\",\"y\":[-6.43197482605483],\"yaxis\":\"y\",\"type\":\"scatter\"},{\"hovertemplate\":\"country=Thailand<br>Tot\\u00a0Cases/1M pop=%{x}<br>gdp 2020=%{y}<extra></extra>\",\"legendgroup\":\"Thailand\",\"marker\":{\"color\":\"#00cc96\",\"symbol\":\"circle\"},\"mode\":\"markers\",\"name\":\"Thailand\",\"orientation\":\"v\",\"showlegend\":true,\"x\":[67289.0],\"xaxis\":\"x\",\"y\":[-6.09898384267129],\"yaxis\":\"y\",\"type\":\"scatter\"},{\"hovertemplate\":\"country=Libya<br>Tot\\u00a0Cases/1M pop=%{x}<br>gdp 2020=%{y}<extra></extra>\",\"legendgroup\":\"Libya\",\"marker\":{\"color\":\"#ab63fa\",\"symbol\":\"circle\"},\"mode\":\"markers\",\"name\":\"Libya\",\"orientation\":\"v\",\"showlegend\":true,\"x\":[72024.0],\"xaxis\":\"x\",\"y\":[-31.3000000487945],\"yaxis\":\"y\",\"type\":\"scatter\"},{\"hovertemplate\":\"country=Kazakhstan<br>Tot\\u00a0Cases/1M pop=%{x}<br>gdp 2020=%{y}<extra></extra>\",\"legendgroup\":\"Kazakhstan\",\"marker\":{\"color\":\"#FFA15A\",\"symbol\":\"circle\"},\"mode\":\"markers\",\"name\":\"Kazakhstan\",\"orientation\":\"v\",\"showlegend\":true,\"x\":[72836.0],\"xaxis\":\"x\",\"y\":[-2.5],\"yaxis\":\"y\",\"type\":\"scatter\"},{\"hovertemplate\":\"country=Oman<br>Tot\\u00a0Cases/1M pop=%{x}<br>gdp 2020=%{y}<extra></extra>\",\"legendgroup\":\"Oman\",\"marker\":{\"color\":\"#19d3f3\",\"symbol\":\"circle\"},\"mode\":\"markers\",\"name\":\"Oman\",\"orientation\":\"v\",\"showlegend\":true,\"x\":[74966.0],\"xaxis\":\"x\",\"y\":[-3.2009359899042],\"yaxis\":\"y\",\"type\":\"scatter\"},{\"hovertemplate\":\"country=Fiji<br>Tot\\u00a0Cases/1M pop=%{x}<br>gdp 2020=%{y}<extra></extra>\",\"legendgroup\":\"Fiji\",\"marker\":{\"color\":\"#FF6692\",\"symbol\":\"circle\"},\"mode\":\"markers\",\"name\":\"Fiji\",\"orientation\":\"v\",\"showlegend\":true,\"x\":[75265.0],\"xaxis\":\"x\",\"y\":[-15.7118039805906],\"yaxis\":\"y\",\"type\":\"scatter\"},{\"hovertemplate\":\"country=Samoa<br>Tot\\u00a0Cases/1M pop=%{x}<br>gdp 2020=%{y}<extra></extra>\",\"legendgroup\":\"Samoa\",\"marker\":{\"color\":\"#B6E880\",\"symbol\":\"circle\"},\"mode\":\"markers\",\"name\":\"Samoa\",\"orientation\":\"v\",\"showlegend\":true,\"x\":[78951.0],\"xaxis\":\"x\",\"y\":[-2.59260829960374],\"yaxis\":\"y\",\"type\":\"scatter\"},{\"hovertemplate\":\"country=Azerbaijan<br>Tot\\u00a0Cases/1M pop=%{x}<br>gdp 2020=%{y}<extra></extra>\",\"legendgroup\":\"Azerbaijan\",\"marker\":{\"color\":\"#FF97FF\",\"symbol\":\"circle\"},\"mode\":\"markers\",\"name\":\"Azerbaijan\",\"orientation\":\"v\",\"showlegend\":true,\"x\":[80084.0],\"xaxis\":\"x\",\"y\":[-4.29999999999997],\"yaxis\":\"y\",\"type\":\"scatter\"},{\"hovertemplate\":\"country=World<br>Tot\\u00a0Cases/1M pop=%{x}<br>gdp 2020=%{y}<extra></extra>\",\"legendgroup\":\"World\",\"marker\":{\"color\":\"#FECB52\",\"symbol\":\"circle\"},\"mode\":\"markers\",\"name\":\"World\",\"orientation\":\"v\",\"showlegend\":true,\"x\":[83898.0],\"xaxis\":\"x\",\"y\":[-3.29349659895067],\"yaxis\":\"y\",\"type\":\"scatter\"},{\"hovertemplate\":\"country=Guyana<br>Tot\\u00a0Cases/1M pop=%{x}<br>gdp 2020=%{y}<extra></extra>\",\"legendgroup\":\"Guyana\",\"marker\":{\"color\":\"#636efa\",\"symbol\":\"circle\"},\"mode\":\"markers\",\"name\":\"Guyana\",\"orientation\":\"v\",\"showlegend\":true,\"x\":[90363.0],\"xaxis\":\"x\",\"y\":[43.4795559399402],\"yaxis\":\"y\",\"type\":\"scatter\"},{\"hovertemplate\":\"country=Antigua and Barbuda<br>Tot\\u00a0Cases/1M pop=%{x}<br>gdp 2020=%{y}<extra></extra>\",\"legendgroup\":\"Antigua and Barbuda\",\"marker\":{\"color\":\"#EF553B\",\"symbol\":\"circle\"},\"mode\":\"markers\",\"name\":\"Antigua and Barbuda\",\"orientation\":\"v\",\"showlegend\":true,\"x\":[91509.0],\"xaxis\":\"x\",\"y\":[-20.1923705722071],\"yaxis\":\"y\",\"type\":\"scatter\"},{\"hovertemplate\":\"country=Bolivia<br>Tot\\u00a0Cases/1M pop=%{x}<br>gdp 2020=%{y}<extra></extra>\",\"legendgroup\":\"Bolivia\",\"marker\":{\"color\":\"#00cc96\",\"symbol\":\"circle\"},\"mode\":\"markers\",\"name\":\"Bolivia\",\"orientation\":\"v\",\"showlegend\":true,\"x\":[93300.0],\"xaxis\":\"x\",\"y\":[-8.82949361965127],\"yaxis\":\"y\",\"type\":\"scatter\"},{\"hovertemplate\":\"country=Tunisia<br>Tot\\u00a0Cases/1M pop=%{x}<br>gdp 2020=%{y}<extra></extra>\",\"legendgroup\":\"Tunisia\",\"marker\":{\"color\":\"#ab63fa\",\"symbol\":\"circle\"},\"mode\":\"markers\",\"name\":\"Tunisia\",\"orientation\":\"v\",\"showlegend\":true,\"x\":[95225.0],\"xaxis\":\"x\",\"y\":[-9.18237259399903],\"yaxis\":\"y\",\"type\":\"scatter\"},{\"hovertemplate\":\"country=Belarus<br>Tot\\u00a0Cases/1M pop=%{x}<br>gdp 2020=%{y}<extra></extra>\",\"legendgroup\":\"Belarus\",\"marker\":{\"color\":\"#FFA15A\",\"symbol\":\"circle\"},\"mode\":\"markers\",\"name\":\"Belarus\",\"orientation\":\"v\",\"showlegend\":true,\"x\":[105381.0],\"xaxis\":\"x\",\"y\":[-0.900000000246891],\"yaxis\":\"y\",\"type\":\"scatter\"},{\"hovertemplate\":\"country=Paraguay<br>Tot\\u00a0Cases/1M pop=%{x}<br>gdp 2020=%{y}<extra></extra>\",\"legendgroup\":\"Paraguay\",\"marker\":{\"color\":\"#19d3f3\",\"symbol\":\"circle\"},\"mode\":\"markers\",\"name\":\"Paraguay\",\"orientation\":\"v\",\"showlegend\":true,\"x\":[106613.0],\"xaxis\":\"x\",\"y\":[-0.565695446951935],\"yaxis\":\"y\",\"type\":\"scatter\"},{\"hovertemplate\":\"country=Cabo Verde<br>Tot\\u00a0Cases/1M pop=%{x}<br>gdp 2020=%{y}<extra></extra>\",\"legendgroup\":\"Cabo Verde\",\"marker\":{\"color\":\"#FF6692\",\"symbol\":\"circle\"},\"mode\":\"markers\",\"name\":\"Cabo Verde\",\"orientation\":\"v\",\"showlegend\":true,\"x\":[111207.0],\"xaxis\":\"x\",\"y\":[-14.7834050101145],\"yaxis\":\"y\",\"type\":\"scatter\"},{\"hovertemplate\":\"country=Canada<br>Tot\\u00a0Cases/1M pop=%{x}<br>gdp 2020=%{y}<extra></extra>\",\"legendgroup\":\"Canada\",\"marker\":{\"color\":\"#B6E880\",\"symbol\":\"circle\"},\"mode\":\"markers\",\"name\":\"Canada\",\"orientation\":\"v\",\"showlegend\":true,\"x\":[115218.0],\"xaxis\":\"x\",\"y\":[-5.23302430280606],\"yaxis\":\"y\",\"type\":\"scatter\"},{\"hovertemplate\":\"country=Albania<br>Tot\\u00a0Cases/1M pop=%{x}<br>gdp 2020=%{y}<extra></extra>\",\"legendgroup\":\"Albania\",\"marker\":{\"color\":\"#FF97FF\",\"symbol\":\"circle\"},\"mode\":\"markers\",\"name\":\"Albania\",\"orientation\":\"v\",\"showlegend\":true,\"x\":[116361.0],\"xaxis\":\"x\",\"y\":[-3.95539792669307],\"yaxis\":\"y\",\"type\":\"scatter\"},{\"hovertemplate\":\"country=Vietnam<br>Tot\\u00a0Cases/1M pop=%{x}<br>gdp 2020=%{y}<extra></extra>\",\"legendgroup\":\"Vietnam\",\"marker\":{\"color\":\"#FECB52\",\"symbol\":\"circle\"},\"mode\":\"markers\",\"name\":\"Vietnam\",\"orientation\":\"v\",\"showlegend\":true,\"x\":[116429.0],\"xaxis\":\"x\",\"y\":[2.9058355842084],\"yaxis\":\"y\",\"type\":\"scatter\"},{\"hovertemplate\":\"country=Colombia<br>Tot\\u00a0Cases/1M pop=%{x}<br>gdp 2020=%{y}<extra></extra>\",\"legendgroup\":\"Colombia\",\"marker\":{\"color\":\"#636efa\",\"symbol\":\"circle\"},\"mode\":\"markers\",\"name\":\"Colombia\",\"orientation\":\"v\",\"showlegend\":true,\"x\":[122753.0],\"xaxis\":\"x\",\"y\":[-6.79575810693639],\"yaxis\":\"y\",\"type\":\"scatter\"},{\"hovertemplate\":\"country=Bosnia and Herzegovina<br>Tot\\u00a0Cases/1M pop=%{x}<br>gdp 2020=%{y}<extra></extra>\",\"legendgroup\":\"Bosnia and Herzegovina\",\"marker\":{\"color\":\"#EF553B\",\"symbol\":\"circle\"},\"mode\":\"markers\",\"name\":\"Bosnia and Herzegovina\",\"orientation\":\"v\",\"showlegend\":true,\"x\":[123318.0],\"xaxis\":\"x\",\"y\":[-3.19695013403583],\"yaxis\":\"y\",\"type\":\"scatter\"},{\"hovertemplate\":\"country=Ukraine<br>Tot\\u00a0Cases/1M pop=%{x}<br>gdp 2020=%{y}<extra></extra>\",\"legendgroup\":\"Ukraine\",\"marker\":{\"color\":\"#00cc96\",\"symbol\":\"circle\"},\"mode\":\"markers\",\"name\":\"Ukraine\",\"orientation\":\"v\",\"showlegend\":true,\"x\":[123775.0],\"xaxis\":\"x\",\"y\":[-4.00000610071135],\"yaxis\":\"y\",\"type\":\"scatter\"},{\"hovertemplate\":\"country=Peru<br>Tot\\u00a0Cases/1M pop=%{x}<br>gdp 2020=%{y}<extra></extra>\",\"legendgroup\":\"Peru\",\"marker\":{\"color\":\"#ab63fa\",\"symbol\":\"circle\"},\"mode\":\"markers\",\"name\":\"Peru\",\"orientation\":\"v\",\"showlegend\":true,\"x\":[129414.0],\"xaxis\":\"x\",\"y\":[-11.1488118768393],\"yaxis\":\"y\",\"type\":\"scatter\"},{\"hovertemplate\":\"country=Trinidad and Tobago<br>Tot\\u00a0Cases/1M pop=%{x}<br>gdp 2020=%{y}<extra></extra>\",\"legendgroup\":\"Trinidad and Tobago\",\"marker\":{\"color\":\"#FFA15A\",\"symbol\":\"circle\"},\"mode\":\"markers\",\"name\":\"Trinidad and Tobago\",\"orientation\":\"v\",\"showlegend\":true,\"x\":[131900.0],\"xaxis\":\"x\",\"y\":[-7.85393994847536],\"yaxis\":\"y\",\"type\":\"scatter\"},{\"hovertemplate\":\"country=Botswana<br>Tot\\u00a0Cases/1M pop=%{x}<br>gdp 2020=%{y}<extra></extra>\",\"legendgroup\":\"Botswana\",\"marker\":{\"color\":\"#19d3f3\",\"symbol\":\"circle\"},\"mode\":\"markers\",\"name\":\"Botswana\",\"orientation\":\"v\",\"showlegend\":true,\"x\":[133871.0],\"xaxis\":\"x\",\"y\":[-8.49289351078259],\"yaxis\":\"y\",\"type\":\"scatter\"},{\"hovertemplate\":\"country=Suriname<br>Tot\\u00a0Cases/1M pop=%{x}<br>gdp 2020=%{y}<extra></extra>\",\"legendgroup\":\"Suriname\",\"marker\":{\"color\":\"#FF6692\",\"symbol\":\"circle\"},\"mode\":\"markers\",\"name\":\"Suriname\",\"orientation\":\"v\",\"showlegend\":true,\"x\":[136690.0],\"xaxis\":\"x\",\"y\":[-15.9079511896139],\"yaxis\":\"y\",\"type\":\"scatter\"},{\"hovertemplate\":\"country=Armenia<br>Tot\\u00a0Cases/1M pop=%{x}<br>gdp 2020=%{y}<extra></extra>\",\"legendgroup\":\"Armenia\",\"marker\":{\"color\":\"#B6E880\",\"symbol\":\"circle\"},\"mode\":\"markers\",\"name\":\"Armenia\",\"orientation\":\"v\",\"showlegend\":true,\"x\":[150011.0],\"xaxis\":\"x\",\"y\":[-7.40000000000001],\"yaxis\":\"y\",\"type\":\"scatter\"},{\"hovertemplate\":\"country=Malaysia<br>Tot\\u00a0Cases/1M pop=%{x}<br>gdp 2020=%{y}<extra></extra>\",\"legendgroup\":\"Malaysia\",\"marker\":{\"color\":\"#FF97FF\",\"symbol\":\"circle\"},\"mode\":\"markers\",\"name\":\"Malaysia\",\"orientation\":\"v\",\"showlegend\":true,\"x\":[151033.0],\"xaxis\":\"x\",\"y\":[-5.64694483644712],\"yaxis\":\"y\",\"type\":\"scatter\"},{\"hovertemplate\":\"country=Kuwait<br>Tot\\u00a0Cases/1M pop=%{x}<br>gdp 2020=%{y}<extra></extra>\",\"legendgroup\":\"Kuwait\",\"marker\":{\"color\":\"#FECB52\",\"symbol\":\"circle\"},\"mode\":\"markers\",\"name\":\"Kuwait\",\"orientation\":\"v\",\"showlegend\":true,\"x\":[151301.0],\"xaxis\":\"x\",\"y\":[-8.6852616529353],\"yaxis\":\"y\",\"type\":\"scatter\"},{\"hovertemplate\":\"country=Qatar<br>Tot\\u00a0Cases/1M pop=%{x}<br>gdp 2020=%{y}<extra></extra>\",\"legendgroup\":\"Qatar\",\"marker\":{\"color\":\"#636efa\",\"symbol\":\"circle\"},\"mode\":\"markers\",\"name\":\"Qatar\",\"orientation\":\"v\",\"showlegend\":true,\"x\":[162481.0],\"xaxis\":\"x\",\"y\":[-3.55760399909461],\"yaxis\":\"y\",\"type\":\"scatter\"},{\"hovertemplate\":\"country=Brazil<br>Tot\\u00a0Cases/1M pop=%{x}<br>gdp 2020=%{y}<extra></extra>\",\"legendgroup\":\"Brazil\",\"marker\":{\"color\":\"#EF553B\",\"symbol\":\"circle\"},\"mode\":\"markers\",\"name\":\"Brazil\",\"orientation\":\"v\",\"showlegend\":true,\"x\":[165382.0],\"xaxis\":\"x\",\"y\":[-4.05904827267271],\"yaxis\":\"y\",\"type\":\"scatter\"},{\"hovertemplate\":\"country=North Macedonia<br>Tot\\u00a0Cases/1M pop=%{x}<br>gdp 2020=%{y}<extra></extra>\",\"legendgroup\":\"North Macedonia\",\"marker\":{\"color\":\"#00cc96\",\"symbol\":\"circle\"},\"mode\":\"markers\",\"name\":\"North Macedonia\",\"orientation\":\"v\",\"showlegend\":true,\"x\":[165794.0],\"xaxis\":\"x\",\"y\":[-5.20844405705904],\"yaxis\":\"y\",\"type\":\"scatter\"},{\"hovertemplate\":\"country=Belize<br>Tot\\u00a0Cases/1M pop=%{x}<br>gdp 2020=%{y}<extra></extra>\",\"legendgroup\":\"Belize\",\"marker\":{\"color\":\"#ab63fa\",\"symbol\":\"circle\"},\"mode\":\"markers\",\"name\":\"Belize\",\"orientation\":\"v\",\"showlegend\":true,\"x\":[167682.0],\"xaxis\":\"x\",\"y\":[-14.0105321507761],\"yaxis\":\"y\",\"type\":\"scatter\"},{\"hovertemplate\":\"country=Poland<br>Tot\\u00a0Cases/1M pop=%{x}<br>gdp 2020=%{y}<extra></extra>\",\"legendgroup\":\"Poland\",\"marker\":{\"color\":\"#FFA15A\",\"symbol\":\"circle\"},\"mode\":\"markers\",\"name\":\"Poland\",\"orientation\":\"v\",\"showlegend\":true,\"x\":[168461.0],\"xaxis\":\"x\",\"y\":[-2.5406586820496],\"yaxis\":\"y\",\"type\":\"scatter\"},{\"hovertemplate\":\"country=Jordan<br>Tot\\u00a0Cases/1M pop=%{x}<br>gdp 2020=%{y}<extra></extra>\",\"legendgroup\":\"Jordan\",\"marker\":{\"color\":\"#19d3f3\",\"symbol\":\"circle\"},\"mode\":\"markers\",\"name\":\"Jordan\",\"orientation\":\"v\",\"showlegend\":true,\"x\":[169597.0],\"xaxis\":\"x\",\"y\":[-1.55138446553204],\"yaxis\":\"y\",\"type\":\"scatter\"},{\"hovertemplate\":\"country=Grenada<br>Tot\\u00a0Cases/1M pop=%{x}<br>gdp 2020=%{y}<extra></extra>\",\"legendgroup\":\"Grenada\",\"marker\":{\"color\":\"#FF6692\",\"symbol\":\"circle\"},\"mode\":\"markers\",\"name\":\"Grenada\",\"orientation\":\"v\",\"showlegend\":true,\"x\":[172840.0],\"xaxis\":\"x\",\"y\":[-13.7077306813298],\"yaxis\":\"y\",\"type\":\"scatter\"},{\"hovertemplate\":\"country=Romania<br>Tot\\u00a0Cases/1M pop=%{x}<br>gdp 2020=%{y}<extra></extra>\",\"legendgroup\":\"Romania\",\"marker\":{\"color\":\"#B6E880\",\"symbol\":\"circle\"},\"mode\":\"markers\",\"name\":\"Romania\",\"orientation\":\"v\",\"showlegend\":true,\"x\":[173486.0],\"xaxis\":\"x\",\"y\":[-3.93045405715536],\"yaxis\":\"y\",\"type\":\"scatter\"},{\"hovertemplate\":\"country=Lebanon<br>Tot\\u00a0Cases/1M pop=%{x}<br>gdp 2020=%{y}<extra></extra>\",\"legendgroup\":\"Lebanon\",\"marker\":{\"color\":\"#FF97FF\",\"symbol\":\"circle\"},\"mode\":\"markers\",\"name\":\"Lebanon\",\"orientation\":\"v\",\"showlegend\":true,\"x\":[182673.0],\"xaxis\":\"x\",\"y\":[-21.4642662752687],\"yaxis\":\"y\",\"type\":\"scatter\"},{\"hovertemplate\":\"country=Bulgaria<br>Tot\\u00a0Cases/1M pop=%{x}<br>gdp 2020=%{y}<extra></extra>\",\"legendgroup\":\"Bulgaria\",\"marker\":{\"color\":\"#FECB52\",\"symbol\":\"circle\"},\"mode\":\"markers\",\"name\":\"Bulgaria\",\"orientation\":\"v\",\"showlegend\":true,\"x\":[188311.0],\"xaxis\":\"x\",\"y\":[-4.38714983385256],\"yaxis\":\"y\",\"type\":\"scatter\"},{\"hovertemplate\":\"country=Turkey<br>Tot\\u00a0Cases/1M pop=%{x}<br>gdp 2020=%{y}<extra></extra>\",\"legendgroup\":\"Turkey\",\"marker\":{\"color\":\"#636efa\",\"symbol\":\"circle\"},\"mode\":\"markers\",\"name\":\"Turkey\",\"orientation\":\"v\",\"showlegend\":true,\"x\":[199186.0],\"xaxis\":\"x\",\"y\":[1.79355139618684],\"yaxis\":\"y\",\"type\":\"scatter\"},{\"hovertemplate\":\"country=Japan<br>Tot\\u00a0Cases/1M pop=%{x}<br>gdp 2020=%{y}<extra></extra>\",\"legendgroup\":\"Japan\",\"marker\":{\"color\":\"#EF553B\",\"symbol\":\"circle\"},\"mode\":\"markers\",\"name\":\"Japan\",\"orientation\":\"v\",\"showlegend\":true,\"x\":[208084.0],\"xaxis\":\"x\",\"y\":[-4.58550828070608],\"yaxis\":\"y\",\"type\":\"scatter\"},{\"hovertemplate\":\"country=Argentina<br>Tot\\u00a0Cases/1M pop=%{x}<br>gdp 2020=%{y}<extra></extra>\",\"legendgroup\":\"Argentina\",\"marker\":{\"color\":\"#00cc96\",\"symbol\":\"circle\"},\"mode\":\"markers\",\"name\":\"Argentina\",\"orientation\":\"v\",\"showlegend\":true,\"x\":[212278.0],\"xaxis\":\"x\",\"y\":[-9.89526896368687],\"yaxis\":\"y\",\"type\":\"scatter\"},{\"hovertemplate\":\"country=Dominica<br>Tot\\u00a0Cases/1M pop=%{x}<br>gdp 2020=%{y}<extra></extra>\",\"legendgroup\":\"Dominica\",\"marker\":{\"color\":\"#ab63fa\",\"symbol\":\"circle\"},\"mode\":\"markers\",\"name\":\"Dominica\",\"orientation\":\"v\",\"showlegend\":true,\"x\":[217848.0],\"xaxis\":\"x\",\"y\":[-16.6049115377829],\"yaxis\":\"y\",\"type\":\"scatter\"},{\"hovertemplate\":\"country=Costa Rica<br>Tot\\u00a0Cases/1M pop=%{x}<br>gdp 2020=%{y}<extra></extra>\",\"legendgroup\":\"Costa Rica\",\"marker\":{\"color\":\"#FFA15A\",\"symbol\":\"circle\"},\"mode\":\"markers\",\"name\":\"Costa Rica\",\"orientation\":\"v\",\"showlegend\":true,\"x\":[221697.0],\"xaxis\":\"x\",\"y\":[-4.06367653504677],\"yaxis\":\"y\",\"type\":\"scatter\"},{\"hovertemplate\":\"country=Hungary<br>Tot\\u00a0Cases/1M pop=%{x}<br>gdp 2020=%{y}<extra></extra>\",\"legendgroup\":\"Hungary\",\"marker\":{\"color\":\"#19d3f3\",\"symbol\":\"circle\"},\"mode\":\"markers\",\"name\":\"Hungary\",\"orientation\":\"v\",\"showlegend\":true,\"x\":[226004.0],\"xaxis\":\"x\",\"y\":[-4.67568699324362],\"yaxis\":\"y\",\"type\":\"scatter\"},{\"hovertemplate\":\"country=Panama<br>Tot\\u00a0Cases/1M pop=%{x}<br>gdp 2020=%{y}<extra></extra>\",\"legendgroup\":\"Panama\",\"marker\":{\"color\":\"#FF6692\",\"symbol\":\"circle\"},\"mode\":\"markers\",\"name\":\"Panama\",\"orientation\":\"v\",\"showlegend\":true,\"x\":[226953.0],\"xaxis\":\"x\",\"y\":[-17.9448639999999],\"yaxis\":\"y\",\"type\":\"scatter\"},{\"hovertemplate\":\"country=Tuvalu<br>Tot\\u00a0Cases/1M pop=%{x}<br>gdp 2020=%{y}<extra></extra>\",\"legendgroup\":\"Tuvalu\",\"marker\":{\"color\":\"#B6E880\",\"symbol\":\"circle\"},\"mode\":\"markers\",\"name\":\"Tuvalu\",\"orientation\":\"v\",\"showlegend\":true,\"x\":[232471.0],\"xaxis\":\"x\",\"y\":[4.40000000000001],\"yaxis\":\"y\",\"type\":\"scatter\"},{\"hovertemplate\":\"country=Finland<br>Tot\\u00a0Cases/1M pop=%{x}<br>gdp 2020=%{y}<extra></extra>\",\"legendgroup\":\"Finland\",\"marker\":{\"color\":\"#FF97FF\",\"symbol\":\"circle\"},\"mode\":\"markers\",\"name\":\"Finland\",\"orientation\":\"v\",\"showlegend\":true,\"x\":[255251.0],\"xaxis\":\"x\",\"y\":[-2.80013589086919],\"yaxis\":\"y\",\"type\":\"scatter\"},{\"hovertemplate\":\"country=Chile<br>Tot\\u00a0Cases/1M pop=%{x}<br>gdp 2020=%{y}<extra></extra>\",\"legendgroup\":\"Chile\",\"marker\":{\"color\":\"#FECB52\",\"symbol\":\"circle\"},\"mode\":\"markers\",\"name\":\"Chile\",\"orientation\":\"v\",\"showlegend\":true,\"x\":[257720.0],\"xaxis\":\"x\",\"y\":[-5.77150166878876],\"yaxis\":\"y\",\"type\":\"scatter\"},{\"hovertemplate\":\"country=Sweden<br>Tot\\u00a0Cases/1M pop=%{x}<br>gdp 2020=%{y}<extra></extra>\",\"legendgroup\":\"Sweden\",\"marker\":{\"color\":\"#636efa\",\"symbol\":\"circle\"},\"mode\":\"markers\",\"name\":\"Sweden\",\"orientation\":\"v\",\"showlegend\":true,\"x\":[258379.0],\"xaxis\":\"x\",\"y\":[-2.94812787928382],\"yaxis\":\"y\",\"type\":\"scatter\"},{\"hovertemplate\":\"country=Malta<br>Tot\\u00a0Cases/1M pop=%{x}<br>gdp 2020=%{y}<extra></extra>\",\"legendgroup\":\"Malta\",\"marker\":{\"color\":\"#EF553B\",\"symbol\":\"circle\"},\"mode\":\"markers\",\"name\":\"Malta\",\"orientation\":\"v\",\"showlegend\":true,\"x\":[261199.0],\"xaxis\":\"x\",\"y\":[-7.00112961514149],\"yaxis\":\"y\",\"type\":\"scatter\"},{\"hovertemplate\":\"country=Norway<br>Tot\\u00a0Cases/1M pop=%{x}<br>gdp 2020=%{y}<extra></extra>\",\"legendgroup\":\"Norway\",\"marker\":{\"color\":\"#00cc96\",\"symbol\":\"circle\"},\"mode\":\"markers\",\"name\":\"Norway\",\"orientation\":\"v\",\"showlegend\":true,\"x\":[266873.0],\"xaxis\":\"x\",\"y\":[-0.717182669244792],\"yaxis\":\"y\",\"type\":\"scatter\"},{\"hovertemplate\":\"country=Serbia<br>Tot\\u00a0Cases/1M pop=%{x}<br>gdp 2020=%{y}<extra></extra>\",\"legendgroup\":\"Serbia\",\"marker\":{\"color\":\"#ab63fa\",\"symbol\":\"circle\"},\"mode\":\"markers\",\"name\":\"Serbia\",\"orientation\":\"v\",\"showlegend\":true,\"x\":[280903.0],\"xaxis\":\"x\",\"y\":[-0.94459651550703],\"yaxis\":\"y\",\"type\":\"scatter\"},{\"hovertemplate\":\"country=Uruguay<br>Tot\\u00a0Cases/1M pop=%{x}<br>gdp 2020=%{y}<extra></extra>\",\"legendgroup\":\"Uruguay\",\"marker\":{\"color\":\"#FFA15A\",\"symbol\":\"circle\"},\"mode\":\"markers\",\"name\":\"Uruguay\",\"orientation\":\"v\",\"showlegend\":true,\"x\":[284725.0],\"xaxis\":\"x\",\"y\":[-5.85872124345026],\"yaxis\":\"y\",\"type\":\"scatter\"},{\"hovertemplate\":\"country=Spain<br>Tot\\u00a0Cases/1M pop=%{x}<br>gdp 2020=%{y}<extra></extra>\",\"legendgroup\":\"Spain\",\"marker\":{\"color\":\"#19d3f3\",\"symbol\":\"circle\"},\"mode\":\"markers\",\"name\":\"Spain\",\"orientation\":\"v\",\"showlegend\":true,\"x\":[291800.0],\"xaxis\":\"x\",\"y\":[-10.8228864939664],\"yaxis\":\"y\",\"type\":\"scatter\"},{\"hovertemplate\":\"country=Mongolia<br>Tot\\u00a0Cases/1M pop=%{x}<br>gdp 2020=%{y}<extra></extra>\",\"legendgroup\":\"Mongolia\",\"marker\":{\"color\":\"#FF6692\",\"symbol\":\"circle\"},\"mode\":\"markers\",\"name\":\"Mongolia\",\"orientation\":\"v\",\"showlegend\":true,\"x\":[294249.0],\"xaxis\":\"x\",\"y\":[-4.55775197337685],\"yaxis\":\"y\",\"type\":\"scatter\"},{\"hovertemplate\":\"country=USA<br>Tot\\u00a0Cases/1M pop=%{x}<br>gdp 2020=%{y}<extra></extra>\",\"legendgroup\":\"USA\",\"marker\":{\"color\":\"#B6E880\",\"symbol\":\"circle\"},\"mode\":\"markers\",\"name\":\"USA\",\"orientation\":\"v\",\"showlegend\":true,\"x\":[302728.0],\"xaxis\":\"x\",\"y\":[-3.40459157333871],\"yaxis\":\"y\",\"type\":\"scatter\"},{\"hovertemplate\":\"country=Croatia<br>Tot\\u00a0Cases/1M pop=%{x}<br>gdp 2020=%{y}<extra></extra>\",\"legendgroup\":\"Croatia\",\"marker\":{\"color\":\"#FF97FF\",\"symbol\":\"circle\"},\"mode\":\"markers\",\"name\":\"Croatia\",\"orientation\":\"v\",\"showlegend\":true,\"x\":[309685.0],\"xaxis\":\"x\",\"y\":[-8.09976125177539],\"yaxis\":\"y\",\"type\":\"scatter\"},{\"hovertemplate\":\"country=Ireland<br>Tot\\u00a0Cases/1M pop=%{x}<br>gdp 2020=%{y}<extra></extra>\",\"legendgroup\":\"Ireland\",\"marker\":{\"color\":\"#FECB52\",\"symbol\":\"circle\"},\"mode\":\"markers\",\"name\":\"Ireland\",\"orientation\":\"v\",\"showlegend\":true,\"x\":[334757.0],\"xaxis\":\"x\",\"y\":[5.86697550911293],\"yaxis\":\"y\",\"type\":\"scatter\"},{\"hovertemplate\":\"country=Maldives<br>Tot\\u00a0Cases/1M pop=%{x}<br>gdp 2020=%{y}<extra></extra>\",\"legendgroup\":\"Maldives\",\"marker\":{\"color\":\"#636efa\",\"symbol\":\"circle\"},\"mode\":\"markers\",\"name\":\"Maldives\",\"orientation\":\"v\",\"showlegend\":true,\"x\":[343137.0],\"xaxis\":\"x\",\"y\":[-33.499902099428],\"yaxis\":\"y\",\"type\":\"scatter\"},{\"hovertemplate\":\"country=Barbados<br>Tot\\u00a0Cases/1M pop=%{x}<br>gdp 2020=%{y}<extra></extra>\",\"legendgroup\":\"Barbados\",\"marker\":{\"color\":\"#EF553B\",\"symbol\":\"circle\"},\"mode\":\"markers\",\"name\":\"Barbados\",\"orientation\":\"v\",\"showlegend\":true,\"x\":[362527.0],\"xaxis\":\"x\",\"y\":[-18.9795097037672],\"yaxis\":\"y\",\"type\":\"scatter\"},{\"hovertemplate\":\"country=Singapore<br>Tot\\u00a0Cases/1M pop=%{x}<br>gdp 2020=%{y}<extra></extra>\",\"legendgroup\":\"Singapore\",\"marker\":{\"color\":\"#00cc96\",\"symbol\":\"circle\"},\"mode\":\"markers\",\"name\":\"Singapore\",\"orientation\":\"v\",\"showlegend\":true,\"x\":[367085.0],\"xaxis\":\"x\",\"y\":[-5.39102140610559],\"yaxis\":\"y\",\"type\":\"scatter\"},{\"hovertemplate\":\"country=Bahrain<br>Tot\\u00a0Cases/1M pop=%{x}<br>gdp 2020=%{y}<extra></extra>\",\"legendgroup\":\"Bahrain\",\"marker\":{\"color\":\"#ab63fa\",\"symbol\":\"circle\"},\"mode\":\"markers\",\"name\":\"Bahrain\",\"orientation\":\"v\",\"showlegend\":true,\"x\":[390957.0],\"xaxis\":\"x\",\"y\":[-5.08518021318916],\"yaxis\":\"y\",\"type\":\"scatter\"},{\"hovertemplate\":\"country=Belgium<br>Tot\\u00a0Cases/1M pop=%{x}<br>gdp 2020=%{y}<extra></extra>\",\"legendgroup\":\"Belgium\",\"marker\":{\"color\":\"#FFA15A\",\"symbol\":\"circle\"},\"mode\":\"markers\",\"name\":\"Belgium\",\"orientation\":\"v\",\"showlegend\":true,\"x\":[398349.0],\"xaxis\":\"x\",\"y\":[-5.65965987018394],\"yaxis\":\"y\",\"type\":\"scatter\"},{\"hovertemplate\":\"country=Italy<br>Tot\\u00a0Cases/1M pop=%{x}<br>gdp 2020=%{y}<extra></extra>\",\"legendgroup\":\"Italy\",\"marker\":{\"color\":\"#19d3f3\",\"symbol\":\"circle\"},\"mode\":\"markers\",\"name\":\"Italy\",\"orientation\":\"v\",\"showlegend\":true,\"x\":[410028.0],\"xaxis\":\"x\",\"y\":[-8.93859250023444],\"yaxis\":\"y\",\"type\":\"scatter\"},{\"hovertemplate\":\"country=New Zealand<br>Tot\\u00a0Cases/1M pop=%{x}<br>gdp 2020=%{y}<extra></extra>\",\"legendgroup\":\"New Zealand\",\"marker\":{\"color\":\"#FF6692\",\"symbol\":\"circle\"},\"mode\":\"markers\",\"name\":\"New Zealand\",\"orientation\":\"v\",\"showlegend\":true,\"x\":[412332.0],\"xaxis\":\"x\",\"y\":[1.86285153314982],\"yaxis\":\"y\",\"type\":\"scatter\"},{\"hovertemplate\":\"country=Australia<br>Tot\\u00a0Cases/1M pop=%{x}<br>gdp 2020=%{y}<extra></extra>\",\"legendgroup\":\"Australia\",\"marker\":{\"color\":\"#B6E880\",\"symbol\":\"circle\"},\"mode\":\"markers\",\"name\":\"Australia\",\"orientation\":\"v\",\"showlegend\":true,\"x\":[416686.0],\"xaxis\":\"x\",\"y\":[-0.00383655856659],\"yaxis\":\"y\",\"type\":\"scatter\"},{\"hovertemplate\":\"country=Nauru<br>Tot\\u00a0Cases/1M pop=%{x}<br>gdp 2020=%{y}<extra></extra>\",\"legendgroup\":\"Nauru\",\"marker\":{\"color\":\"#FF97FF\",\"symbol\":\"circle\"},\"mode\":\"markers\",\"name\":\"Nauru\",\"orientation\":\"v\",\"showlegend\":true,\"x\":[423828.0],\"xaxis\":\"x\",\"y\":[1.14942528735634],\"yaxis\":\"y\",\"type\":\"scatter\"},{\"hovertemplate\":\"country=Germany<br>Tot\\u00a0Cases/1M pop=%{x}<br>gdp 2020=%{y}<extra></extra>\",\"legendgroup\":\"Germany\",\"marker\":{\"color\":\"#FECB52\",\"symbol\":\"circle\"},\"mode\":\"markers\",\"name\":\"Germany\",\"orientation\":\"v\",\"showlegend\":true,\"x\":[438214.0],\"xaxis\":\"x\",\"y\":[-4.56961671737398],\"yaxis\":\"y\",\"type\":\"scatter\"},{\"hovertemplate\":\"country=Montenegro<br>Tot\\u00a0Cases/1M pop=%{x}<br>gdp 2020=%{y}<extra></extra>\",\"legendgroup\":\"Montenegro\",\"marker\":{\"color\":\"#636efa\",\"symbol\":\"circle\"},\"mode\":\"markers\",\"name\":\"Montenegro\",\"orientation\":\"v\",\"showlegend\":true,\"x\":[452483.0],\"xaxis\":\"x\",\"y\":[-15.3068937570407],\"yaxis\":\"y\",\"type\":\"scatter\"},{\"hovertemplate\":\"country=Estonia<br>Tot\\u00a0Cases/1M pop=%{x}<br>gdp 2020=%{y}<extra></extra>\",\"legendgroup\":\"Estonia\",\"marker\":{\"color\":\"#EF553B\",\"symbol\":\"circle\"},\"mode\":\"markers\",\"name\":\"Estonia\",\"orientation\":\"v\",\"showlegend\":true,\"x\":[461279.0],\"xaxis\":\"x\",\"y\":[-2.95106931268964],\"yaxis\":\"y\",\"type\":\"scatter\"},{\"hovertemplate\":\"country=Luxembourg<br>Tot\\u00a0Cases/1M pop=%{x}<br>gdp 2020=%{y}<extra></extra>\",\"legendgroup\":\"Luxembourg\",\"marker\":{\"color\":\"#00cc96\",\"symbol\":\"circle\"},\"mode\":\"markers\",\"name\":\"Luxembourg\",\"orientation\":\"v\",\"showlegend\":true,\"x\":[463528.0],\"xaxis\":\"x\",\"y\":[-1.7762402290181],\"yaxis\":\"y\",\"type\":\"scatter\"},{\"hovertemplate\":\"country=Lithuania<br>Tot\\u00a0Cases/1M pop=%{x}<br>gdp 2020=%{y}<extra></extra>\",\"legendgroup\":\"Lithuania\",\"marker\":{\"color\":\"#ab63fa\",\"symbol\":\"circle\"},\"mode\":\"markers\",\"name\":\"Lithuania\",\"orientation\":\"v\",\"showlegend\":true,\"x\":[481129.0],\"xaxis\":\"x\",\"y\":[-0.132431460828812],\"yaxis\":\"y\",\"type\":\"scatter\"},{\"hovertemplate\":\"country=Switzerland<br>Tot\\u00a0Cases/1M pop=%{x}<br>gdp 2020=%{y}<extra></extra>\",\"legendgroup\":\"Switzerland\",\"marker\":{\"color\":\"#FFA15A\",\"symbol\":\"circle\"},\"mode\":\"markers\",\"name\":\"Switzerland\",\"orientation\":\"v\",\"showlegend\":true,\"x\":[494152.0],\"xaxis\":\"x\",\"y\":[-2.39282604159746],\"yaxis\":\"y\",\"type\":\"scatter\"},{\"hovertemplate\":\"country=Netherlands<br>Tot\\u00a0Cases/1M pop=%{x}<br>gdp 2020=%{y}<extra></extra>\",\"legendgroup\":\"Netherlands\",\"marker\":{\"color\":\"#19d3f3\",\"symbol\":\"circle\"},\"mode\":\"markers\",\"name\":\"Netherlands\",\"orientation\":\"v\",\"showlegend\":true,\"x\":[496780.0],\"xaxis\":\"x\",\"y\":[-3.79863599268334],\"yaxis\":\"y\",\"type\":\"scatter\"},{\"hovertemplate\":\"country=Seychelles<br>Tot\\u00a0Cases/1M pop=%{x}<br>gdp 2020=%{y}<extra></extra>\",\"legendgroup\":\"Seychelles\",\"marker\":{\"color\":\"#FF6692\",\"symbol\":\"circle\"},\"mode\":\"markers\",\"name\":\"Seychelles\",\"orientation\":\"v\",\"showlegend\":true,\"x\":[503570.0],\"xaxis\":\"x\",\"y\":[-10.7709214792022],\"yaxis\":\"y\",\"type\":\"scatter\"},{\"hovertemplate\":\"country=Israel<br>Tot\\u00a0Cases/1M pop=%{x}<br>gdp 2020=%{y}<extra></extra>\",\"legendgroup\":\"Israel\",\"marker\":{\"color\":\"#B6E880\",\"symbol\":\"circle\"},\"mode\":\"markers\",\"name\":\"Israel\",\"orientation\":\"v\",\"showlegend\":true,\"x\":[508087.0],\"xaxis\":\"x\",\"y\":[-2.15342848939964],\"yaxis\":\"y\",\"type\":\"scatter\"},{\"hovertemplate\":\"country=Latvia<br>Tot\\u00a0Cases/1M pop=%{x}<br>gdp 2020=%{y}<extra></extra>\",\"legendgroup\":\"Latvia\",\"marker\":{\"color\":\"#FF97FF\",\"symbol\":\"circle\"},\"mode\":\"markers\",\"name\":\"Latvia\",\"orientation\":\"v\",\"showlegend\":true,\"x\":[523857.0],\"xaxis\":\"x\",\"y\":[-3.61856599172043],\"yaxis\":\"y\",\"type\":\"scatter\"},{\"hovertemplate\":\"country=Greece<br>Tot\\u00a0Cases/1M pop=%{x}<br>gdp 2020=%{y}<extra></extra>\",\"legendgroup\":\"Greece\",\"marker\":{\"color\":\"#FECB52\",\"symbol\":\"circle\"},\"mode\":\"markers\",\"name\":\"Greece\",\"orientation\":\"v\",\"showlegend\":true,\"x\":[528147.0],\"xaxis\":\"x\",\"y\":[-9.01912908499726],\"yaxis\":\"y\",\"type\":\"scatter\"},{\"hovertemplate\":\"country=Denmark<br>Tot\\u00a0Cases/1M pop=%{x}<br>gdp 2020=%{y}<extra></extra>\",\"legendgroup\":\"Denmark\",\"marker\":{\"color\":\"#636efa\",\"symbol\":\"circle\"},\"mode\":\"markers\",\"name\":\"Denmark\",\"orientation\":\"v\",\"showlegend\":true,\"x\":[540655.0],\"xaxis\":\"x\",\"y\":[-2.06212495876164],\"yaxis\":\"y\",\"type\":\"scatter\"},{\"hovertemplate\":\"country=Portugal<br>Tot\\u00a0Cases/1M pop=%{x}<br>gdp 2020=%{y}<extra></extra>\",\"legendgroup\":\"Portugal\",\"marker\":{\"color\":\"#EF553B\",\"symbol\":\"circle\"},\"mode\":\"markers\",\"name\":\"Portugal\",\"orientation\":\"v\",\"showlegend\":true,\"x\":[547255.0],\"xaxis\":\"x\",\"y\":[-8.44245642824731],\"yaxis\":\"y\",\"type\":\"scatter\"},{\"hovertemplate\":\"country=France<br>Tot\\u00a0Cases/1M pop=%{x}<br>gdp 2020=%{y}<extra></extra>\",\"legendgroup\":\"France\",\"marker\":{\"color\":\"#00cc96\",\"symbol\":\"circle\"},\"mode\":\"markers\",\"name\":\"France\",\"orientation\":\"v\",\"showlegend\":true,\"x\":[587268.0],\"xaxis\":\"x\",\"y\":[-7.85525603703762],\"yaxis\":\"y\",\"type\":\"scatter\"},{\"hovertemplate\":\"country=Iceland<br>Tot\\u00a0Cases/1M pop=%{x}<br>gdp 2020=%{y}<extra></extra>\",\"legendgroup\":\"Iceland\",\"marker\":{\"color\":\"#ab63fa\",\"symbol\":\"circle\"},\"mode\":\"markers\",\"name\":\"Iceland\",\"orientation\":\"v\",\"showlegend\":true,\"x\":[600777.0],\"xaxis\":\"x\",\"y\":[-6.50391225040894],\"yaxis\":\"y\",\"type\":\"scatter\"},{\"hovertemplate\":\"country=Andorra<br>Tot\\u00a0Cases/1M pop=%{x}<br>gdp 2020=%{y}<extra></extra>\",\"legendgroup\":\"Andorra\",\"marker\":{\"color\":\"#FFA15A\",\"symbol\":\"circle\"},\"mode\":\"markers\",\"name\":\"Andorra\",\"orientation\":\"v\",\"showlegend\":true,\"x\":[612499.0],\"xaxis\":\"x\",\"y\":[-11.9526932539653],\"yaxis\":\"y\",\"type\":\"scatter\"},{\"hovertemplate\":\"country=Slovenia<br>Tot\\u00a0Cases/1M pop=%{x}<br>gdp 2020=%{y}<extra></extra>\",\"legendgroup\":\"Slovenia\",\"marker\":{\"color\":\"#19d3f3\",\"symbol\":\"circle\"},\"mode\":\"markers\",\"name\":\"Slovenia\",\"orientation\":\"v\",\"showlegend\":true,\"x\":[614114.0],\"xaxis\":\"x\",\"y\":[-4.22926138908075],\"yaxis\":\"y\",\"type\":\"scatter\"},{\"hovertemplate\":\"country=Austria<br>Tot\\u00a0Cases/1M pop=%{x}<br>gdp 2020=%{y}<extra></extra>\",\"legendgroup\":\"Austria\",\"marker\":{\"color\":\"#FF6692\",\"symbol\":\"circle\"},\"mode\":\"markers\",\"name\":\"Austria\",\"orientation\":\"v\",\"showlegend\":true,\"x\":[619116.0],\"xaxis\":\"x\",\"y\":[-6.73451407608768],\"yaxis\":\"y\",\"type\":\"scatter\"},{\"hovertemplate\":\"country=Burkina Faso<br>Tot\\u00a0Cases/1M pop=%{x}<br>gdp 2020=%{y}<extra></extra>\",\"legendgroup\":\"Burkina Faso\",\"marker\":{\"color\":\"#B6E880\",\"symbol\":\"circle\"},\"mode\":\"markers\",\"name\":\"Burkina Faso\",\"orientation\":\"v\",\"showlegend\":true,\"x\":[null],\"xaxis\":\"x\",\"y\":[1.93032488957256],\"yaxis\":\"y\",\"type\":\"scatter\"},{\"hovertemplate\":\"country=Niger<br>Tot\\u00a0Cases/1M pop=%{x}<br>gdp 2020=%{y}<extra></extra>\",\"legendgroup\":\"Niger\",\"marker\":{\"color\":\"#FF97FF\",\"symbol\":\"circle\"},\"mode\":\"markers\",\"name\":\"Niger\",\"orientation\":\"v\",\"showlegend\":true,\"x\":[null],\"xaxis\":\"x\",\"y\":[3.58000640281861],\"yaxis\":\"y\",\"type\":\"scatter\"},{\"hovertemplate\":\"country=Sierra Leone<br>Tot\\u00a0Cases/1M pop=%{x}<br>gdp 2020=%{y}<extra></extra>\",\"legendgroup\":\"Sierra Leone\",\"marker\":{\"color\":\"#FECB52\",\"symbol\":\"circle\"},\"mode\":\"markers\",\"name\":\"Sierra Leone\",\"orientation\":\"v\",\"showlegend\":true,\"x\":[null],\"xaxis\":\"x\",\"y\":[-1.96894782045837],\"yaxis\":\"y\",\"type\":\"scatter\"},{\"hovertemplate\":\"country=Chad<br>Tot\\u00a0Cases/1M pop=%{x}<br>gdp 2020=%{y}<extra></extra>\",\"legendgroup\":\"Chad\",\"marker\":{\"color\":\"#636efa\",\"symbol\":\"circle\"},\"mode\":\"markers\",\"name\":\"Chad\",\"orientation\":\"v\",\"showlegend\":true,\"x\":[null],\"xaxis\":\"x\",\"y\":[-0.947304885424217],\"yaxis\":\"y\",\"type\":\"scatter\"},{\"hovertemplate\":\"country=China<br>Tot\\u00a0Cases/1M pop=%{x}<br>gdp 2020=%{y}<extra></extra>\",\"legendgroup\":\"China\",\"marker\":{\"color\":\"#EF553B\",\"symbol\":\"circle\"},\"mode\":\"markers\",\"name\":\"China\",\"orientation\":\"v\",\"showlegend\":true,\"x\":[null],\"xaxis\":\"x\",\"y\":[2.3475135727457],\"yaxis\":\"y\",\"type\":\"scatter\"}],                        {\"template\":{\"data\":{\"bar\":[{\"error_x\":{\"color\":\"#2a3f5f\"},\"error_y\":{\"color\":\"#2a3f5f\"},\"marker\":{\"line\":{\"color\":\"#E5ECF6\",\"width\":0.5},\"pattern\":{\"fillmode\":\"overlay\",\"size\":10,\"solidity\":0.2}},\"type\":\"bar\"}],\"barpolar\":[{\"marker\":{\"line\":{\"color\":\"#E5ECF6\",\"width\":0.5},\"pattern\":{\"fillmode\":\"overlay\",\"size\":10,\"solidity\":0.2}},\"type\":\"barpolar\"}],\"carpet\":[{\"aaxis\":{\"endlinecolor\":\"#2a3f5f\",\"gridcolor\":\"white\",\"linecolor\":\"white\",\"minorgridcolor\":\"white\",\"startlinecolor\":\"#2a3f5f\"},\"baxis\":{\"endlinecolor\":\"#2a3f5f\",\"gridcolor\":\"white\",\"linecolor\":\"white\",\"minorgridcolor\":\"white\",\"startlinecolor\":\"#2a3f5f\"},\"type\":\"carpet\"}],\"choropleth\":[{\"colorbar\":{\"outlinewidth\":0,\"ticks\":\"\"},\"type\":\"choropleth\"}],\"contour\":[{\"colorbar\":{\"outlinewidth\":0,\"ticks\":\"\"},\"colorscale\":[[0.0,\"#0d0887\"],[0.1111111111111111,\"#46039f\"],[0.2222222222222222,\"#7201a8\"],[0.3333333333333333,\"#9c179e\"],[0.4444444444444444,\"#bd3786\"],[0.5555555555555556,\"#d8576b\"],[0.6666666666666666,\"#ed7953\"],[0.7777777777777778,\"#fb9f3a\"],[0.8888888888888888,\"#fdca26\"],[1.0,\"#f0f921\"]],\"type\":\"contour\"}],\"contourcarpet\":[{\"colorbar\":{\"outlinewidth\":0,\"ticks\":\"\"},\"type\":\"contourcarpet\"}],\"heatmap\":[{\"colorbar\":{\"outlinewidth\":0,\"ticks\":\"\"},\"colorscale\":[[0.0,\"#0d0887\"],[0.1111111111111111,\"#46039f\"],[0.2222222222222222,\"#7201a8\"],[0.3333333333333333,\"#9c179e\"],[0.4444444444444444,\"#bd3786\"],[0.5555555555555556,\"#d8576b\"],[0.6666666666666666,\"#ed7953\"],[0.7777777777777778,\"#fb9f3a\"],[0.8888888888888888,\"#fdca26\"],[1.0,\"#f0f921\"]],\"type\":\"heatmap\"}],\"heatmapgl\":[{\"colorbar\":{\"outlinewidth\":0,\"ticks\":\"\"},\"colorscale\":[[0.0,\"#0d0887\"],[0.1111111111111111,\"#46039f\"],[0.2222222222222222,\"#7201a8\"],[0.3333333333333333,\"#9c179e\"],[0.4444444444444444,\"#bd3786\"],[0.5555555555555556,\"#d8576b\"],[0.6666666666666666,\"#ed7953\"],[0.7777777777777778,\"#fb9f3a\"],[0.8888888888888888,\"#fdca26\"],[1.0,\"#f0f921\"]],\"type\":\"heatmapgl\"}],\"histogram\":[{\"marker\":{\"pattern\":{\"fillmode\":\"overlay\",\"size\":10,\"solidity\":0.2}},\"type\":\"histogram\"}],\"histogram2d\":[{\"colorbar\":{\"outlinewidth\":0,\"ticks\":\"\"},\"colorscale\":[[0.0,\"#0d0887\"],[0.1111111111111111,\"#46039f\"],[0.2222222222222222,\"#7201a8\"],[0.3333333333333333,\"#9c179e\"],[0.4444444444444444,\"#bd3786\"],[0.5555555555555556,\"#d8576b\"],[0.6666666666666666,\"#ed7953\"],[0.7777777777777778,\"#fb9f3a\"],[0.8888888888888888,\"#fdca26\"],[1.0,\"#f0f921\"]],\"type\":\"histogram2d\"}],\"histogram2dcontour\":[{\"colorbar\":{\"outlinewidth\":0,\"ticks\":\"\"},\"colorscale\":[[0.0,\"#0d0887\"],[0.1111111111111111,\"#46039f\"],[0.2222222222222222,\"#7201a8\"],[0.3333333333333333,\"#9c179e\"],[0.4444444444444444,\"#bd3786\"],[0.5555555555555556,\"#d8576b\"],[0.6666666666666666,\"#ed7953\"],[0.7777777777777778,\"#fb9f3a\"],[0.8888888888888888,\"#fdca26\"],[1.0,\"#f0f921\"]],\"type\":\"histogram2dcontour\"}],\"mesh3d\":[{\"colorbar\":{\"outlinewidth\":0,\"ticks\":\"\"},\"type\":\"mesh3d\"}],\"parcoords\":[{\"line\":{\"colorbar\":{\"outlinewidth\":0,\"ticks\":\"\"}},\"type\":\"parcoords\"}],\"pie\":[{\"automargin\":true,\"type\":\"pie\"}],\"scatter\":[{\"marker\":{\"colorbar\":{\"outlinewidth\":0,\"ticks\":\"\"}},\"type\":\"scatter\"}],\"scatter3d\":[{\"line\":{\"colorbar\":{\"outlinewidth\":0,\"ticks\":\"\"}},\"marker\":{\"colorbar\":{\"outlinewidth\":0,\"ticks\":\"\"}},\"type\":\"scatter3d\"}],\"scattercarpet\":[{\"marker\":{\"colorbar\":{\"outlinewidth\":0,\"ticks\":\"\"}},\"type\":\"scattercarpet\"}],\"scattergeo\":[{\"marker\":{\"colorbar\":{\"outlinewidth\":0,\"ticks\":\"\"}},\"type\":\"scattergeo\"}],\"scattergl\":[{\"marker\":{\"colorbar\":{\"outlinewidth\":0,\"ticks\":\"\"}},\"type\":\"scattergl\"}],\"scattermapbox\":[{\"marker\":{\"colorbar\":{\"outlinewidth\":0,\"ticks\":\"\"}},\"type\":\"scattermapbox\"}],\"scatterpolar\":[{\"marker\":{\"colorbar\":{\"outlinewidth\":0,\"ticks\":\"\"}},\"type\":\"scatterpolar\"}],\"scatterpolargl\":[{\"marker\":{\"colorbar\":{\"outlinewidth\":0,\"ticks\":\"\"}},\"type\":\"scatterpolargl\"}],\"scatterternary\":[{\"marker\":{\"colorbar\":{\"outlinewidth\":0,\"ticks\":\"\"}},\"type\":\"scatterternary\"}],\"surface\":[{\"colorbar\":{\"outlinewidth\":0,\"ticks\":\"\"},\"colorscale\":[[0.0,\"#0d0887\"],[0.1111111111111111,\"#46039f\"],[0.2222222222222222,\"#7201a8\"],[0.3333333333333333,\"#9c179e\"],[0.4444444444444444,\"#bd3786\"],[0.5555555555555556,\"#d8576b\"],[0.6666666666666666,\"#ed7953\"],[0.7777777777777778,\"#fb9f3a\"],[0.8888888888888888,\"#fdca26\"],[1.0,\"#f0f921\"]],\"type\":\"surface\"}],\"table\":[{\"cells\":{\"fill\":{\"color\":\"#EBF0F8\"},\"line\":{\"color\":\"white\"}},\"header\":{\"fill\":{\"color\":\"#C8D4E3\"},\"line\":{\"color\":\"white\"}},\"type\":\"table\"}]},\"layout\":{\"annotationdefaults\":{\"arrowcolor\":\"#2a3f5f\",\"arrowhead\":0,\"arrowwidth\":1},\"autotypenumbers\":\"strict\",\"coloraxis\":{\"colorbar\":{\"outlinewidth\":0,\"ticks\":\"\"}},\"colorscale\":{\"diverging\":[[0,\"#8e0152\"],[0.1,\"#c51b7d\"],[0.2,\"#de77ae\"],[0.3,\"#f1b6da\"],[0.4,\"#fde0ef\"],[0.5,\"#f7f7f7\"],[0.6,\"#e6f5d0\"],[0.7,\"#b8e186\"],[0.8,\"#7fbc41\"],[0.9,\"#4d9221\"],[1,\"#276419\"]],\"sequential\":[[0.0,\"#0d0887\"],[0.1111111111111111,\"#46039f\"],[0.2222222222222222,\"#7201a8\"],[0.3333333333333333,\"#9c179e\"],[0.4444444444444444,\"#bd3786\"],[0.5555555555555556,\"#d8576b\"],[0.6666666666666666,\"#ed7953\"],[0.7777777777777778,\"#fb9f3a\"],[0.8888888888888888,\"#fdca26\"],[1.0,\"#f0f921\"]],\"sequentialminus\":[[0.0,\"#0d0887\"],[0.1111111111111111,\"#46039f\"],[0.2222222222222222,\"#7201a8\"],[0.3333333333333333,\"#9c179e\"],[0.4444444444444444,\"#bd3786\"],[0.5555555555555556,\"#d8576b\"],[0.6666666666666666,\"#ed7953\"],[0.7777777777777778,\"#fb9f3a\"],[0.8888888888888888,\"#fdca26\"],[1.0,\"#f0f921\"]]},\"colorway\":[\"#636efa\",\"#EF553B\",\"#00cc96\",\"#ab63fa\",\"#FFA15A\",\"#19d3f3\",\"#FF6692\",\"#B6E880\",\"#FF97FF\",\"#FECB52\"],\"font\":{\"color\":\"#2a3f5f\"},\"geo\":{\"bgcolor\":\"white\",\"lakecolor\":\"white\",\"landcolor\":\"#E5ECF6\",\"showlakes\":true,\"showland\":true,\"subunitcolor\":\"white\"},\"hoverlabel\":{\"align\":\"left\"},\"hovermode\":\"closest\",\"mapbox\":{\"style\":\"light\"},\"paper_bgcolor\":\"white\",\"plot_bgcolor\":\"#E5ECF6\",\"polar\":{\"angularaxis\":{\"gridcolor\":\"white\",\"linecolor\":\"white\",\"ticks\":\"\"},\"bgcolor\":\"#E5ECF6\",\"radialaxis\":{\"gridcolor\":\"white\",\"linecolor\":\"white\",\"ticks\":\"\"}},\"scene\":{\"xaxis\":{\"backgroundcolor\":\"#E5ECF6\",\"gridcolor\":\"white\",\"gridwidth\":2,\"linecolor\":\"white\",\"showbackground\":true,\"ticks\":\"\",\"zerolinecolor\":\"white\"},\"yaxis\":{\"backgroundcolor\":\"#E5ECF6\",\"gridcolor\":\"white\",\"gridwidth\":2,\"linecolor\":\"white\",\"showbackground\":true,\"ticks\":\"\",\"zerolinecolor\":\"white\"},\"zaxis\":{\"backgroundcolor\":\"#E5ECF6\",\"gridcolor\":\"white\",\"gridwidth\":2,\"linecolor\":\"white\",\"showbackground\":true,\"ticks\":\"\",\"zerolinecolor\":\"white\"}},\"shapedefaults\":{\"line\":{\"color\":\"#2a3f5f\"}},\"ternary\":{\"aaxis\":{\"gridcolor\":\"white\",\"linecolor\":\"white\",\"ticks\":\"\"},\"baxis\":{\"gridcolor\":\"white\",\"linecolor\":\"white\",\"ticks\":\"\"},\"bgcolor\":\"#E5ECF6\",\"caxis\":{\"gridcolor\":\"white\",\"linecolor\":\"white\",\"ticks\":\"\"}},\"title\":{\"x\":0.05},\"xaxis\":{\"automargin\":true,\"gridcolor\":\"white\",\"linecolor\":\"white\",\"ticks\":\"\",\"title\":{\"standoff\":15},\"zerolinecolor\":\"white\",\"zerolinewidth\":2},\"yaxis\":{\"automargin\":true,\"gridcolor\":\"white\",\"linecolor\":\"white\",\"ticks\":\"\",\"title\":{\"standoff\":15},\"zerolinecolor\":\"white\",\"zerolinewidth\":2}}},\"xaxis\":{\"anchor\":\"y\",\"domain\":[0.0,1.0],\"title\":{\"text\":\"Tot\\u00a0Cases/1M pop\"}},\"yaxis\":{\"anchor\":\"x\",\"domain\":[0.0,1.0],\"title\":{\"text\":\"gdp 2020\"}},\"legend\":{\"title\":{\"text\":\"country\"},\"tracegroupgap\":0},\"title\":{\"text\":\"Total Cases (Covid)/1M Population against GDP of 2020\"}},                        {\"responsive\": true}                    ).then(function(){\n",
              "                            \n",
              "var gd = document.getElementById('3459797d-ce1f-4d74-9c2e-da87c428fef8');\n",
              "var x = new MutationObserver(function (mutations, observer) {{\n",
              "        var display = window.getComputedStyle(gd).display;\n",
              "        if (!display || display === 'none') {{\n",
              "            console.log([gd, 'removed!']);\n",
              "            Plotly.purge(gd);\n",
              "            observer.disconnect();\n",
              "        }}\n",
              "}});\n",
              "\n",
              "// Listen for the removal of the full notebook cells\n",
              "var notebookContainer = gd.closest('#notebook-container');\n",
              "if (notebookContainer) {{\n",
              "    x.observe(notebookContainer, {childList: true});\n",
              "}}\n",
              "\n",
              "// Listen for the clearing of the current output cell\n",
              "var outputEl = gd.closest('.output');\n",
              "if (outputEl) {{\n",
              "    x.observe(outputEl, {childList: true});\n",
              "}}\n",
              "\n",
              "                        })                };                            </script>        </div>\n",
              "</body>\n",
              "</html>"
            ]
          },
          "metadata": {}
        }
      ]
    },
    {
      "cell_type": "markdown",
      "source": [
        "# **Analysis**"
      ],
      "metadata": {
        "id": "bYdDLMrGmV94"
      }
    },
    {
      "cell_type": "markdown",
      "source": [
        "The results of the scatter plot are surprising, to say the least. If there was a strong negative relationship between the number of COVID-19 cases and the change in GDP, the points in the scatter plot would form a line or curve that slopes downwards from left to right. This would indicate that countries with higher numbers of COVID-19 cases tend to have higher declines in GDP. However, there is no clear relationship between these two variables in the scatter plot; the points are scattered randomly without forming any clear pattern. This indicates that the number of COVID-19 cases does not have a significant effect on the change in GDP for the countries in this data.\n",
        "\n",
        "But, as we saw in the earlier bar graph, most countries definitely suffered an economic decline because of COVID-19. A scatter plot alone is not enough to determine the exact relationship between these two variables. One possible explanation for this is the spending in different economies during this time. Many countries, including the United States, increased their spending on goods, whether through welfare programs or the stock market. The stock exchange and financial markets were major factors that drove up investment during this time, which may have resulted in a relatively low decline in many economies, even though other sectors were heavily affected at the time. Other possible reasons include continuation of essential workers and services, as well as the growth of online services and remote work, whivh helped to support the economy and limit the decline in GDP during the Covid-19 pandemic. "
      ],
      "metadata": {
        "id": "30JlW19emQei"
      }
    },
    {
      "cell_type": "markdown",
      "source": [
        "# **Conclusion**"
      ],
      "metadata": {
        "id": "noaOcccUVOIe"
      }
    },
    {
      "cell_type": "markdown",
      "source": [
        "It is clear from the scatter plot that there is no strong relationship between the number of COVID-19 cases and the change in GDP for the countries in this data. This suggests that the number of COVID-19 cases alone does not have a significant effect on the change in GDP. However, it is important to note that other factors, such as government spending, the growth of online services, and the continuation of essential workers and services, may have played a role in limiting the decline in GDP in many countries. It is also possible that the scatter plot does not accurately reflect the relationship between these two variables due to the limited data available. Overall, it is difficult to determine the exact relationship between the number of COVID-19 cases and the change in GDP without further information and analysis."
      ],
      "metadata": {
        "id": "jzkuvGEuVUcC"
      }
    }
  ]
}